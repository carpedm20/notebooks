{
 "metadata": {
  "name": "",
  "signature": "sha256:7ef3044d4ed70c0f74413b961346f574651455c1848d78bd213553d1b1d00e1f"
 },
 "nbformat": 3,
 "nbformat_minor": 0,
 "worksheets": [
  {
   "cells": [
    {
     "cell_type": "code",
     "collapsed": false,
     "input": [
      "import numpy as np\n",
      "import matplotlib.pyplot as plt\n",
      "\n",
      "from __future__ import division\n",
      "\n",
      "%matplotlib inline\n",
      "%load_ext autoreload\n",
      "%autoreload 2"
     ],
     "language": "python",
     "metadata": {},
     "outputs": [
      {
       "output_type": "stream",
       "stream": "stdout",
       "text": [
        "The autoreload extension is already loaded. To reload it, use:\n",
        "  %reload_ext autoreload\n"
       ]
      }
     ],
     "prompt_number": 7
    },
    {
     "cell_type": "code",
     "collapsed": false,
     "input": [
      "import time\n",
      "import datetime\n",
      "import scipy.io\n",
      "\n",
      "start_year = 2014\n",
      "\n",
      "day = datetime.timedelta(days=1)\n",
      "\n",
      "start_date = datetime.datetime(start_year, 1, 1)\n",
      "end_date = datetime.datetime(start_year, 12, 31)\n",
      "\n",
      "mat = scipy.io.loadmat('GOOGL-%s.mat' % start_year)\n",
      "\n",
      "R = mat.get('R')\n",
      "maxes = mat.get('maxes')\n",
      "data = mat.get('X')[0]\n",
      "mat_dates = mat.get('date')[0]\n",
      "\n",
      "dates = []\n",
      "for date in mat_dates:\n",
      "    dates.append(datetime.datetime.strptime(date[0], \"%d-%b-%y\").date())"
     ],
     "language": "python",
     "metadata": {},
     "outputs": [],
     "prompt_number": 36
    },
    {
     "cell_type": "code",
     "collapsed": false,
     "input": [
      "print dates[:5]\n",
      "print dates[-5:]"
     ],
     "language": "python",
     "metadata": {},
     "outputs": [
      {
       "output_type": "stream",
       "stream": "stdout",
       "text": [
        "[datetime.date(2014, 1, 2), datetime.date(2014, 1, 3), datetime.date(2014, 1, 6), datetime.date(2014, 1, 7), datetime.date(2014, 1, 8)]\n",
        "[datetime.date(2014, 12, 24), datetime.date(2014, 12, 26), datetime.date(2014, 12, 29), datetime.date(2014, 12, 30), datetime.date(2014, 12, 31)]\n"
       ]
      }
     ],
     "prompt_number": 41
    },
    {
     "cell_type": "code",
     "collapsed": false,
     "input": [
      "import matplotlib.pyplot as plt\n",
      "import matplotlib.dates as mdates\n",
      "\n",
      "plt.gca().xaxis.set_major_formatter(mdates.DateFormatter('%m/%d/%Y'))\n",
      "plt.gca().xaxis.set_major_locator(mdates.DayLocator())\n",
      "plt.plot(dates,data)\n",
      "plt.gcf().autofmt_xdate()"
     ],
     "language": "python",
     "metadata": {},
     "outputs": [
      {
       "ename": "AttributeError",
       "evalue": "'Figure' object has no attribute 'autoscale'",
       "output_type": "pyerr",
       "traceback": [
        "\u001b[1;31m---------------------------------------------------------------------------\u001b[0m\n\u001b[1;31mAttributeError\u001b[0m                            Traceback (most recent call last)",
        "\u001b[1;32m<ipython-input-56-fd49ad58abf0>\u001b[0m in \u001b[0;36m<module>\u001b[1;34m()\u001b[0m\n\u001b[0;32m      6\u001b[0m \u001b[0mplt\u001b[0m\u001b[1;33m.\u001b[0m\u001b[0mplot\u001b[0m\u001b[1;33m(\u001b[0m\u001b[0mdates\u001b[0m\u001b[1;33m,\u001b[0m\u001b[0mdata\u001b[0m\u001b[1;33m)\u001b[0m\u001b[1;33m\u001b[0m\u001b[0m\n\u001b[0;32m      7\u001b[0m \u001b[0mplt\u001b[0m\u001b[1;33m.\u001b[0m\u001b[0mgcf\u001b[0m\u001b[1;33m(\u001b[0m\u001b[1;33m)\u001b[0m\u001b[1;33m.\u001b[0m\u001b[0mautofmt_xdate\u001b[0m\u001b[1;33m(\u001b[0m\u001b[1;33m)\u001b[0m\u001b[1;33m\u001b[0m\u001b[0m\n\u001b[1;32m----> 8\u001b[1;33m \u001b[0mplt\u001b[0m\u001b[1;33m.\u001b[0m\u001b[0mgcf\u001b[0m\u001b[1;33m(\u001b[0m\u001b[1;33m)\u001b[0m\u001b[1;33m.\u001b[0m\u001b[0mautoscale\u001b[0m\u001b[1;33m(\u001b[0m\u001b[1;33m)\u001b[0m\u001b[1;33m\u001b[0m\u001b[0m\n\u001b[0m",
        "\u001b[1;31mAttributeError\u001b[0m: 'Figure' object has no attribute 'autoscale'"
       ]
      },
      {
       "metadata": {},
       "output_type": "display_data",
       "png": "[encoded data removed]",
       "text": [
        "<matplotlib.figure.Figure at 0x7fa050661ad0>"
       ]
      }
     ],
     "prompt_number": 56
    },
    {
     "cell_type": "code",
     "collapsed": false,
     "input": [
      "import matplotlib.cm as cm\n",
      "from pylab import *\n",
      "from numpy import *\n",
      "\n",
      "import matplotlib.dates as dt\n",
      "\n",
      "fig = plt.figure(figsize=(18,16))\n",
      "\n",
      "ax1 = fig.add_subplot(2,1,1)\n",
      "fig.gca().xaxis.set_major_formatter(dt.DateFormatter('%m/%d/%Y'))\n",
      "fig.gca().xaxis.set_major_locator(dt.DayLocator())\n",
      "ax1.plot(dates, data)\n",
      "plt.gcf().autofmt_xdate()\n",
      "grid(True)\n",
      "\n",
      "changes = []\n",
      "\n",
      "for idx in xrange(1, len(maxes[:,0])-1):\n",
      "    previous = maxes[idx-1][0]\n",
      "    current = maxes[idx][0]\n",
      "    \n",
      "    if previous > current:\n",
      "        ax1.plot(idx-1,data[idx-1], 'ro')\n",
      "        changes.append(idx-1)\n",
      "        \n",
      "ax1.set_ylabel(\"Left Y-Axis Data\")\n",
      "ax1.set_xlabel(\"X-Axis Data\")\n",
      "ax1.set_title(\"Data Plotted on Left and Right Axis\")\n",
      "\n",
      "ax2 = fig.add_subplot(2, 1, 2)\n",
      "sparsity = 3\n",
      "ax2.pcolor(np.array(xrange(0, len(R[:,0]), sparsity)), \n",
      "          np.array(xrange(0, len(R[:,0]), sparsity)), \n",
      "          -np.log(R[0:-1:sparsity, 0:-1:sparsity]), \n",
      "          cmap=cm.Greys, vmin=0, vmax=1000)\n",
      "\n",
      "ax2.set_xlabel('sample')\n",
      "ax2.set_ylabel('cumulative sum')\n",
      "ax2.set_title(\"Normal distrubution\")\n",
      "\n",
      "show()"
     ],
     "language": "python",
     "metadata": {},
     "outputs": [
      {
       "metadata": {},
       "output_type": "display_data",
       "text": [
        "<matplotlib.figure.Figure at 0x7fa05b093510>"
       ]
      }
     ],
     "prompt_number": 54
    },
    {
     "cell_type": "code",
     "collapsed": false,
     "input": [
      "from glob import glob\n",
      "import json\n",
      "import re\n",
      "from datetime import datetime\n",
      "from nltk.corpus import stopwords\n",
      "import math\n",
      "\n",
      "from __future__ import division\n",
      "stops = set(stopwords.words(\"english\"))\n",
      "\n",
      "from collections import Counter\n",
      "\n",
      "files = glob('/home/carpedm20/git/i-crawl-news/crawler/bow/*.json')\n",
      "\n",
      "file_reg =  '/home/carpedm20/git/i-crawl-news/crawler/bow/google-2014-*-bow.json'\n",
      "files = glob(file_reg)\n",
      "\n",
      "training_set = files[:2]\n",
      "\n",
      "class Article(object):\n",
      "    def __init__(self, text, href, date):\n",
      "        self.text = text\n",
      "        self.href = href\n",
      "        self.date = date\n",
      "        self.tfidf = None\n",
      "        self.corpus = None\n",
      "\n",
      "articles = []\n",
      "        \n",
      "for f in training_set:\n",
      "    j = json.loads(open(f).read())\n",
      "    \n",
      "    for article in j:\n",
      "        try:\n",
      "            date = datetime.strptime(article['date'], \"%b %d, %Y\")\n",
      "        except:\n",
      "            print \"ERRR : %s\" % article['date']\n",
      "            continue\n",
      "            \n",
      "        text = article['text']\n",
      "        articles.append(Article(text, article['href'], date))"
     ],
     "language": "python",
     "metadata": {},
     "outputs": [
      {
       "output_type": "stream",
       "stream": "stdout",
       "text": [
        "ERRR : 22 hours ago\n",
        "ERRR : 22 hours ago\n",
        "ERRR : 21 hours ago\n",
        "ERRR : 20 hours ago\n"
       ]
      }
     ],
     "prompt_number": 11
    },
    {
     "cell_type": "code",
     "collapsed": false,
     "input": [
      "import re\n",
      "import nltk\n",
      "from nltk.tokenize import RegexpTokenizer\n",
      "from nltk import bigrams, trigrams\n",
      "import math\n",
      "\n",
      "from gensim import corpora, models, similarities\n",
      "\n",
      "stopwords = nltk.corpus.stopwords.words('english')\n",
      "\n",
      "print \"Texts\"\n",
      "texts = [[word for word in document.text.lower().split() if word not in stopwords] for document in articles]\n",
      "\n",
      "print \"Remove texts\"\n",
      "#import itertools\n",
      "#all_tokens = list(itertools.chain(*texts))\n",
      "#tokens_once = set(word for word in set(all_tokens) if all_tokens.count(word) == 1)\n",
      "#texts = [[word for word in text if word not in tokens_once] for text in texts]\n",
      "\n",
      "print \"Dictionary\"\n",
      "dictionary = corpora.Dictionary(texts)\n",
      "print \"Corpus\"\n",
      "corpus = [dictionary.doc2bow(t) for t in texts]\n",
      "\n",
      "tfidf = models.TfidfModel(corpus)\n",
      "corpus_tfidf = tfidf[corpus]\n",
      "\n",
      "#lsi = models.LsiModel(corpus_tfidf, id2word=dictionary, num_topics=100)\n",
      "\n",
      "print \"Finished\""
     ],
     "language": "python",
     "metadata": {},
     "outputs": [
      {
       "output_type": "stream",
       "stream": "stdout",
       "text": [
        "Texts\n",
        "Remove texts"
       ]
      },
      {
       "output_type": "stream",
       "stream": "stdout",
       "text": [
        "\n",
        "Dictionary\n",
        "Corpus"
       ]
      },
      {
       "output_type": "stream",
       "stream": "stdout",
       "text": [
        "\n",
        "Finished"
       ]
      },
      {
       "output_type": "stream",
       "stream": "stdout",
       "text": [
        "\n"
       ]
      }
     ],
     "prompt_number": 14
    },
    {
     "cell_type": "code",
     "collapsed": false,
     "input": [
      "for idx, doc in enumerate(corpus_tfidf):\n",
      "    articles[idx].tfidf = doc\n",
      "    articles[idx].corpus = corpus[idx]"
     ],
     "language": "python",
     "metadata": {},
     "outputs": [],
     "prompt_number": 15
    },
    {
     "cell_type": "code",
     "collapsed": false,
     "input": [
      "change_dates = []\n",
      "\n",
      "for change in changes:\n",
      "    change_dates.append(start_date + change * day)\n",
      "    \n",
      "print change_dates\n"
     ],
     "language": "python",
     "metadata": {},
     "outputs": [
      {
       "output_type": "stream",
       "stream": "stdout",
       "text": [
        "[datetime.datetime(2014, 1, 7, 0, 0), datetime.datetime(2014, 1, 12, 0, 0), datetime.datetime(2014, 1, 19, 0, 0), datetime.datetime(2014, 1, 21, 0, 0), datetime.datetime(2014, 1, 27, 0, 0), datetime.datetime(2014, 2, 1, 0, 0), datetime.datetime(2014, 2, 6, 0, 0), datetime.datetime(2014, 2, 13, 0, 0), datetime.datetime(2014, 2, 14, 0, 0), datetime.datetime(2014, 2, 21, 0, 0), datetime.datetime(2014, 2, 22, 0, 0), datetime.datetime(2014, 2, 23, 0, 0), datetime.datetime(2014, 3, 8, 0, 0), datetime.datetime(2014, 3, 11, 0, 0), datetime.datetime(2014, 3, 17, 0, 0), datetime.datetime(2014, 3, 21, 0, 0), datetime.datetime(2014, 3, 29, 0, 0), datetime.datetime(2014, 4, 8, 0, 0), datetime.datetime(2014, 4, 14, 0, 0), datetime.datetime(2014, 4, 19, 0, 0), datetime.datetime(2014, 4, 26, 0, 0), datetime.datetime(2014, 4, 29, 0, 0), datetime.datetime(2014, 5, 3, 0, 0), datetime.datetime(2014, 5, 5, 0, 0), datetime.datetime(2014, 5, 8, 0, 0), datetime.datetime(2014, 5, 14, 0, 0), datetime.datetime(2014, 5, 19, 0, 0), datetime.datetime(2014, 5, 24, 0, 0), datetime.datetime(2014, 6, 6, 0, 0), datetime.datetime(2014, 6, 12, 0, 0), datetime.datetime(2014, 6, 18, 0, 0), datetime.datetime(2014, 6, 19, 0, 0), datetime.datetime(2014, 6, 28, 0, 0), datetime.datetime(2014, 6, 30, 0, 0), datetime.datetime(2014, 7, 7, 0, 0), datetime.datetime(2014, 7, 10, 0, 0), datetime.datetime(2014, 7, 14, 0, 0), datetime.datetime(2014, 7, 19, 0, 0), datetime.datetime(2014, 7, 21, 0, 0), datetime.datetime(2014, 7, 30, 0, 0), datetime.datetime(2014, 8, 3, 0, 0), datetime.datetime(2014, 8, 21, 0, 0), datetime.datetime(2014, 8, 27, 0, 0), datetime.datetime(2014, 9, 3, 0, 0), datetime.datetime(2014, 9, 8, 0, 0), datetime.datetime(2014, 9, 23, 0, 0), datetime.datetime(2014, 9, 25, 0, 0)]\n"
       ]
      }
     ],
     "prompt_number": 18
    },
    {
     "cell_type": "code",
     "collapsed": false,
     "input": [
      "print(__doc__)\n",
      "\n",
      "import numpy as np\n",
      "from sklearn.svm import SVR\n",
      "import matplotlib.pyplot as plt\n",
      "\n",
      "###############################################################################\n",
      "# Generate sample data\n",
      "X = np.sort(5 * np.random.rand(40, 1), axis=0)\n",
      "y = np.sin(X).ravel()\n",
      "\n",
      "###############################################################################\n",
      "# Add noise to targets\n",
      "y[::5] += 3 * (0.5 - np.random.rand(8))\n",
      "\n",
      "###############################################################################\n",
      "# Fit regression model\n",
      "svr_rbf = SVR(kernel='rbf', C=1e3, gamma=0.1)\n",
      "svr_lin = SVR(kernel='linear', C=1e3)\n",
      "svr_poly = SVR(kernel='poly', C=1e3, degree=2)\n",
      "y_rbf = svr_rbf.fit(X, y).predict(X)\n",
      "y_lin = svr_lin.fit(X, y).predict(X)\n",
      "y_poly = svr_poly.fit(X, y).predict(X)\n",
      "\n",
      "###############################################################################\n",
      "# look at the results\n",
      "plt.scatter(X, y, c='k', label='data')\n",
      "plt.hold('on')\n",
      "plt.plot(X, y_rbf, c='g', label='RBF model')\n",
      "plt.plot(X, y_lin, c='r', label='Linear model')\n",
      "plt.plot(X, y_poly, c='b', label='Polynomial model')\n",
      "plt.xlabel('data')\n",
      "plt.ylabel('target')\n",
      "plt.title('Support Vector Regression')\n",
      "plt.legend()\n",
      "plt.show()"
     ],
     "language": "python",
     "metadata": {},
     "outputs": []
    },
    {
     "cell_type": "code",
     "collapsed": false,
     "input": [],
     "language": "python",
     "metadata": {},
     "outputs": []
    }
   ],
   "metadata": {}
  }
 ]
}