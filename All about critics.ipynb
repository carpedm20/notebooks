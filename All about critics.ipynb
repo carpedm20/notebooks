{
 "metadata": {
  "name": "",
  "signature": "sha256:a881aded070d9044091dee5b5e8f104f0ff1720e02bd62e6be3e1b3801daf700"
 },
 "nbformat": 3,
 "nbformat_minor": 0,
 "worksheets": [
  {
   "cells": [
    {
     "cell_type": "code",
     "collapsed": false,
     "input": [
      "from IPython.display import HTML\n",
      "\n",
      "import re\n",
      "import time\n",
      "import requests\n",
      "import json\n",
      "import urllib\n",
      "import pandas as pd\n",
      "from bs4 import BeautifulSoup\n",
      "\n",
      "from imdbpie import Imdb\n",
      "imdb = Imdb({'cache': True})\n",
      "imdb = Imdb({'cache': True, 'cache_dir': '/tmp/imdbpie-cache-here'})\n",
      "\n",
      "pd.set_option('display.max_colwidth', -1)\n",
      "\n",
      "def dataframe_with_link(df, col):\n",
      "    tmp = df.copy()\n",
      "    tmp[col] = tmp[col].apply(lambda x: '<a href=\"{0}\" target=\"_blank\">{0}</a>'.format(x))\n",
      "    return HTML(tmp.to_html(escape=False))\n",
      "\n",
      "get_movie = lambda movies, mid: [movie for movie in movies if movie.mid == mid]\n",
      "get_soup = lambda url: BeautifulSoup(requests.get(url).text)\n",
      "        \n",
      "CINE = \"http://www.cine21.com\"\n",
      "NAVER_INFO = \"http://movie.naver.com/movie/bi/mi/basic.nhn?code=\"\n",
      "NAVER_AUTO = \"http://auto.movie.naver.com/ac?q_enc=UTF-8&st=1&r_lt=1&n_ext=1&t_koreng=1&r_format=json&r_enc=UTF-8&r_unicode=0&r_escape=1&\""
     ],
     "language": "python",
     "metadata": {},
     "outputs": [],
     "prompt_number": 1
    },
    {
     "cell_type": "markdown",
     "metadata": {},
     "source": [
      "# \uc528\ub12421 \uc804\ubb38\uac00 20\uc790\ud3c9 \ub370\uc774\ud130\n",
      "\n",
      "http://www.cine21.com/review/review20"
     ]
    },
    {
     "cell_type": "code",
     "collapsed": false,
     "input": [
      "r = requests.get(\"http://www.cine21.com/review/review20\")\n",
      "soup = BeautifulSoup(r.text)\n",
      "\n",
      "div = soup.find('div','author_review')"
     ],
     "language": "python",
     "metadata": {},
     "outputs": [],
     "prompt_number": 2
    },
    {
     "cell_type": "code",
     "collapsed": false,
     "input": [
      "critics = [( ul.text, CINE + ul.a['href']) for ul in div.select(\"li\")]\n",
      "\n",
      "#critic_tbl = pd.DataFrame(critics, columns=['Name', 'URL'])\n",
      "critic_tbl = pd.DataFrame(critics, columns=['Name', 'URL'])[:3]\n",
      "\n",
      "dataframe_with_link(critic_tbl.head(), 'URL')"
     ],
     "language": "python",
     "metadata": {},
     "outputs": [
      {
       "html": [
        "<table border=\"1\" class=\"dataframe\">\n",
        "  <thead>\n",
        "    <tr style=\"text-align: right;\">\n",
        "      <th></th>\n",
        "      <th>Name</th>\n",
        "      <th>URL</th>\n",
        "    </tr>\n",
        "  </thead>\n",
        "  <tbody>\n",
        "    <tr>\n",
        "      <th>0</th>\n",
        "      <td> \uac15\ubcd1\uc9c4</td>\n",
        "      <td> <a href=\"http://www.cine21.com/review/review20/pre/E20041463\" target=\"_blank\">http://www.cine21.com/review/review20/pre/E20041463</a></td>\n",
        "    </tr>\n",
        "    <tr>\n",
        "      <th>1</th>\n",
        "      <td> \uac15\ud55c\uc12d</td>\n",
        "      <td> <a href=\"http://www.cine21.com/review/review20/pre/E20041369\" target=\"_blank\">http://www.cine21.com/review/review20/pre/E20041369</a></td>\n",
        "    </tr>\n",
        "    <tr>\n",
        "      <th>2</th>\n",
        "      <td> \uace0\uacbd\ud0dc</td>\n",
        "      <td> <a href=\"http://www.cine21.com/review/review20/pre/E20041570\" target=\"_blank\">http://www.cine21.com/review/review20/pre/E20041570</a></td>\n",
        "    </tr>\n",
        "  </tbody>\n",
        "</table>"
       ],
       "metadata": {},
       "output_type": "pyout",
       "prompt_number": 3,
       "text": [
        "<IPython.core.display.HTML at 0x7ff56d5ed850>"
       ]
      }
     ],
     "prompt_number": 3
    },
    {
     "cell_type": "code",
     "collapsed": false,
     "input": [
      "from sqlalchemy import create_engine\n",
      "from sqlalchemy.orm import scoped_session, sessionmaker\n",
      "from sqlalchemy.ext.declarative import declarative_base\n",
      "from sqlalchemy import Column, Date, Integer, String, Text, Boolean, Date\n",
      "\n",
      "import logging\n",
      "\n",
      "logging.basicConfig()\n",
      "logging.getLogger('sqlalchemy.engine').setLevel(logging.INFO)\n",
      "\n",
      "engine = create_engine('sqlite:///movie.db', echo=True)\n",
      "\n",
      "db_session = scoped_session(sessionmaker(autocommit=False,\n",
      "                                         autoflush=False,\n",
      "                                         bind=engine))\n",
      "\n",
      "Base = declarative_base()\n",
      "Base.query = db_session.query_property()\n",
      "\n",
      "class Movie_DB(Base):\n",
      "    __tablename__ = 'movie'\n",
      "    id = Column(Integer, primary_key=True)\n",
      "    mid = Column(Integer)\n",
      "    year = Column(String(50))\n",
      "    time = Column(Date)\n",
      "    director = Column(String(100))\n",
      "    director_en = Column(String(100))\n",
      "    naver_mid = Column(Integer, unique=True)\n",
      "    imdb_mid = Column(Integer, unique=True)\n",
      "\n",
      "    def __init__(self, mid, year, time, director, director_en, naver_mid, imdb_mid):\n",
      "        self.mid = mid\n",
      "        self.year = year\n",
      "        self.time = time\n",
      "        self.director = director\n",
      "        self.director_en = director_en\n",
      "        self.naver_mid = naver_mid\n",
      "        self.imdb_mid = imdb_mid\n",
      "\n",
      "    def __repr__(self):\n",
      "        msg = '<Movie %s <%s> ( %s )>' % (self.title, self.mid, \"http://www.cine21.com/movie/info/movie_id/\" + self.mid)\n",
      "        return msg.encode('utf8')\n",
      "\n",
      "Base.metadata.create_all(bind=engine)"
     ],
     "language": "python",
     "metadata": {},
     "outputs": [
      {
       "output_type": "stream",
       "stream": "stdout",
       "text": [
        "2015-02-07 21:29:52,061 INFO sqlalchemy.engine.base.Engine SELECT CAST('test plain returns' AS VARCHAR(60)) AS anon_1\n"
       ]
      },
      {
       "output_type": "stream",
       "stream": "stderr",
       "text": [
        "INFO:sqlalchemy.engine.base.Engine:SELECT CAST('test plain returns' AS VARCHAR(60)) AS anon_1\n"
       ]
      },
      {
       "output_type": "stream",
       "stream": "stdout",
       "text": [
        "2015-02-07 21:29:52,062 INFO sqlalchemy.engine.base.Engine ()\n"
       ]
      },
      {
       "output_type": "stream",
       "stream": "stderr",
       "text": [
        "INFO:sqlalchemy.engine.base.Engine:()\n"
       ]
      },
      {
       "output_type": "stream",
       "stream": "stdout",
       "text": [
        "2015-02-07 21:29:52,062 INFO sqlalchemy.engine.base.Engine SELECT CAST('test unicode returns' AS VARCHAR(60)) AS anon_1\n"
       ]
      },
      {
       "output_type": "stream",
       "stream": "stderr",
       "text": [
        "INFO:sqlalchemy.engine.base.Engine:SELECT CAST('test unicode returns' AS VARCHAR(60)) AS anon_1\n"
       ]
      },
      {
       "output_type": "stream",
       "stream": "stdout",
       "text": [
        "2015-02-07 21:29:52,063 INFO sqlalchemy.engine.base.Engine ()\n"
       ]
      },
      {
       "output_type": "stream",
       "stream": "stderr",
       "text": [
        "INFO:sqlalchemy.engine.base.Engine:()\n"
       ]
      },
      {
       "output_type": "stream",
       "stream": "stdout",
       "text": [
        "2015-02-07 21:29:52,063 INFO sqlalchemy.engine.base.Engine PRAGMA table_info(\"movie\")\n"
       ]
      },
      {
       "output_type": "stream",
       "stream": "stderr",
       "text": [
        "INFO:sqlalchemy.engine.base.Engine:PRAGMA table_info(\"movie\")\n"
       ]
      },
      {
       "output_type": "stream",
       "stream": "stdout",
       "text": [
        "2015-02-07 21:29:52,064 INFO sqlalchemy.engine.base.Engine ()\n"
       ]
      },
      {
       "output_type": "stream",
       "stream": "stderr",
       "text": [
        "INFO:sqlalchemy.engine.base.Engine:()\n"
       ]
      },
      {
       "output_type": "stream",
       "stream": "stdout",
       "text": [
        "2015-02-07 21:29:52,065 INFO sqlalchemy.engine.base.Engine \n",
        "CREATE TABLE movie (\n",
        "\tid INTEGER NOT NULL, \n",
        "\tmid INTEGER, \n",
        "\tyear VARCHAR(50), \n",
        "\ttime DATE, \n",
        "\tdirector VARCHAR(100), \n",
        "\tdirector_en VARCHAR(100), \n",
        "\tnaver_mid INTEGER, \n",
        "\timdb_mid INTEGER, \n",
        "\tPRIMARY KEY (id), \n",
        "\tUNIQUE (naver_mid), \n",
        "\tUNIQUE (imdb_mid)\n",
        ")\n",
        "\n",
        "\n"
       ]
      },
      {
       "output_type": "stream",
       "stream": "stderr",
       "text": [
        "INFO:sqlalchemy.engine.base.Engine:\n",
        "CREATE TABLE movie (\n",
        "\tid INTEGER NOT NULL, \n",
        "\tmid INTEGER, \n",
        "\tyear VARCHAR(50), \n",
        "\ttime DATE, \n",
        "\tdirector VARCHAR(100), \n",
        "\tdirector_en VARCHAR(100), \n",
        "\tnaver_mid INTEGER, \n",
        "\timdb_mid INTEGER, \n",
        "\tPRIMARY KEY (id), \n",
        "\tUNIQUE (naver_mid), \n",
        "\tUNIQUE (imdb_mid)\n",
        ")\n",
        "\n",
        "\n"
       ]
      },
      {
       "output_type": "stream",
       "stream": "stdout",
       "text": [
        "2015-02-07 21:29:52,065 INFO sqlalchemy.engine.base.Engine ()\n"
       ]
      },
      {
       "output_type": "stream",
       "stream": "stderr",
       "text": [
        "INFO:sqlalchemy.engine.base.Engine:()\n"
       ]
      },
      {
       "output_type": "stream",
       "stream": "stdout",
       "text": [
        "2015-02-07 21:29:52,288 INFO sqlalchemy.engine.base.Engine COMMIT\n"
       ]
      },
      {
       "output_type": "stream",
       "stream": "stderr",
       "text": [
        "INFO:sqlalchemy.engine.base.Engine:COMMIT\n"
       ]
      }
     ],
     "prompt_number": 132
    },
    {
     "cell_type": "code",
     "collapsed": false,
     "input": [
      "from difflib import SequenceMatcher as sm\n",
      "\n",
      "def is_same_name(a,b):\n",
      "    for (x,y) in [(a,b),(b,a)]:\n",
      "        for word in x.split():\n",
      "            if word in y:\n",
      "                return True\n",
      "    if sm(a=list(set(b)), b=list(set(a))).ratio() > 0.7:\n",
      "        return True\n",
      "    return False\n",
      "\n",
      "class Critic(object):\n",
      "    def __init__(self, name, link):\n",
      "        self.name = name\n",
      "        self.link = link\n",
      "        self.reviews = []\n",
      "    \n",
      "    def __repr__(self):\n",
      "        msg = '<Critic %s (%s): %s>' % (self.name, self.link, len(self.reviews))\n",
      "        return msg.encode('utf8')\n",
      "    \n",
      "class Movie(object):\n",
      "    def __init__(self, mid, title):\n",
      "        self.mid = mid\n",
      "        self.title = title\n",
      "        self._title_en = None\n",
      "        self._year = None\n",
      "        self._time = None\n",
      "        self._director = None\n",
      "        self._director_en = None\n",
      "        self._naver_mid = None\n",
      "        self._imdb_mid = None\n",
      "        self._imdb_candidates = []\n",
      "        \n",
      "        self._ko_user_star = None\n",
      "        self._ko_critic_star = None\n",
      "        self._fo_user_star = None\n",
      "        self._fo_critic_star = None\n",
      "        \n",
      "    @property\n",
      "    def link(self):\n",
      "        return \"http://www.cine21.com/movie/info/movie_id/\" + str(self.mid)\n",
      "    \n",
      "    @property\n",
      "    def director(self):\n",
      "        if not self._director: self.get_info()\n",
      "        return self._director\n",
      "    \n",
      "    @property\n",
      "    def director_en(self):\n",
      "        if not self._director_en: self.get_info()\n",
      "        return self._director_en\n",
      "    \n",
      "    @property\n",
      "    def time(self):\n",
      "        if not self._time: self.get_info()\n",
      "        return self._time\n",
      "    \n",
      "    @property\n",
      "    def year(self):\n",
      "        if not self._year: self.get_info()\n",
      "        return self._year\n",
      "    \n",
      "    @property\n",
      "    def title_en(self):\n",
      "        if not self._title_en: self.get_info()\n",
      "        return self._title_en\n",
      "    \n",
      "    @property\n",
      "    def naver_mid(self):\n",
      "        if not self._naver_mid: self.get_naver()\n",
      "        return self._naver_mid\n",
      "    \n",
      "    @property\n",
      "    def imdb_mid(self):\n",
      "        if not self._imdb_mid: self.get_imdb()\n",
      "        return self._imdb_mid\n",
      "    \n",
      "    def get_info(self):\n",
      "        soup = get_soup(self.link)\n",
      "        h3 = soup.select(\".desc h3\")[0].text.strip()\n",
      "        self._year = int(re.findall(r'\\(\\d\\d\\d\\d\\)$', h3)[-1][1:-1])\n",
      "        \n",
      "        tds = soup.select(\".tbl_basic3 tr td\")\n",
      "        \n",
      "        self._title_en = tds[0].text.strip()\n",
      "        self._director = tds[1].text.strip()\n",
      "        \n",
      "        try:\n",
      "            soup = get_soup(CINE + tds[1].a['href'])\n",
      "        except:\n",
      "            soup = get_soup(CINE + tds[2].a['href'])\n",
      "        self._director_en = re.findall(r'\\(.*\\)$', soup.select(\"span.name\")[0].text.strip())[-1][1:-1]\n",
      "        \n",
      "        self._time = time.strptime(tds[-1].text.strip(), \"%Y-%M-%d\")\n",
      "        \n",
      "    def get_naver(self):\n",
      "        query = urllib.urlencode({'q' : self.title.encode('utf-8')})\n",
      "        \n",
      "        body = requests.get(NAVER_AUTO + query).text\n",
      "        j = json.loads(body[body.find('{'):body.rfind('}')+1])\n",
      "        \n",
      "        ans = None\n",
      "        \n",
      "        if len(j['items']) > 2:\n",
      "            for item in j['items']:\n",
      "                if item:\n",
      "                    if not self._time: self.get_info()\n",
      "                    if self._time == time.strptime(item[0][1][0], \"%Y%M%d\") and item[0][1][-1] == \"movie\":\n",
      "                        ans = item\n",
      "                        break\n",
      "        else:\n",
      "            ans = j['items'][0]\n",
      "        \n",
      "        if not ans:\n",
      "            raise(\" [!] NAVER Movie not found\")\n",
      "            \n",
      "        self._naver_mid = ans[0][-2][0]\n",
      "            \n",
      "        #soup = get_soup(NAVER_INFO+self._naver_mid)\n",
      "        \n",
      "        \n",
      "    def get_imdb(self):\n",
      "        if not self._title_en or not self._time or not self._year:\n",
      "            self.get_info()\n",
      "\n",
      "        try:\n",
      "            movies = imdb.find_by_title(self._title_en)\n",
      "        except:\n",
      "            movies = imdb.find_by_title(self._title_en.encode('utf-8'))\n",
      "        ans = None\n",
      "        \n",
      "        if len(movies) > 1:\n",
      "            self._imdb_candidates = []\n",
      "            candidates = []\n",
      "            \n",
      "            for movie in movies:\n",
      "                if movie['year']:\n",
      "                    year = int(movie['year'])\n",
      "                    \n",
      "                    if year == self._year or year == self.time.tm_year:\n",
      "                        candidates.append(movie)\n",
      "\n",
      "            if len(candidates) == 0:\n",
      "                candidates = movies\n",
      "\n",
      "            for candidate in candidates:\n",
      "                info = imdb.find_movie_by_id(candidate['imdb_id'])\n",
      "\n",
      "                is_possible = False\n",
      "                for director in info.directors_summary:\n",
      "                    if is_same_name(director.name, self._director_en):\n",
      "                        self._imdb_candidates.append(candidate)\n",
      "                        break\n",
      "\n",
      "            if len(self._imdb_candidates) > 1:\n",
      "                ans = self._imdb_candidates[0]\n",
      "                max_gap = self.year - int(ans['year'])\n",
      "                \n",
      "                for candidate in self._imdb_candidates[1:]:\n",
      "                    if max_gap > self.year - int(candidate['year']):\n",
      "                        ans = candidate\n",
      "                \n",
      "                self._imdb_mid = ans['imdb_id']\n",
      "                return\n",
      "            \n",
      "                #raise Exception(\"Too many candidates : %s\" % self._imdb_candidates)\n",
      "\n",
      "                #soup = get_soup(\"http://www.imdb.com/title/%s/releaseinfo\" % candidate['imdb_id'])\n",
      "                #for tr in soup.select(\"#release_dates tr\"):\n",
      "                #    if tr.find(\"a\").text == \"South Korea\":\n",
      "                #        pass\n",
      "                    \n",
      "            if len(self._imdb_candidates) == 1:\n",
      "                ans = self._imdb_candidates[0]\n",
      "            elif len(self._imdb_candidates) == 0:\n",
      "                self._imdb_mid = -1\n",
      "                return\n",
      "            else:\n",
      "                raise Exception (\" [!] IMDB Movie not found : %s\" % len(self._imdb_candidates))\n",
      "        else:\n",
      "            ans = movies[0]\n",
      "        \n",
      "        if not ans:\n",
      "            raise Exception (\" [!] IMDB Movie not found\")\n",
      "            \n",
      "        self._imdb_mid = ans['imdb_id']\n",
      "        \n",
      "    def __repr__(self):\n",
      "        msg = '<Movie %s<%s> ( %s )>' % (self.title, self.mid, self.link)\n",
      "        return msg.encode('utf8')\n",
      "        \n",
      "class Review(object):\n",
      "    def __init__(self, movie, text, rating):\n",
      "        self.movie = movie\n",
      "        self.text = text\n",
      "        self.rating = rating\n",
      "    \n",
      "    def __repr__(self):\n",
      "        msg = '<Review %s (%s)>' % (self.movie.title, self.rating)\n",
      "        return msg.encode('utf8')\n",
      "\n",
      "def find_movie(movies, mid):\n",
      "    for movie in movies:\n",
      "        if movie.mid == mid:\n",
      "            return movie"
     ],
     "language": "python",
     "metadata": {},
     "outputs": [],
     "prompt_number": 133
    },
    {
     "cell_type": "code",
     "collapsed": false,
     "input": [
      "critics = []\n",
      "movies = []\n",
      "\n",
      "for data in critic_tbl.iterrows():\n",
      "    critic = Critic(data[1].Name, data[1].URL)\n",
      "    critics.append(critic)\n",
      "    soup = get_soup(data[1].URL)\n",
      "    \n",
      "    print critic\n",
      "    \n",
      "    pagination = soup.find('div','pagination')\n",
      "    last_page = int(pagination.select('a')[-1]['href'].split('/')[-1])\n",
      "    \n",
      "    for idx in xrange(1, last_page+1):\n",
      "        tmp_url = data[1].URL + \"/p/\" + str(idx)\n",
      "        soup = get_soup(tmp_url)\n",
      "        \n",
      "        for tr in soup.find(\"table\", \"tbl_basic4_3 td_st\").select(\"tr\"):\n",
      "            href = CINE + tr.th.a['href']\n",
      "            \n",
      "            mid = int(href.split('/')[-1])\n",
      "            movie = get_movie(movies, mid)\n",
      "            \n",
      "            if not movie:\n",
      "                title = tr.th.a.text[2:]\n",
      "                movie = Movie(mid, title)\n",
      "                \n",
      "                movies.append(movie)\n",
      "            \n",
      "            tr.th.a.extract()\n",
      "            tr.th.span.extract()\n",
      "            \n",
      "            content = tr.th.text\n",
      "            rating = int(tr.td.find(\"strong\").text)\n",
      "            \n",
      "            review = Review(movie, content, rating)\n",
      "            critic.reviews.append(review)"
     ],
     "language": "python",
     "metadata": {},
     "outputs": [
      {
       "output_type": "stream",
       "stream": "stdout",
       "text": [
        "<Critic \uac15\ubcd1\uc9c4 (http://www.cine21.com/review/review20/pre/E20041463): 0>\n",
        "<Critic \uac15\ud55c\uc12d (http://www.cine21.com/review/review20/pre/E20041369): 0>"
       ]
      },
      {
       "output_type": "stream",
       "stream": "stdout",
       "text": [
        "\n",
        "<Critic \uace0\uacbd\ud0dc (http://www.cine21.com/review/review20/pre/E20041570): 0>"
       ]
      },
      {
       "output_type": "stream",
       "stream": "stdout",
       "text": [
        "\n"
       ]
      }
     ],
     "prompt_number": 134
    },
    {
     "cell_type": "code",
     "collapsed": false,
     "input": [
      "t=critics[0].reviews[0].movie.time\n",
      "from time import mktime\n",
      "from datetime import datetime\n",
      "\n",
      "dt = datetime.fromtimestamp(mktime(t))\n",
      "type(dt)\n",
      "dt.date()"
     ],
     "language": "python",
     "metadata": {},
     "outputs": [
      {
       "metadata": {},
       "output_type": "pyout",
       "prompt_number": 135,
       "text": [
        "datetime.date(2012, 1, 22)"
       ]
      }
     ],
     "prompt_number": 135
    },
    {
     "cell_type": "code",
     "collapsed": false,
     "input": [
      "from time import mktime\n",
      "from datetime import datetime\n",
      "\n",
      "for critic in critics:\n",
      "    print \"~~~~~~~~~~~~~~~~~~~~\"\n",
      "    for i in critic.reviews:\n",
      "        instance = Movie_DB.query.filter_by(mid=i.movie.mid).first()\n",
      "        if instance:\n",
      "            pass\n",
      "        else:\n",
      "            # mid, year, time, director, director_en, naver_mid, imdb_mid):\n",
      "            i.movie.get_imdb()\n",
      "\n",
      "            dt = datetime.fromtimestamp(mktime(i.movie.time))\n",
      "\n",
      "            print i.movie.naver_mid,i.movie.imdb_mid\n",
      "            movie = Movie_DB(i.movie.mid,\n",
      "                          i.movie.year,\n",
      "                          dt.date(),\n",
      "                          i.movie.director,\n",
      "                          i.movie.director_en,\n",
      "                          i.movie.naver_mid,\n",
      "                          i.movie.imdb_mid)\n",
      "            db_session.add(movie)\n",
      "            db_session.commit()"
     ],
     "language": "python",
     "metadata": {},
     "outputs": [
      {
       "output_type": "stream",
       "stream": "stdout",
       "text": [
        "~~~~~~~~~~~~~~~~~~~~\n"
       ]
      },
      {
       "ename": "InvalidRequestError",
       "evalue": "This Session's transaction has been rolled back due to a previous exception during flush. To begin a new transaction with this Session, first issue Session.rollback(). Original exception was: (IntegrityError) UNIQUE constraint failed: movie.imdb_mid u'INSERT INTO movie (mid, year, time, director, director_en, naver_mid, imdb_mid) VALUES (?, ?, ?, ?, ?, ?, ?)' (29484, 2010, '2012-01-21', u'\\uae40\\uc77c\\ub780, \\ud64d\\uc9c0\\uc720', u'Kim Ilran', u'87975', -1)",
       "output_type": "pyerr",
       "traceback": [
        "\u001b[1;31m---------------------------------------------------------------------------\u001b[0m\n\u001b[1;31mInvalidRequestError\u001b[0m                       Traceback (most recent call last)",
        "\u001b[1;32m<ipython-input-137-d4c5b515313f>\u001b[0m in \u001b[0;36m<module>\u001b[1;34m()\u001b[0m\n\u001b[0;32m      5\u001b[0m     \u001b[1;32mprint\u001b[0m \u001b[1;34m\"~~~~~~~~~~~~~~~~~~~~\"\u001b[0m\u001b[1;33m\u001b[0m\u001b[0m\n\u001b[0;32m      6\u001b[0m     \u001b[1;32mfor\u001b[0m \u001b[0mi\u001b[0m \u001b[1;32min\u001b[0m \u001b[0mcritic\u001b[0m\u001b[1;33m.\u001b[0m\u001b[0mreviews\u001b[0m\u001b[1;33m:\u001b[0m\u001b[1;33m\u001b[0m\u001b[0m\n\u001b[1;32m----> 7\u001b[1;33m         \u001b[0minstance\u001b[0m \u001b[1;33m=\u001b[0m \u001b[0mMovie_DB\u001b[0m\u001b[1;33m.\u001b[0m\u001b[0mquery\u001b[0m\u001b[1;33m.\u001b[0m\u001b[0mfilter_by\u001b[0m\u001b[1;33m(\u001b[0m\u001b[0mmid\u001b[0m\u001b[1;33m=\u001b[0m\u001b[0mi\u001b[0m\u001b[1;33m.\u001b[0m\u001b[0mmovie\u001b[0m\u001b[1;33m.\u001b[0m\u001b[0mmid\u001b[0m\u001b[1;33m)\u001b[0m\u001b[1;33m.\u001b[0m\u001b[0mfirst\u001b[0m\u001b[1;33m(\u001b[0m\u001b[1;33m)\u001b[0m\u001b[1;33m\u001b[0m\u001b[0m\n\u001b[0m\u001b[0;32m      8\u001b[0m         \u001b[1;32mif\u001b[0m \u001b[0minstance\u001b[0m\u001b[1;33m:\u001b[0m\u001b[1;33m\u001b[0m\u001b[0m\n\u001b[0;32m      9\u001b[0m             \u001b[1;32mpass\u001b[0m\u001b[1;33m\u001b[0m\u001b[0m\n",
        "\u001b[1;32m/usr/local/lib/python2.7/dist-packages/sqlalchemy/orm/query.pyc\u001b[0m in \u001b[0;36mfirst\u001b[1;34m(self)\u001b[0m\n\u001b[0;32m   2365\u001b[0m             \u001b[0mret\u001b[0m \u001b[1;33m=\u001b[0m \u001b[0mlist\u001b[0m\u001b[1;33m(\u001b[0m\u001b[0mself\u001b[0m\u001b[1;33m)\u001b[0m\u001b[1;33m[\u001b[0m\u001b[1;36m0\u001b[0m\u001b[1;33m:\u001b[0m\u001b[1;36m1\u001b[0m\u001b[1;33m]\u001b[0m\u001b[1;33m\u001b[0m\u001b[0m\n\u001b[0;32m   2366\u001b[0m         \u001b[1;32melse\u001b[0m\u001b[1;33m:\u001b[0m\u001b[1;33m\u001b[0m\u001b[0m\n\u001b[1;32m-> 2367\u001b[1;33m             \u001b[0mret\u001b[0m \u001b[1;33m=\u001b[0m \u001b[0mlist\u001b[0m\u001b[1;33m(\u001b[0m\u001b[0mself\u001b[0m\u001b[1;33m[\u001b[0m\u001b[1;36m0\u001b[0m\u001b[1;33m:\u001b[0m\u001b[1;36m1\u001b[0m\u001b[1;33m]\u001b[0m\u001b[1;33m)\u001b[0m\u001b[1;33m\u001b[0m\u001b[0m\n\u001b[0m\u001b[0;32m   2368\u001b[0m         \u001b[1;32mif\u001b[0m \u001b[0mlen\u001b[0m\u001b[1;33m(\u001b[0m\u001b[0mret\u001b[0m\u001b[1;33m)\u001b[0m \u001b[1;33m>\u001b[0m \u001b[1;36m0\u001b[0m\u001b[1;33m:\u001b[0m\u001b[1;33m\u001b[0m\u001b[0m\n\u001b[0;32m   2369\u001b[0m             \u001b[1;32mreturn\u001b[0m \u001b[0mret\u001b[0m\u001b[1;33m[\u001b[0m\u001b[1;36m0\u001b[0m\u001b[1;33m]\u001b[0m\u001b[1;33m\u001b[0m\u001b[0m\n",
        "\u001b[1;32m/usr/local/lib/python2.7/dist-packages/sqlalchemy/orm/query.pyc\u001b[0m in \u001b[0;36m__getitem__\u001b[1;34m(self, item)\u001b[0m\n\u001b[0;32m   2226\u001b[0m                 \u001b[1;32mreturn\u001b[0m \u001b[0mlist\u001b[0m\u001b[1;33m(\u001b[0m\u001b[0mres\u001b[0m\u001b[1;33m)\u001b[0m\u001b[1;33m[\u001b[0m\u001b[0mNone\u001b[0m\u001b[1;33m:\u001b[0m\u001b[0mNone\u001b[0m\u001b[1;33m:\u001b[0m\u001b[0mitem\u001b[0m\u001b[1;33m.\u001b[0m\u001b[0mstep\u001b[0m\u001b[1;33m]\u001b[0m\u001b[1;33m\u001b[0m\u001b[0m\n\u001b[0;32m   2227\u001b[0m             \u001b[1;32melse\u001b[0m\u001b[1;33m:\u001b[0m\u001b[1;33m\u001b[0m\u001b[0m\n\u001b[1;32m-> 2228\u001b[1;33m                 \u001b[1;32mreturn\u001b[0m \u001b[0mlist\u001b[0m\u001b[1;33m(\u001b[0m\u001b[0mres\u001b[0m\u001b[1;33m)\u001b[0m\u001b[1;33m\u001b[0m\u001b[0m\n\u001b[0m\u001b[0;32m   2229\u001b[0m         \u001b[1;32melse\u001b[0m\u001b[1;33m:\u001b[0m\u001b[1;33m\u001b[0m\u001b[0m\n\u001b[0;32m   2230\u001b[0m             \u001b[1;32mif\u001b[0m \u001b[0mitem\u001b[0m \u001b[1;33m==\u001b[0m \u001b[1;33m-\u001b[0m\u001b[1;36m1\u001b[0m\u001b[1;33m:\u001b[0m\u001b[1;33m\u001b[0m\u001b[0m\n",
        "\u001b[1;32m/usr/local/lib/python2.7/dist-packages/sqlalchemy/orm/query.pyc\u001b[0m in \u001b[0;36m__iter__\u001b[1;34m(self)\u001b[0m\n\u001b[0;32m   2436\u001b[0m         \u001b[1;32mif\u001b[0m \u001b[0mself\u001b[0m\u001b[1;33m.\u001b[0m\u001b[0m_autoflush\u001b[0m \u001b[1;32mand\u001b[0m \u001b[1;32mnot\u001b[0m \u001b[0mself\u001b[0m\u001b[1;33m.\u001b[0m\u001b[0m_populate_existing\u001b[0m\u001b[1;33m:\u001b[0m\u001b[1;33m\u001b[0m\u001b[0m\n\u001b[0;32m   2437\u001b[0m             \u001b[0mself\u001b[0m\u001b[1;33m.\u001b[0m\u001b[0msession\u001b[0m\u001b[1;33m.\u001b[0m\u001b[0m_autoflush\u001b[0m\u001b[1;33m(\u001b[0m\u001b[1;33m)\u001b[0m\u001b[1;33m\u001b[0m\u001b[0m\n\u001b[1;32m-> 2438\u001b[1;33m         \u001b[1;32mreturn\u001b[0m \u001b[0mself\u001b[0m\u001b[1;33m.\u001b[0m\u001b[0m_execute_and_instances\u001b[0m\u001b[1;33m(\u001b[0m\u001b[0mcontext\u001b[0m\u001b[1;33m)\u001b[0m\u001b[1;33m\u001b[0m\u001b[0m\n\u001b[0m\u001b[0;32m   2439\u001b[0m \u001b[1;33m\u001b[0m\u001b[0m\n\u001b[0;32m   2440\u001b[0m     \u001b[1;32mdef\u001b[0m \u001b[0m_connection_from_session\u001b[0m\u001b[1;33m(\u001b[0m\u001b[0mself\u001b[0m\u001b[1;33m,\u001b[0m \u001b[1;33m**\u001b[0m\u001b[0mkw\u001b[0m\u001b[1;33m)\u001b[0m\u001b[1;33m:\u001b[0m\u001b[1;33m\u001b[0m\u001b[0m\n",
        "\u001b[1;32m/usr/local/lib/python2.7/dist-packages/sqlalchemy/orm/query.pyc\u001b[0m in \u001b[0;36m_execute_and_instances\u001b[1;34m(self, querycontext)\u001b[0m\n\u001b[0;32m   2449\u001b[0m             \u001b[0mmapper\u001b[0m\u001b[1;33m=\u001b[0m\u001b[0mself\u001b[0m\u001b[1;33m.\u001b[0m\u001b[0m_mapper_zero_or_none\u001b[0m\u001b[1;33m(\u001b[0m\u001b[1;33m)\u001b[0m\u001b[1;33m,\u001b[0m\u001b[1;33m\u001b[0m\u001b[0m\n\u001b[0;32m   2450\u001b[0m             \u001b[0mclause\u001b[0m\u001b[1;33m=\u001b[0m\u001b[0mquerycontext\u001b[0m\u001b[1;33m.\u001b[0m\u001b[0mstatement\u001b[0m\u001b[1;33m,\u001b[0m\u001b[1;33m\u001b[0m\u001b[0m\n\u001b[1;32m-> 2451\u001b[1;33m             close_with_result=True)\n\u001b[0m\u001b[0;32m   2452\u001b[0m \u001b[1;33m\u001b[0m\u001b[0m\n\u001b[0;32m   2453\u001b[0m         \u001b[0mresult\u001b[0m \u001b[1;33m=\u001b[0m \u001b[0mconn\u001b[0m\u001b[1;33m.\u001b[0m\u001b[0mexecute\u001b[0m\u001b[1;33m(\u001b[0m\u001b[0mquerycontext\u001b[0m\u001b[1;33m.\u001b[0m\u001b[0mstatement\u001b[0m\u001b[1;33m,\u001b[0m \u001b[0mself\u001b[0m\u001b[1;33m.\u001b[0m\u001b[0m_params\u001b[0m\u001b[1;33m)\u001b[0m\u001b[1;33m\u001b[0m\u001b[0m\n",
        "\u001b[1;32m/usr/local/lib/python2.7/dist-packages/sqlalchemy/orm/query.pyc\u001b[0m in \u001b[0;36m_connection_from_session\u001b[1;34m(self, **kw)\u001b[0m\n\u001b[0;32m   2440\u001b[0m     \u001b[1;32mdef\u001b[0m \u001b[0m_connection_from_session\u001b[0m\u001b[1;33m(\u001b[0m\u001b[0mself\u001b[0m\u001b[1;33m,\u001b[0m \u001b[1;33m**\u001b[0m\u001b[0mkw\u001b[0m\u001b[1;33m)\u001b[0m\u001b[1;33m:\u001b[0m\u001b[1;33m\u001b[0m\u001b[0m\n\u001b[0;32m   2441\u001b[0m         conn = self.session.connection(\n\u001b[1;32m-> 2442\u001b[1;33m             **kw)\n\u001b[0m\u001b[0;32m   2443\u001b[0m         \u001b[1;32mif\u001b[0m \u001b[0mself\u001b[0m\u001b[1;33m.\u001b[0m\u001b[0m_execution_options\u001b[0m\u001b[1;33m:\u001b[0m\u001b[1;33m\u001b[0m\u001b[0m\n\u001b[0;32m   2444\u001b[0m             \u001b[0mconn\u001b[0m \u001b[1;33m=\u001b[0m \u001b[0mconn\u001b[0m\u001b[1;33m.\u001b[0m\u001b[0mexecution_options\u001b[0m\u001b[1;33m(\u001b[0m\u001b[1;33m**\u001b[0m\u001b[0mself\u001b[0m\u001b[1;33m.\u001b[0m\u001b[0m_execution_options\u001b[0m\u001b[1;33m)\u001b[0m\u001b[1;33m\u001b[0m\u001b[0m\n",
        "\u001b[1;32m/usr/local/lib/python2.7/dist-packages/sqlalchemy/orm/session.pyc\u001b[0m in \u001b[0;36mconnection\u001b[1;34m(self, mapper, clause, bind, close_with_result, **kw)\u001b[0m\n\u001b[0;32m    852\u001b[0m \u001b[1;33m\u001b[0m\u001b[0m\n\u001b[0;32m    853\u001b[0m         return self._connection_for_bind(bind,\n\u001b[1;32m--> 854\u001b[1;33m                                          close_with_result=close_with_result)\n\u001b[0m\u001b[0;32m    855\u001b[0m \u001b[1;33m\u001b[0m\u001b[0m\n\u001b[0;32m    856\u001b[0m     \u001b[1;32mdef\u001b[0m \u001b[0m_connection_for_bind\u001b[0m\u001b[1;33m(\u001b[0m\u001b[0mself\u001b[0m\u001b[1;33m,\u001b[0m \u001b[0mengine\u001b[0m\u001b[1;33m,\u001b[0m \u001b[1;33m**\u001b[0m\u001b[0mkwargs\u001b[0m\u001b[1;33m)\u001b[0m\u001b[1;33m:\u001b[0m\u001b[1;33m\u001b[0m\u001b[0m\n",
        "\u001b[1;32m/usr/local/lib/python2.7/dist-packages/sqlalchemy/orm/session.pyc\u001b[0m in \u001b[0;36m_connection_for_bind\u001b[1;34m(self, engine, **kwargs)\u001b[0m\n\u001b[0;32m    856\u001b[0m     \u001b[1;32mdef\u001b[0m \u001b[0m_connection_for_bind\u001b[0m\u001b[1;33m(\u001b[0m\u001b[0mself\u001b[0m\u001b[1;33m,\u001b[0m \u001b[0mengine\u001b[0m\u001b[1;33m,\u001b[0m \u001b[1;33m**\u001b[0m\u001b[0mkwargs\u001b[0m\u001b[1;33m)\u001b[0m\u001b[1;33m:\u001b[0m\u001b[1;33m\u001b[0m\u001b[0m\n\u001b[0;32m    857\u001b[0m         \u001b[1;32mif\u001b[0m \u001b[0mself\u001b[0m\u001b[1;33m.\u001b[0m\u001b[0mtransaction\u001b[0m \u001b[1;32mis\u001b[0m \u001b[1;32mnot\u001b[0m \u001b[0mNone\u001b[0m\u001b[1;33m:\u001b[0m\u001b[1;33m\u001b[0m\u001b[0m\n\u001b[1;32m--> 858\u001b[1;33m             \u001b[1;32mreturn\u001b[0m \u001b[0mself\u001b[0m\u001b[1;33m.\u001b[0m\u001b[0mtransaction\u001b[0m\u001b[1;33m.\u001b[0m\u001b[0m_connection_for_bind\u001b[0m\u001b[1;33m(\u001b[0m\u001b[0mengine\u001b[0m\u001b[1;33m)\u001b[0m\u001b[1;33m\u001b[0m\u001b[0m\n\u001b[0m\u001b[0;32m    859\u001b[0m         \u001b[1;32melse\u001b[0m\u001b[1;33m:\u001b[0m\u001b[1;33m\u001b[0m\u001b[0m\n\u001b[0;32m    860\u001b[0m             \u001b[1;32mreturn\u001b[0m \u001b[0mengine\u001b[0m\u001b[1;33m.\u001b[0m\u001b[0mcontextual_connect\u001b[0m\u001b[1;33m(\u001b[0m\u001b[1;33m**\u001b[0m\u001b[0mkwargs\u001b[0m\u001b[1;33m)\u001b[0m\u001b[1;33m\u001b[0m\u001b[0m\n",
        "\u001b[1;32m/usr/local/lib/python2.7/dist-packages/sqlalchemy/orm/session.pyc\u001b[0m in \u001b[0;36m_connection_for_bind\u001b[1;34m(self, bind)\u001b[0m\n\u001b[0;32m    303\u001b[0m \u001b[1;33m\u001b[0m\u001b[0m\n\u001b[0;32m    304\u001b[0m     \u001b[1;32mdef\u001b[0m \u001b[0m_connection_for_bind\u001b[0m\u001b[1;33m(\u001b[0m\u001b[0mself\u001b[0m\u001b[1;33m,\u001b[0m \u001b[0mbind\u001b[0m\u001b[1;33m)\u001b[0m\u001b[1;33m:\u001b[0m\u001b[1;33m\u001b[0m\u001b[0m\n\u001b[1;32m--> 305\u001b[1;33m         \u001b[0mself\u001b[0m\u001b[1;33m.\u001b[0m\u001b[0m_assert_active\u001b[0m\u001b[1;33m(\u001b[0m\u001b[1;33m)\u001b[0m\u001b[1;33m\u001b[0m\u001b[0m\n\u001b[0m\u001b[0;32m    306\u001b[0m \u001b[1;33m\u001b[0m\u001b[0m\n\u001b[0;32m    307\u001b[0m         \u001b[1;32mif\u001b[0m \u001b[0mbind\u001b[0m \u001b[1;32min\u001b[0m \u001b[0mself\u001b[0m\u001b[1;33m.\u001b[0m\u001b[0m_connections\u001b[0m\u001b[1;33m:\u001b[0m\u001b[1;33m\u001b[0m\u001b[0m\n",
        "\u001b[1;32m/usr/local/lib/python2.7/dist-packages/sqlalchemy/orm/session.pyc\u001b[0m in \u001b[0;36m_assert_active\u001b[1;34m(self, prepared_ok, rollback_ok, deactive_ok, closed_msg)\u001b[0m\n\u001b[0;32m    212\u001b[0m                         \u001b[1;34m\"first issue Session.rollback().\"\u001b[0m\u001b[1;33m\u001b[0m\u001b[0m\n\u001b[0;32m    213\u001b[0m                         \u001b[1;34m\" Original exception was: %s\"\u001b[0m\u001b[1;33m\u001b[0m\u001b[0m\n\u001b[1;32m--> 214\u001b[1;33m                         \u001b[1;33m%\u001b[0m \u001b[0mself\u001b[0m\u001b[1;33m.\u001b[0m\u001b[0m_rollback_exception\u001b[0m\u001b[1;33m\u001b[0m\u001b[0m\n\u001b[0m\u001b[0;32m    215\u001b[0m                     )\n\u001b[0;32m    216\u001b[0m                 \u001b[1;32melif\u001b[0m \u001b[1;32mnot\u001b[0m \u001b[0mdeactive_ok\u001b[0m\u001b[1;33m:\u001b[0m\u001b[1;33m\u001b[0m\u001b[0m\n",
        "\u001b[1;31mInvalidRequestError\u001b[0m: This Session's transaction has been rolled back due to a previous exception during flush. To begin a new transaction with this Session, first issue Session.rollback(). Original exception was: (IntegrityError) UNIQUE constraint failed: movie.imdb_mid u'INSERT INTO movie (mid, year, time, director, director_en, naver_mid, imdb_mid) VALUES (?, ?, ?, ?, ?, ?, ?)' (29484, 2010, '2012-01-21', u'\\uae40\\uc77c\\ub780, \\ud64d\\uc9c0\\uc720', u'Kim Ilran', u'87975', -1)"
       ]
      }
     ],
     "prompt_number": 137
    },
    {
     "cell_type": "code",
     "collapsed": false,
     "input": [
      "m = find_movie(movies, 28430)\n",
      "\n",
      "print m.title_en\n",
      "print m._imdb_candidates\n",
      "print m\n",
      "\n",
      "imdb.f\n",
      "\n",
      "imdb.find_by_title( m.title_en.encode('utf-8'))"
     ],
     "language": "python",
     "metadata": {},
     "outputs": []
    },
    {
     "cell_type": "code",
     "collapsed": false,
     "input": [
      "idx=4\n",
      "print critics[0].reviews[idx].movie._imdb_candidates\n",
      "print critics[0].reviews[idx].movie.director_en\n",
      "print critics[0].reviews[idx].movie.director\n",
      "print critics[0].reviews[idx].movie.title_en\n",
      "print critics[0].reviews[idx].movie.title"
     ],
     "language": "python",
     "metadata": {},
     "outputs": [
      {
       "output_type": "stream",
       "stream": "stdout",
       "text": [
        "[{'year': u'2012', 'imdb_id': u'tt2071445', 'title': u'Deranged'}, {'year': u'2012', 'imdb_id': u'tt2064980', 'title': u'Theatre of the Deranged'}, {'year': u'2011', 'imdb_id': u'tt2011179', 'title': u'Paradise Deranged'}]\n",
        "Park Jungwoo\n",
        "\ubc15\uc815\uc6b0\n",
        "Deranged\n",
        "\uc5f0\uac00\uc2dc\n"
       ]
      }
     ],
     "prompt_number": 63
    },
    {
     "cell_type": "code",
     "collapsed": false,
     "input": [
      "\n",
      "body = requests.get(\"http://auto.movie.naver.com/ac?q_enc=UTF-8&st=1&r_lt=1&n_ext=1&t_koreng=1&r_format=json&r_enc=UTF-8&r_unicode=0&r_escape=1&q=%EC%9C%A0%EC%8B%A0%EC%9D%98%20%EC%B6%94%EC%96%B5%20-%20%EB%8B%A4%EC%B9%B4%ED%82%A4%20%EB%A7%88%EC%82%AC%EC%98%A4%EC%9D%98%20%EC%A0%84%EC%84%B1%EC%8B%9C%EB%8C%80\").text\n",
      "j = json.loads(body[body.find('{'):body.rfind('}')+1])\n",
      "\n",
      "for i in j['items']:\n",
      "    print i[0][1][0]"
     ],
     "language": "python",
     "metadata": {},
     "outputs": [
      {
       "output_type": "stream",
       "stream": "stdout",
       "text": [
        "20121122\n"
       ]
      },
      {
       "ename": "IndexError",
       "evalue": "list index out of range",
       "output_type": "pyerr",
       "traceback": [
        "\u001b[1;31m---------------------------------------------------------------------------\u001b[0m\n\u001b[1;31mIndexError\u001b[0m                                Traceback (most recent call last)",
        "\u001b[1;32m<ipython-input-117-0f2ee2bd82fe>\u001b[0m in \u001b[0;36m<module>\u001b[1;34m()\u001b[0m\n\u001b[0;32m      4\u001b[0m \u001b[1;33m\u001b[0m\u001b[0m\n\u001b[0;32m      5\u001b[0m \u001b[1;32mfor\u001b[0m \u001b[0mi\u001b[0m \u001b[1;32min\u001b[0m \u001b[0mj\u001b[0m\u001b[1;33m[\u001b[0m\u001b[1;34m'items'\u001b[0m\u001b[1;33m]\u001b[0m\u001b[1;33m:\u001b[0m\u001b[1;33m\u001b[0m\u001b[0m\n\u001b[1;32m----> 6\u001b[1;33m     \u001b[1;32mprint\u001b[0m \u001b[0mi\u001b[0m\u001b[1;33m[\u001b[0m\u001b[1;36m0\u001b[0m\u001b[1;33m]\u001b[0m\u001b[1;33m[\u001b[0m\u001b[1;36m1\u001b[0m\u001b[1;33m]\u001b[0m\u001b[1;33m[\u001b[0m\u001b[1;36m0\u001b[0m\u001b[1;33m]\u001b[0m\u001b[1;33m\u001b[0m\u001b[0m\n\u001b[0m",
        "\u001b[1;31mIndexError\u001b[0m: list index out of range"
       ]
      }
     ],
     "prompt_number": 117
    },
    {
     "cell_type": "code",
     "collapsed": false,
     "input": [],
     "language": "python",
     "metadata": {},
     "outputs": []
    }
   ],
   "metadata": {}
  }
 ]
}