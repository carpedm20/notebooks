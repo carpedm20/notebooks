{
 "metadata": {
  "name": "",
  "signature": "sha256:6b95a098d53462e969a95f13a862deeccf933e7594b31775a989bce1802f850e"
 },
 "nbformat": 3,
 "nbformat_minor": 0,
 "worksheets": [
  {
   "cells": [
    {
     "cell_type": "code",
     "collapsed": false,
     "input": [
      "from IPython.display import HTML\n",
      "\n",
      "import re\n",
      "import time\n",
      "import requests\n",
      "import json\n",
      "import urllib\n",
      "import pandas as pd\n",
      "from bs4 import BeautifulSoup\n",
      "\n",
      "from imdbpie import Imdb\n",
      "imdb = Imdb({'cache': True})\n",
      "imdb = Imdb({'cache': True, 'cache_dir': '/tmp/imdbpie-cache-here'})\n",
      "\n",
      "pd.set_option('display.max_colwidth', -1)\n",
      "\n",
      "def dataframe_with_link(df, col):\n",
      "    tmp = df.copy()\n",
      "    tmp[col] = tmp[col].apply(lambda x: '<a href=\"{0}\" target=\"_blank\">{0}</a>'.format(x))\n",
      "    return HTML(tmp.to_html(escape=False))\n",
      "\n",
      "get_movie = lambda movies, mid: [movie for movie in movies if movie.mid == mid]\n",
      "get_soup = lambda url: BeautifulSoup(requests.get(url).text)\n",
      "        \n",
      "CINE = \"http://www.cine21.com\"\n",
      "NAVER_INFO = \"http://movie.naver.com/movie/bi/mi/basic.nhn?code=\"\n",
      "NAVER_AUTO = \"http://auto.movie.naver.com/ac?q_enc=UTF-8&st=1&r_lt=1&n_ext=1&t_koreng=1&r_format=json&r_enc=UTF-8&r_unicode=0&r_escape=1&\""
     ],
     "language": "python",
     "metadata": {},
     "outputs": [],
     "prompt_number": 1
    },
    {
     "cell_type": "markdown",
     "metadata": {},
     "source": [
      "# \uc528\ub12421 \uc804\ubb38\uac00 20\uc790\ud3c9 \ub370\uc774\ud130\n",
      "\n",
      "http://www.cine21.com/review/review20"
     ]
    },
    {
     "cell_type": "code",
     "collapsed": false,
     "input": [
      "r = requests.get(\"http://www.cine21.com/review/review20\")\n",
      "soup = BeautifulSoup(r.text)\n",
      "\n",
      "div = soup.find('div','author_review')"
     ],
     "language": "python",
     "metadata": {},
     "outputs": [],
     "prompt_number": 2
    },
    {
     "cell_type": "code",
     "collapsed": false,
     "input": [
      "critics = [( ul.text, CINE + ul.a['href']) for ul in div.select(\"li\")]\n",
      "\n",
      "#critic_tbl = pd.DataFrame(critics, columns=['Name', 'URL'])\n",
      "critic_tbl = pd.DataFrame(critics, columns=['Name', 'URL'])\n",
      "\n",
      "dataframe_with_link(critic_tbl, 'URL')"
     ],
     "language": "python",
     "metadata": {},
     "outputs": [
      {
       "html": [
        "<table border=\"1\" class=\"dataframe\">\n",
        "  <thead>\n",
        "    <tr style=\"text-align: right;\">\n",
        "      <th></th>\n",
        "      <th>Name</th>\n",
        "      <th>URL</th>\n",
        "    </tr>\n",
        "  </thead>\n",
        "  <tbody>\n",
        "    <tr>\n",
        "      <th>0</th>\n",
        "      <td> \uac15\ubcd1\uc9c4</td>\n",
        "      <td> <a href=\"http://www.cine21.com/review/review20/pre/E20041463\" target=\"_blank\">http://www.cine21.com/review/review20/pre/E20041463</a></td>\n",
        "    </tr>\n",
        "    <tr>\n",
        "      <th>1</th>\n",
        "      <td> \uac15\ud55c\uc12d</td>\n",
        "      <td> <a href=\"http://www.cine21.com/review/review20/pre/E20041369\" target=\"_blank\">http://www.cine21.com/review/review20/pre/E20041369</a></td>\n",
        "    </tr>\n",
        "    <tr>\n",
        "      <th>2</th>\n",
        "      <td> \uace0\uacbd\ud0dc</td>\n",
        "      <td> <a href=\"http://www.cine21.com/review/review20/pre/E20041570\" target=\"_blank\">http://www.cine21.com/review/review20/pre/E20041570</a></td>\n",
        "    </tr>\n",
        "    <tr>\n",
        "      <th>3</th>\n",
        "      <td> \uae40\ub3c4\ud6c8</td>\n",
        "      <td> <a href=\"http://www.cine21.com/review/review20/pre/C20040204\" target=\"_blank\">http://www.cine21.com/review/review20/pre/C20040204</a></td>\n",
        "    </tr>\n",
        "    <tr>\n",
        "      <th>4</th>\n",
        "      <td> \uae40\ubd09\uc11d</td>\n",
        "      <td> <a href=\"http://www.cine21.com/review/review20/pre/C20030805\" target=\"_blank\">http://www.cine21.com/review/review20/pre/C20030805</a></td>\n",
        "    </tr>\n",
        "    <tr>\n",
        "      <th>5</th>\n",
        "      <td> \uae40\uc131\ud6c8</td>\n",
        "      <td> <a href=\"http://www.cine21.com/review/review20/pre/E20041648\" target=\"_blank\">http://www.cine21.com/review/review20/pre/E20041648</a></td>\n",
        "    </tr>\n",
        "    <tr>\n",
        "      <th>6</th>\n",
        "      <td> \uae40\uc18c\uc601</td>\n",
        "      <td> <a href=\"http://www.cine21.com/review/review20/pre/E20041213\" target=\"_blank\">http://www.cine21.com/review/review20/pre/E20041213</a></td>\n",
        "    </tr>\n",
        "    <tr>\n",
        "      <th>7</th>\n",
        "      <td> \uae40\uc18c\ud76c</td>\n",
        "      <td> <a href=\"http://www.cine21.com/review/review20/pre/E20041214\" target=\"_blank\">http://www.cine21.com/review/review20/pre/E20041214</a></td>\n",
        "    </tr>\n",
        "    <tr>\n",
        "      <th>8</th>\n",
        "      <td> \uae40\uc601\uc9c4</td>\n",
        "      <td> <a href=\"http://www.cine21.com/review/review20/pre/E20041370\" target=\"_blank\">http://www.cine21.com/review/review20/pre/E20041370</a></td>\n",
        "    </tr>\n",
        "    <tr>\n",
        "      <th>9</th>\n",
        "      <td> \uae40\uc6a9\uc5b8</td>\n",
        "      <td> <a href=\"http://www.cine21.com/review/review20/pre/E20041217\" target=\"_blank\">http://www.cine21.com/review/review20/pre/E20041217</a></td>\n",
        "    </tr>\n",
        "    <tr>\n",
        "      <th>10</th>\n",
        "      <td> \uae40\uc740\ud615</td>\n",
        "      <td> <a href=\"http://www.cine21.com/review/review20/pre/E20041220\" target=\"_blank\">http://www.cine21.com/review/review20/pre/E20041220</a></td>\n",
        "    </tr>\n",
        "    <tr>\n",
        "      <th>11</th>\n",
        "      <td> \uae40\uc885\ucca0</td>\n",
        "      <td> <a href=\"http://www.cine21.com/review/review20/pre/E20041228\" target=\"_blank\">http://www.cine21.com/review/review20/pre/E20041228</a></td>\n",
        "    </tr>\n",
        "    <tr>\n",
        "      <th>12</th>\n",
        "      <td> \uae40\uc9c0\ubbf8</td>\n",
        "      <td> <a href=\"http://www.cine21.com/review/review20/pre/E20041390\" target=\"_blank\">http://www.cine21.com/review/review20/pre/E20041390</a></td>\n",
        "    </tr>\n",
        "    <tr>\n",
        "      <th>13</th>\n",
        "      <td> \uae40\ud0dc\ud6c8</td>\n",
        "      <td> <a href=\"http://www.cine21.com/review/review20/pre/E20041534\" target=\"_blank\">http://www.cine21.com/review/review20/pre/E20041534</a></td>\n",
        "    </tr>\n",
        "    <tr>\n",
        "      <th>14</th>\n",
        "      <td> \uae40\ud0dc\ud6c8</td>\n",
        "      <td> <a href=\"http://www.cine21.com/review/review20/pre/E20041693\" target=\"_blank\">http://www.cine21.com/review/review20/pre/E20041693</a></td>\n",
        "    </tr>\n",
        "    <tr>\n",
        "      <th>15</th>\n",
        "      <td> \uae40\ud61c\ub9ac</td>\n",
        "      <td> <a href=\"http://www.cine21.com/review/review20/pre/C20030816\" target=\"_blank\">http://www.cine21.com/review/review20/pre/C20030816</a></td>\n",
        "    </tr>\n",
        "    <tr>\n",
        "      <th>16</th>\n",
        "      <td> \ub0a8\ub2e4\uc740</td>\n",
        "      <td> <a href=\"http://www.cine21.com/review/review20/pre/E20041237\" target=\"_blank\">http://www.cine21.com/review/review20/pre/E20041237</a></td>\n",
        "    </tr>\n",
        "    <tr>\n",
        "      <th>17</th>\n",
        "      <td> \ub0a8\ub3d9\ucca0</td>\n",
        "      <td> <a href=\"http://www.cine21.com/review/review20/pre/C20030813\" target=\"_blank\">http://www.cine21.com/review/review20/pre/C20030813</a></td>\n",
        "    </tr>\n",
        "    <tr>\n",
        "      <th>18</th>\n",
        "      <td> \ub0a8\ubbfc\uc601</td>\n",
        "      <td> <a href=\"http://www.cine21.com/review/review20/pre/E20041719\" target=\"_blank\">http://www.cine21.com/review/review20/pre/E20041719</a></td>\n",
        "    </tr>\n",
        "    <tr>\n",
        "      <th>19</th>\n",
        "      <td> \ub2ec\uc2dc \ud30c\ucf13</td>\n",
        "      <td> <a href=\"http://www.cine21.com/review/review20/pre/E20041243\" target=\"_blank\">http://www.cine21.com/review/review20/pre/E20041243</a></td>\n",
        "    </tr>\n",
        "    <tr>\n",
        "      <th>20</th>\n",
        "      <td> \ubb38\uc11d</td>\n",
        "      <td> <a href=\"http://www.cine21.com/review/review20/pre/C20040801\" target=\"_blank\">http://www.cine21.com/review/review20/pre/C20040801</a></td>\n",
        "    </tr>\n",
        "    <tr>\n",
        "      <th>21</th>\n",
        "      <td> \ubc15\ud3c9\uc2dd</td>\n",
        "      <td> <a href=\"http://www.cine21.com/review/review20/pre/E20041252\" target=\"_blank\">http://www.cine21.com/review/review20/pre/E20041252</a></td>\n",
        "    </tr>\n",
        "    <tr>\n",
        "      <th>22</th>\n",
        "      <td> \ubc15\ud61c\uba85</td>\n",
        "      <td> <a href=\"http://www.cine21.com/review/review20/pre/C20030825\" target=\"_blank\">http://www.cine21.com/review/review20/pre/C20030825</a></td>\n",
        "    </tr>\n",
        "    <tr>\n",
        "      <th>23</th>\n",
        "      <td> \uc1a1\uacbd\uc6d0</td>\n",
        "      <td> <a href=\"http://www.cine21.com/review/review20/pre/E20041673\" target=\"_blank\">http://www.cine21.com/review/review20/pre/E20041673</a></td>\n",
        "    </tr>\n",
        "    <tr>\n",
        "      <th>24</th>\n",
        "      <td> \uc2e0\ub450\uc601</td>\n",
        "      <td> <a href=\"http://www.cine21.com/review/review20/pre/E20041678\" target=\"_blank\">http://www.cine21.com/review/review20/pre/E20041678</a></td>\n",
        "    </tr>\n",
        "    <tr>\n",
        "      <th>25</th>\n",
        "      <td> \uc2ec\uc601\uc12d</td>\n",
        "      <td> <a href=\"http://www.cine21.com/review/review20/pre/E20041269\" target=\"_blank\">http://www.cine21.com/review/review20/pre/E20041269</a></td>\n",
        "    </tr>\n",
        "    <tr>\n",
        "      <th>26</th>\n",
        "      <td> \uc548\uc815\uc219</td>\n",
        "      <td> <a href=\"http://www.cine21.com/review/review20/pre/E20041273\" target=\"_blank\">http://www.cine21.com/review/review20/pre/E20041273</a></td>\n",
        "    </tr>\n",
        "    <tr>\n",
        "      <th>27</th>\n",
        "      <td> \uc548\ud604\uc9c4</td>\n",
        "      <td> <a href=\"http://www.cine21.com/review/review20/pre/E20041487\" target=\"_blank\">http://www.cine21.com/review/review20/pre/E20041487</a></td>\n",
        "    </tr>\n",
        "    <tr>\n",
        "      <th>28</th>\n",
        "      <td> \uc624\uc138\ud615</td>\n",
        "      <td> <a href=\"http://www.cine21.com/review/review20/pre/E20041694\" target=\"_blank\">http://www.cine21.com/review/review20/pre/E20041694</a></td>\n",
        "    </tr>\n",
        "    <tr>\n",
        "      <th>29</th>\n",
        "      <td> \uc624\uc815\uc5f0</td>\n",
        "      <td> <a href=\"http://www.cine21.com/review/review20/pre/C20040203\" target=\"_blank\">http://www.cine21.com/review/review20/pre/C20040203</a></td>\n",
        "    </tr>\n",
        "    <tr>\n",
        "      <th>30</th>\n",
        "      <td> \uc720\uc9c0\ub098</td>\n",
        "      <td> <a href=\"http://www.cine21.com/review/review20/pre/E20041279\" target=\"_blank\">http://www.cine21.com/review/review20/pre/E20041279</a></td>\n",
        "    </tr>\n",
        "    <tr>\n",
        "      <th>31</th>\n",
        "      <td> \uc774\ub2e4\ud61c</td>\n",
        "      <td> <a href=\"http://www.cine21.com/review/review20/pre/C20041001\" target=\"_blank\">http://www.cine21.com/review/review20/pre/C20041001</a></td>\n",
        "    </tr>\n",
        "    <tr>\n",
        "      <th>32</th>\n",
        "      <td> \uc774\ub3d9\uc9c4</td>\n",
        "      <td> <a href=\"http://www.cine21.com/review/review20/pre/E20041283\" target=\"_blank\">http://www.cine21.com/review/review20/pre/E20041283</a></td>\n",
        "    </tr>\n",
        "    <tr>\n",
        "      <th>33</th>\n",
        "      <td> \uc774\uba85\uc778</td>\n",
        "      <td> <a href=\"http://www.cine21.com/review/review20/pre/E20041368\" target=\"_blank\">http://www.cine21.com/review/review20/pre/E20041368</a></td>\n",
        "    </tr>\n",
        "    <tr>\n",
        "      <th>34</th>\n",
        "      <td> \uc774\uc131\uc6b1</td>\n",
        "      <td> <a href=\"http://www.cine21.com/review/review20/pre/C20030808\" target=\"_blank\">http://www.cine21.com/review/review20/pre/C20030808</a></td>\n",
        "    </tr>\n",
        "    <tr>\n",
        "      <th>35</th>\n",
        "      <td> \uc774\uc601\uc9c4</td>\n",
        "      <td> <a href=\"http://www.cine21.com/review/review20/pre/C20030818\" target=\"_blank\">http://www.cine21.com/review/review20/pre/C20030818</a></td>\n",
        "    </tr>\n",
        "    <tr>\n",
        "      <th>36</th>\n",
        "      <td> \uc774\uc6a9\ucca0</td>\n",
        "      <td> <a href=\"http://www.cine21.com/review/review20/pre/E20041291\" target=\"_blank\">http://www.cine21.com/review/review20/pre/E20041291</a></td>\n",
        "    </tr>\n",
        "    <tr>\n",
        "      <th>37</th>\n",
        "      <td> \uc774\uc8fc\ud604</td>\n",
        "      <td> <a href=\"http://www.cine21.com/review/review20/pre/E20041646\" target=\"_blank\">http://www.cine21.com/review/review20/pre/E20041646</a></td>\n",
        "    </tr>\n",
        "    <tr>\n",
        "      <th>38</th>\n",
        "      <td> \uc774\ud604\uacbd</td>\n",
        "      <td> <a href=\"http://www.cine21.com/review/review20/pre/E20041520\" target=\"_blank\">http://www.cine21.com/review/review20/pre/E20041520</a></td>\n",
        "    </tr>\n",
        "    <tr>\n",
        "      <th>39</th>\n",
        "      <td> \uc774\ud654\uc815</td>\n",
        "      <td> <a href=\"http://www.cine21.com/review/review20/pre/E20041565\" target=\"_blank\">http://www.cine21.com/review/review20/pre/E20041565</a></td>\n",
        "    </tr>\n",
        "    <tr>\n",
        "      <th>40</th>\n",
        "      <td> \uc774\ud6c4\uacbd</td>\n",
        "      <td> <a href=\"http://www.cine21.com/review/review20/pre/E20041717\" target=\"_blank\">http://www.cine21.com/review/review20/pre/E20041717</a></td>\n",
        "    </tr>\n",
        "    <tr>\n",
        "      <th>41</th>\n",
        "      <td> \uc784\ubc94</td>\n",
        "      <td> <a href=\"http://www.cine21.com/review/review20/pre/E20041301\" target=\"_blank\">http://www.cine21.com/review/review20/pre/E20041301</a></td>\n",
        "    </tr>\n",
        "    <tr>\n",
        "      <th>42</th>\n",
        "      <td> \uc7a5\ubbf8</td>\n",
        "      <td> <a href=\"http://www.cine21.com/review/review20/pre/E20041488\" target=\"_blank\">http://www.cine21.com/review/review20/pre/E20041488</a></td>\n",
        "    </tr>\n",
        "    <tr>\n",
        "      <th>43</th>\n",
        "      <td> \uc7a5\uc601\uc5fd</td>\n",
        "      <td> <a href=\"http://www.cine21.com/review/review20/pre/E20041590\" target=\"_blank\">http://www.cine21.com/review/review20/pre/E20041590</a></td>\n",
        "    </tr>\n",
        "    <tr>\n",
        "      <th>44</th>\n",
        "      <td> \uc815\uc7ac\ud601</td>\n",
        "      <td> <a href=\"http://www.cine21.com/review/review20/pre/E20041465\" target=\"_blank\">http://www.cine21.com/review/review20/pre/E20041465</a></td>\n",
        "    </tr>\n",
        "    <tr>\n",
        "      <th>45</th>\n",
        "      <td> \uc815\ud55c\uc11d</td>\n",
        "      <td> <a href=\"http://www.cine21.com/review/review20/pre/C20030819\" target=\"_blank\">http://www.cine21.com/review/review20/pre/C20030819</a></td>\n",
        "    </tr>\n",
        "    <tr>\n",
        "      <th>46</th>\n",
        "      <td> \uc8fc\uc131\ucca0</td>\n",
        "      <td> <a href=\"http://www.cine21.com/review/review20/pre/E20041598\" target=\"_blank\">http://www.cine21.com/review/review20/pre/E20041598</a></td>\n",
        "    </tr>\n",
        "    <tr>\n",
        "      <th>47</th>\n",
        "      <td> \ucd5c\ud558\ub098</td>\n",
        "      <td> <a href=\"http://www.cine21.com/review/review20/pre/E20041464\" target=\"_blank\">http://www.cine21.com/review/review20/pre/E20041464</a></td>\n",
        "    </tr>\n",
        "    <tr>\n",
        "      <th>48</th>\n",
        "      <td> \ud558\uc7ac\ubd09</td>\n",
        "      <td> <a href=\"http://www.cine21.com/review/review20/pre/E20041445\" target=\"_blank\">http://www.cine21.com/review/review20/pre/E20041445</a></td>\n",
        "    </tr>\n",
        "    <tr>\n",
        "      <th>49</th>\n",
        "      <td> \ud55c\ub3d9\uc6d0</td>\n",
        "      <td> <a href=\"http://www.cine21.com/review/review20/pre/E20041330\" target=\"_blank\">http://www.cine21.com/review/review20/pre/E20041330</a></td>\n",
        "    </tr>\n",
        "    <tr>\n",
        "      <th>50</th>\n",
        "      <td> \ud64d\uc131\ub0a8</td>\n",
        "      <td> <a href=\"http://www.cine21.com/review/review20/pre/E20041334\" target=\"_blank\">http://www.cine21.com/review/review20/pre/E20041334</a></td>\n",
        "    </tr>\n",
        "    <tr>\n",
        "      <th>51</th>\n",
        "      <td> \ud669\uc9c4\ubbf8</td>\n",
        "      <td> <a href=\"http://www.cine21.com/review/review20/pre/E20041338\" target=\"_blank\">http://www.cine21.com/review/review20/pre/E20041338</a></td>\n",
        "    </tr>\n",
        "  </tbody>\n",
        "</table>"
       ],
       "metadata": {},
       "output_type": "pyout",
       "prompt_number": 10,
       "text": [
        "<IPython.core.display.HTML at 0x7f1b051dc9d0>"
       ]
      }
     ],
     "prompt_number": 10
    },
    {
     "cell_type": "code",
     "collapsed": false,
     "input": [
      "from sqlalchemy import create_engine\n",
      "from sqlalchemy.orm import scoped_session, sessionmaker\n",
      "from sqlalchemy.ext.declarative import declarative_base\n",
      "from sqlalchemy import Column, Date, Integer, String, Text, Boolean, Date\n",
      "\n",
      "import logging\n",
      "\n",
      "#logging.basicConfig()\n",
      "#logging.getLogger('sqlalchemy.engine').setLevel(logging.INFO)\n",
      "\n",
      "import logging\n",
      "logger = logging.getLogger()\n",
      "logger.disabled = True\n",
      "\n",
      "engine = create_engine('sqlite:///movie.db', echo=False)\n",
      "#engine = create_engine('mysql://root:@localhost/carpedm20')\n",
      "\n",
      "db_session = scoped_session(sessionmaker(autocommit=False,\n",
      "                                         autoflush=False,\n",
      "                                         bind=engine))\n",
      "\n",
      "Base = declarative_base()\n",
      "Base.query = db_session.query_property()\n",
      "\n",
      "class Movie_DB(Base):\n",
      "    __tablename__ = 'movie'\n",
      "    mid = Column(Integer, primary_key=True)\n",
      "    year = Column(String(50))\n",
      "    title = Column(String(100))\n",
      "    title_en = Column(String(100))\n",
      "    time = Column(Date)\n",
      "    director = Column(String(100))\n",
      "    director_en = Column(String(100))\n",
      "    naver_mid = Column(Integer, unique=True)\n",
      "    imdb_mid = Column(Integer)\n",
      "\n",
      "    def __init__(self, mid, title, title_en, year, time, director, director_en, naver_mid, imdb_mid):\n",
      "        self.mid = mid\n",
      "        self.title = title\n",
      "        self.title_en = title_en\n",
      "        self.year = year\n",
      "        self.time = time\n",
      "        self.director = director\n",
      "        self.director_en = director_en\n",
      "        self.naver_mid = naver_mid\n",
      "        self.imdb_mid = imdb_mid\n",
      "\n",
      "    def __repr__(self):\n",
      "        msg = '<Movie %s <%s> ( %s )>' % (self.title, self.mid, \"http://www.cine21.com/movie/info/movie_id/\" + self.mid)\n",
      "        return msg.encode('utf8')\n",
      "\n",
      "Base.metadata.create_all(bind=engine)"
     ],
     "language": "python",
     "metadata": {},
     "outputs": [],
     "prompt_number": 11
    },
    {
     "cell_type": "code",
     "collapsed": false,
     "input": [
      "from difflib import SequenceMatcher as sm\n",
      "\n",
      "def is_same_name(a,b):\n",
      "    for (x,y) in [(a,b),(b,a)]:\n",
      "        for word in x.split():\n",
      "            if word in y:\n",
      "                return True\n",
      "    if sm(a=list(set(b)), b=list(set(a))).ratio() > 0.7:\n",
      "        return True\n",
      "    return False\n",
      "\n",
      "class Critic(object):\n",
      "    def __init__(self, name, link):\n",
      "        self.name = name\n",
      "        self.link = link\n",
      "        self.reviews = []\n",
      "    \n",
      "    def __repr__(self):\n",
      "        msg = '<Critic %s (%s): %s>' % (self.name, self.link, len(self.reviews))\n",
      "        return msg.encode('utf8')\n",
      "    \n",
      "class Movie(object):\n",
      "    def __init__(self, mid, title):\n",
      "        self.mid = mid\n",
      "        self.title = title\n",
      "        self._title_en = None\n",
      "        self._year = None\n",
      "        self._time = None\n",
      "        self._director = None\n",
      "        self._director_en = None\n",
      "        self._naver_mid = None\n",
      "        self._imdb_mid = None\n",
      "        self._imdb_candidates = []\n",
      "        \n",
      "        self._ko_user_star = None\n",
      "        self._ko_critic_star = None\n",
      "        self._fo_user_star = None\n",
      "        self._fo_critic_star = None\n",
      "        \n",
      "    @property\n",
      "    def link(self):\n",
      "        return \"http://www.cine21.com/movie/info/movie_id/\" + str(self.mid)\n",
      "    \n",
      "    @property\n",
      "    def director(self):\n",
      "        if not self._director: self.get_info()\n",
      "        return self._director\n",
      "    \n",
      "    @property\n",
      "    def director_en(self):\n",
      "        if not self._director_en: self.get_info()\n",
      "        return self._director_en\n",
      "    \n",
      "    @property\n",
      "    def time(self):\n",
      "        if not self._time: self.get_info()\n",
      "        return self._time\n",
      "    \n",
      "    @property\n",
      "    def year(self):\n",
      "        if not self._year: self.get_info()\n",
      "        return self._year\n",
      "    \n",
      "    @property\n",
      "    def title_en(self):\n",
      "        if not self._title_en: self.get_info()\n",
      "        return self._title_en\n",
      "    \n",
      "    @property\n",
      "    def naver_mid(self):\n",
      "        if not self._naver_mid: self.get_naver()\n",
      "        return self._naver_mid\n",
      "    \n",
      "    @property\n",
      "    def imdb_mid(self):\n",
      "        if not self._imdb_mid: self.get_imdb()\n",
      "        return self._imdb_mid\n",
      "    \n",
      "    def get_info(self):\n",
      "        try:\n",
      "            soup = get_soup(self.link)\n",
      "            h3 = soup.select(\".desc h3\")[0].text.strip()\n",
      "            self._year = int(re.findall(r'\\(\\d\\d\\d\\d\\)$', h3)[-1][1:-1])\n",
      "\n",
      "            tds = soup.select(\".tbl_basic3 tr td\")\n",
      "\n",
      "            self._title_en = tds[0].text.strip()\n",
      "            self._director = tds[1].text.strip()\n",
      "\n",
      "            try:\n",
      "                soup = get_soup(CINE + tds[1].a['href'])\n",
      "            except:\n",
      "                soup = get_soup(CINE + tds[2].a['href'])\n",
      "\n",
      "            try:\n",
      "                self._director_en = re.findall(r'\\(.*\\)$', soup.select(\"span.name\")[0].text.strip())[-1][1:-1]\n",
      "            except:\n",
      "                return False\n",
      "            try:\n",
      "                self._time = time.strptime(tds[-1].text.strip(), \"%Y-%M-%d\")\n",
      "            except:\n",
      "                return False\n",
      "        except:\n",
      "            return False\n",
      "            \n",
      "    def get_naver(self):\n",
      "        query = urllib.urlencode({'q' : self.title.encode('utf-8')})\n",
      "        \n",
      "        body = requests.get(NAVER_AUTO + query).text\n",
      "        j = json.loads(body[body.find('{'):body.rfind('}')+1])\n",
      "        \n",
      "        ans = None\n",
      "        \n",
      "        if len(j['items']) > 2:\n",
      "            for item in j['items']:\n",
      "                if item:\n",
      "                    if not self._time: self.get_info()\n",
      "                    if self._time == time.strptime(item[0][1][0], \"%Y%M%d\") and item[0][1][-1] == \"movie\":\n",
      "                        ans = item\n",
      "                        break\n",
      "        else:\n",
      "            ans = j['items'][0]\n",
      "        \n",
      "        if not ans:\n",
      "            if self.mid == 27710:\n",
      "                self._naver_mid = 71424\n",
      "                return\n",
      "            elif self.mid == 26369:\n",
      "                self._naver_mid = 49475\n",
      "                return\n",
      "            elif self.mid == 23105:\n",
      "                self._naver_mid = 64920\n",
      "                return\n",
      "            elif self.mid == 3684:\n",
      "                self._naver_mid = 3470449\n",
      "                return\n",
      "            raise Exception(\" [!] NAVER Movie not found : %s\" % self.mid)\n",
      "            \n",
      "        self._naver_mid = ans[0][-2][0]\n",
      "            \n",
      "        #soup = get_soup(NAVER_INFO+self._naver_mid)\n",
      "        \n",
      "        \n",
      "    def get_imdb(self):\n",
      "        if not self._title_en or not self._time or not self._year:\n",
      "            self.get_info()\n",
      "\n",
      "        try:\n",
      "            movies = imdb.find_by_title(self._title_en)\n",
      "        except:\n",
      "            movies = imdb.find_by_title(self._title_en.encode('utf-8'))\n",
      "        ans = None\n",
      "        \n",
      "        if len(movies) > 1:\n",
      "            self._imdb_candidates = []\n",
      "            candidates = []\n",
      "            \n",
      "            for movie in movies:\n",
      "                if movie['year']:\n",
      "                    year = int(movie['year'])\n",
      "                    \n",
      "                    if year == self._year or year == self.time.tm_year:\n",
      "                        candidates.append(movie)\n",
      "\n",
      "            if len(candidates) == 0:\n",
      "                candidates = movies\n",
      "\n",
      "            for candidate in candidates:\n",
      "                info = imdb.find_movie_by_id(candidate['imdb_id'])\n",
      "\n",
      "                is_possible = False\n",
      "                for director in info.directors_summary:\n",
      "                    if is_same_name(director.name, self._director_en):\n",
      "                        self._imdb_candidates.append(candidate)\n",
      "                        break\n",
      "\n",
      "            if len(self._imdb_candidates) > 1:\n",
      "                ans = self._imdb_candidates[0]\n",
      "                max_gap = self.year - int(ans['year'])\n",
      "                \n",
      "                for candidate in self._imdb_candidates[1:]:\n",
      "                    if max_gap > self.year - int(candidate['year']):\n",
      "                        ans = candidate\n",
      "                \n",
      "                self._imdb_mid = ans['imdb_id']\n",
      "                return\n",
      "            \n",
      "                #raise Exception(\"Too many candidates : %s\" % self._imdb_candidates)\n",
      "\n",
      "                #soup = get_soup(\"http://www.imdb.com/title/%s/releaseinfo\" % candidate['imdb_id'])\n",
      "                #for tr in soup.select(\"#release_dates tr\"):\n",
      "                #    if tr.find(\"a\").text == \"South Korea\":\n",
      "                #        pass\n",
      "                    \n",
      "            if len(self._imdb_candidates) == 1:\n",
      "                ans = self._imdb_candidates[0]\n",
      "            elif len(self._imdb_candidates) == 0:\n",
      "                self._imdb_mid = -1\n",
      "                return\n",
      "            else:\n",
      "                raise Exception (\" [!] IMDB Movie not found : %s\" % len(self._imdb_candidates))\n",
      "        elif len(movies) == 0:\n",
      "            return False\n",
      "        else:\n",
      "            ans = movies[0]\n",
      "        \n",
      "        if not ans:\n",
      "            raise Exception (\" [!] IMDB Movie not found\")\n",
      "            \n",
      "        self._imdb_mid = ans['imdb_id']\n",
      "        \n",
      "    def __repr__(self):\n",
      "        msg = '<Movie %s<%s> ( %s )>' % (self.title, self.mid, self.link)\n",
      "        return msg.encode('utf8')\n",
      "        \n",
      "class Review(object):\n",
      "    def __init__(self, movie, text, rating):\n",
      "        self.movie = movie\n",
      "        self.text = text\n",
      "        self.rating = rating\n",
      "    \n",
      "    def __repr__(self):\n",
      "        msg = '<Review %s (%s)>' % (self.movie.title, self.rating)\n",
      "        return msg.encode('utf8')\n",
      "\n",
      "def find_movie(movies, mid):\n",
      "    for movie in movies:\n",
      "        if movie.mid == mid:\n",
      "            return movie"
     ],
     "language": "python",
     "metadata": {},
     "outputs": [],
     "prompt_number": 17
    },
    {
     "cell_type": "code",
     "collapsed": false,
     "input": [
      "critics = []\n",
      "movies = []\n",
      "\n",
      "for data in critic_tbl.iterrows():\n",
      "    critic = Critic(data[1].Name, data[1].URL)\n",
      "    critics.append(critic)\n",
      "    soup = get_soup(data[1].URL)\n",
      "    \n",
      "    print critic\n",
      "    \n",
      "    pagination = soup.find('div','pagination')\n",
      "    last_page = int(pagination.select('a')[-1]['href'].split('/')[-1])\n",
      "    \n",
      "    for idx in xrange(1, last_page+1):\n",
      "        tmp_url = data[1].URL + \"/p/\" + str(idx)\n",
      "        soup = get_soup(tmp_url)\n",
      "        \n",
      "        for tr in soup.find(\"table\", \"tbl_basic4_3 td_st\").select(\"tr\"):\n",
      "            href = CINE + tr.th.a['href']\n",
      "            \n",
      "            mid = int(href.split('/')[-1])\n",
      "            movie = get_movie(movies, mid)\n",
      "            \n",
      "            if not movie:\n",
      "                title = tr.th.a.text[2:]\n",
      "                movie = Movie(mid, title)\n",
      "                \n",
      "                movies.append(movie)\n",
      "            \n",
      "            tr.th.a.extract()\n",
      "            tr.th.span.extract()\n",
      "            \n",
      "            content = tr.th.text\n",
      "            rating = int(tr.td.find(\"strong\").text)\n",
      "            \n",
      "            review = Review(movie, content, rating)\n",
      "            critic.reviews.append(review)"
     ],
     "language": "python",
     "metadata": {},
     "outputs": [
      {
       "output_type": "stream",
       "stream": "stdout",
       "text": [
        "<Critic \uac15\ubcd1\uc9c4 (http://www.cine21.com/review/review20/pre/E20041463): 0>\n",
        "<Critic \uac15\ud55c\uc12d (http://www.cine21.com/review/review20/pre/E20041369): 0>"
       ]
      },
      {
       "output_type": "stream",
       "stream": "stdout",
       "text": [
        "\n",
        "<Critic \uace0\uacbd\ud0dc (http://www.cine21.com/review/review20/pre/E20041570): 0>"
       ]
      },
      {
       "output_type": "stream",
       "stream": "stdout",
       "text": [
        "\n",
        "<Critic \uae40\ub3c4\ud6c8 (http://www.cine21.com/review/review20/pre/C20040204): 0>"
       ]
      },
      {
       "output_type": "stream",
       "stream": "stdout",
       "text": [
        "\n",
        "<Critic \uae40\ubd09\uc11d (http://www.cine21.com/review/review20/pre/C20030805): 0>"
       ]
      },
      {
       "output_type": "stream",
       "stream": "stdout",
       "text": [
        "\n",
        "<Critic \uae40\uc131\ud6c8 (http://www.cine21.com/review/review20/pre/E20041648): 0>"
       ]
      },
      {
       "output_type": "stream",
       "stream": "stdout",
       "text": [
        "\n",
        "<Critic \uae40\uc18c\uc601 (http://www.cine21.com/review/review20/pre/E20041213): 0>"
       ]
      },
      {
       "output_type": "stream",
       "stream": "stdout",
       "text": [
        "\n",
        "<Critic \uae40\uc18c\ud76c (http://www.cine21.com/review/review20/pre/E20041214): 0>"
       ]
      },
      {
       "output_type": "stream",
       "stream": "stdout",
       "text": [
        "\n",
        "<Critic \uae40\uc601\uc9c4 (http://www.cine21.com/review/review20/pre/E20041370): 0>"
       ]
      },
      {
       "output_type": "stream",
       "stream": "stdout",
       "text": [
        "\n",
        "<Critic \uae40\uc6a9\uc5b8 (http://www.cine21.com/review/review20/pre/E20041217): 0>"
       ]
      },
      {
       "output_type": "stream",
       "stream": "stdout",
       "text": [
        "\n",
        "<Critic \uae40\uc740\ud615 (http://www.cine21.com/review/review20/pre/E20041220): 0>"
       ]
      },
      {
       "output_type": "stream",
       "stream": "stdout",
       "text": [
        "\n",
        "<Critic \uae40\uc885\ucca0 (http://www.cine21.com/review/review20/pre/E20041228): 0>"
       ]
      },
      {
       "output_type": "stream",
       "stream": "stdout",
       "text": [
        "\n",
        "<Critic \uae40\uc9c0\ubbf8 (http://www.cine21.com/review/review20/pre/E20041390): 0>"
       ]
      },
      {
       "output_type": "stream",
       "stream": "stdout",
       "text": [
        "\n",
        "<Critic \uae40\ud0dc\ud6c8 (http://www.cine21.com/review/review20/pre/E20041534): 0>"
       ]
      },
      {
       "output_type": "stream",
       "stream": "stdout",
       "text": [
        "\n",
        "<Critic \uae40\ud0dc\ud6c8 (http://www.cine21.com/review/review20/pre/E20041693): 0>"
       ]
      },
      {
       "output_type": "stream",
       "stream": "stdout",
       "text": [
        "\n",
        "<Critic \uae40\ud61c\ub9ac (http://www.cine21.com/review/review20/pre/C20030816): 0>"
       ]
      },
      {
       "output_type": "stream",
       "stream": "stdout",
       "text": [
        "\n",
        "<Critic \ub0a8\ub2e4\uc740 (http://www.cine21.com/review/review20/pre/E20041237): 0>"
       ]
      },
      {
       "output_type": "stream",
       "stream": "stdout",
       "text": [
        "\n",
        "<Critic \ub0a8\ub3d9\ucca0 (http://www.cine21.com/review/review20/pre/C20030813): 0>"
       ]
      },
      {
       "output_type": "stream",
       "stream": "stdout",
       "text": [
        "\n",
        "<Critic \ub0a8\ubbfc\uc601 (http://www.cine21.com/review/review20/pre/E20041719): 0>"
       ]
      },
      {
       "output_type": "stream",
       "stream": "stdout",
       "text": [
        "\n",
        "<Critic \ub2ec\uc2dc \ud30c\ucf13 (http://www.cine21.com/review/review20/pre/E20041243): 0>"
       ]
      },
      {
       "output_type": "stream",
       "stream": "stdout",
       "text": [
        "\n",
        "<Critic \ubb38\uc11d (http://www.cine21.com/review/review20/pre/C20040801): 0>"
       ]
      },
      {
       "output_type": "stream",
       "stream": "stdout",
       "text": [
        "\n",
        "<Critic \ubc15\ud3c9\uc2dd (http://www.cine21.com/review/review20/pre/E20041252): 0>"
       ]
      },
      {
       "output_type": "stream",
       "stream": "stdout",
       "text": [
        "\n",
        "<Critic \ubc15\ud61c\uba85 (http://www.cine21.com/review/review20/pre/C20030825): 0>"
       ]
      },
      {
       "output_type": "stream",
       "stream": "stdout",
       "text": [
        "\n",
        "<Critic \uc1a1\uacbd\uc6d0 (http://www.cine21.com/review/review20/pre/E20041673): 0>"
       ]
      },
      {
       "output_type": "stream",
       "stream": "stdout",
       "text": [
        "\n",
        "<Critic \uc2e0\ub450\uc601 (http://www.cine21.com/review/review20/pre/E20041678): 0>"
       ]
      },
      {
       "output_type": "stream",
       "stream": "stdout",
       "text": [
        "\n",
        "<Critic \uc2ec\uc601\uc12d (http://www.cine21.com/review/review20/pre/E20041269): 0>"
       ]
      },
      {
       "output_type": "stream",
       "stream": "stdout",
       "text": [
        "\n",
        "<Critic \uc548\uc815\uc219 (http://www.cine21.com/review/review20/pre/E20041273): 0>"
       ]
      },
      {
       "output_type": "stream",
       "stream": "stdout",
       "text": [
        "\n",
        "<Critic \uc548\ud604\uc9c4 (http://www.cine21.com/review/review20/pre/E20041487): 0>"
       ]
      },
      {
       "output_type": "stream",
       "stream": "stdout",
       "text": [
        "\n",
        "<Critic \uc624\uc138\ud615 (http://www.cine21.com/review/review20/pre/E20041694): 0>"
       ]
      },
      {
       "output_type": "stream",
       "stream": "stdout",
       "text": [
        "\n",
        "<Critic \uc624\uc815\uc5f0 (http://www.cine21.com/review/review20/pre/C20040203): 0>"
       ]
      },
      {
       "output_type": "stream",
       "stream": "stdout",
       "text": [
        "\n",
        "<Critic \uc720\uc9c0\ub098 (http://www.cine21.com/review/review20/pre/E20041279): 0>"
       ]
      },
      {
       "output_type": "stream",
       "stream": "stdout",
       "text": [
        "\n",
        "<Critic \uc774\ub2e4\ud61c (http://www.cine21.com/review/review20/pre/C20041001): 0>"
       ]
      },
      {
       "output_type": "stream",
       "stream": "stdout",
       "text": [
        "\n",
        "<Critic \uc774\ub3d9\uc9c4 (http://www.cine21.com/review/review20/pre/E20041283): 0>"
       ]
      },
      {
       "output_type": "stream",
       "stream": "stdout",
       "text": [
        "\n",
        "<Critic \uc774\uba85\uc778 (http://www.cine21.com/review/review20/pre/E20041368): 0>"
       ]
      },
      {
       "output_type": "stream",
       "stream": "stdout",
       "text": [
        "\n",
        "<Critic \uc774\uc131\uc6b1 (http://www.cine21.com/review/review20/pre/C20030808): 0>"
       ]
      },
      {
       "output_type": "stream",
       "stream": "stdout",
       "text": [
        "\n",
        "<Critic \uc774\uc601\uc9c4 (http://www.cine21.com/review/review20/pre/C20030818): 0>"
       ]
      },
      {
       "output_type": "stream",
       "stream": "stdout",
       "text": [
        "\n",
        "<Critic \uc774\uc6a9\ucca0 (http://www.cine21.com/review/review20/pre/E20041291): 0>"
       ]
      },
      {
       "output_type": "stream",
       "stream": "stdout",
       "text": [
        "\n",
        "<Critic \uc774\uc8fc\ud604 (http://www.cine21.com/review/review20/pre/E20041646): 0>"
       ]
      },
      {
       "output_type": "stream",
       "stream": "stdout",
       "text": [
        "\n",
        "<Critic \uc774\ud604\uacbd (http://www.cine21.com/review/review20/pre/E20041520): 0>"
       ]
      },
      {
       "output_type": "stream",
       "stream": "stdout",
       "text": [
        "\n",
        "<Critic \uc774\ud654\uc815 (http://www.cine21.com/review/review20/pre/E20041565): 0>"
       ]
      },
      {
       "output_type": "stream",
       "stream": "stdout",
       "text": [
        "\n",
        "<Critic \uc774\ud6c4\uacbd (http://www.cine21.com/review/review20/pre/E20041717): 0>"
       ]
      },
      {
       "output_type": "stream",
       "stream": "stdout",
       "text": [
        "\n",
        "<Critic \uc784\ubc94 (http://www.cine21.com/review/review20/pre/E20041301): 0>"
       ]
      },
      {
       "output_type": "stream",
       "stream": "stdout",
       "text": [
        "\n",
        "<Critic \uc7a5\ubbf8 (http://www.cine21.com/review/review20/pre/E20041488): 0>"
       ]
      },
      {
       "output_type": "stream",
       "stream": "stdout",
       "text": [
        "\n",
        "<Critic \uc7a5\uc601\uc5fd (http://www.cine21.com/review/review20/pre/E20041590): 0>"
       ]
      },
      {
       "output_type": "stream",
       "stream": "stdout",
       "text": [
        "\n",
        "<Critic \uc815\uc7ac\ud601 (http://www.cine21.com/review/review20/pre/E20041465): 0>"
       ]
      },
      {
       "output_type": "stream",
       "stream": "stdout",
       "text": [
        "\n",
        "<Critic \uc815\ud55c\uc11d (http://www.cine21.com/review/review20/pre/C20030819): 0>"
       ]
      },
      {
       "output_type": "stream",
       "stream": "stdout",
       "text": [
        "\n",
        "<Critic \uc8fc\uc131\ucca0 (http://www.cine21.com/review/review20/pre/E20041598): 0>"
       ]
      },
      {
       "output_type": "stream",
       "stream": "stdout",
       "text": [
        "\n",
        "<Critic \ucd5c\ud558\ub098 (http://www.cine21.com/review/review20/pre/E20041464): 0>"
       ]
      },
      {
       "output_type": "stream",
       "stream": "stdout",
       "text": [
        "\n",
        "<Critic \ud558\uc7ac\ubd09 (http://www.cine21.com/review/review20/pre/E20041445): 0>"
       ]
      },
      {
       "output_type": "stream",
       "stream": "stdout",
       "text": [
        "\n",
        "<Critic \ud55c\ub3d9\uc6d0 (http://www.cine21.com/review/review20/pre/E20041330): 0>"
       ]
      },
      {
       "output_type": "stream",
       "stream": "stdout",
       "text": [
        "\n",
        "<Critic \ud64d\uc131\ub0a8 (http://www.cine21.com/review/review20/pre/E20041334): 0>"
       ]
      },
      {
       "output_type": "stream",
       "stream": "stdout",
       "text": [
        "\n",
        "<Critic \ud669\uc9c4\ubbf8 (http://www.cine21.com/review/review20/pre/E20041338): 0>"
       ]
      },
      {
       "output_type": "stream",
       "stream": "stdout",
       "text": [
        "\n"
       ]
      }
     ],
     "prompt_number": 18
    },
    {
     "cell_type": "code",
     "collapsed": false,
     "input": [
      "from time import mktime\n",
      "from datetime import datetime\n",
      "\n",
      "def save_to_db(i):\n",
      "    try:\n",
      "        instance = Movie_DB.query.filter_by(mid=i.movie.mid).first()\n",
      "    except:\n",
      "        i.movie = i.movie[0]\n",
      "        instance = Movie_DB.query.filter_by(mid=i.movie.mid).first()\n",
      "    if instance:\n",
      "        print \",\",\n",
      "        pass\n",
      "    else:\n",
      "        if i.movie.get_info() != False:\n",
      "            if i.movie.get_imdb() != False:\n",
      "                try:\n",
      "                    print \" [[[[[%s]]]]]\" % i.movie.mid\n",
      "                    dt = datetime.fromtimestamp(mktime(i.movie.time))\n",
      "\n",
      "                    print i.movie.naver_mid, i.movie.imdb_mid\n",
      "\n",
      "                    if i.movie.naver_mid != -1:\n",
      "                        if Movie_DB.query.filter_by(naver_mid=i.movie.naver_mid).first(): return\n",
      "                    if i.movie.imdb_mid != -1:\n",
      "                        if Movie_DB.query.filter_by(imdb_mid=i.movie.imdb_mid).first(): return\n",
      "\n",
      "                    #  mid, title, title_en, year, time, director, director_en, naver_mid, imdb_mid\n",
      "                    m = Movie_DB(i.movie.mid,\n",
      "                                 i.movie.title,\n",
      "                                 i.movie.title_en,\n",
      "                                 i.movie.year,\n",
      "                                 dt.date(),\n",
      "                                 i.movie.director,\n",
      "                                 i.movie.director_en,\n",
      "                                 i.movie.naver_mid,\n",
      "                                 i.movie.imdb_mid)\n",
      "                    db_session.add(m)\n",
      "                    db_session.commit()\n",
      "                except:\n",
      "                    return\n",
      "            \n",
      "from multiprocessing import Pool\n",
      "import cv2\n",
      "\n",
      "pool = Pool(cv2.getNumberOfCPUs()-2)\n",
      "\n",
      "for critic in critics:\n",
      "    print \"~~~~~~~~~~~~~~~~~~~~\"\n",
      "    #result = pool.map(save_to_db, critic.reviews)\n",
      "    for review in critic.reviews:\n",
      "        save_to_db(review)"
     ],
     "language": "python",
     "metadata": {},
     "outputs": [
      {
       "output_type": "stream",
       "stream": "stdout",
       "text": [
        "~~~~~~~~~~~~~~~~~~~~\n",
        ", , , , , , , , , , , , , , , , , , , , , , , , , , , , , , , , , , , , , , , , "
       ]
      },
      {
       "output_type": "stream",
       "stream": "stdout",
       "text": [
        ", , , , , , , , , , , , , , , , , , , , , , , , , , , , , , , , , , , , , , , , , , "
       ]
      },
      {
       "output_type": "stream",
       "stream": "stdout",
       "text": [
        ", , , , , , , , , , "
       ]
      },
      {
       "output_type": "stream",
       "stream": "stdout",
       "text": [
        ", , , , , , , ~~~~~~~~~~~~~~~~~~~~\n",
        ", , , , , , , , , , , , , , "
       ]
      },
      {
       "output_type": "stream",
       "stream": "stdout",
       "text": [
        ", , , , , "
       ]
      },
      {
       "output_type": "stream",
       "stream": "stdout",
       "text": [
        ", , , , , , , , , , , , , , , , , , , , , , , , , , , , , , , , , , "
       ]
      },
      {
       "output_type": "stream",
       "stream": "stdout",
       "text": [
        " [[[[[2676]]]]]\n",
        "19031 tt0113703\n",
        ", , , , , , , , , , , , , , , , , , , , , , , , "
       ]
      },
      {
       "output_type": "stream",
       "stream": "stdout",
       "text": [
        ", , , , , , , , , , , , , , , , , , , , , , , , , , , , ~~~~~~~~~~~~~~~~~~~~\n",
        ", ~~~~~~~~~~~~~~~~~~~~\n",
        ", , , , , , , , , , , , , , "
       ]
      },
      {
       "output_type": "stream",
       "stream": "stdout",
       "text": [
        ", , , , , , , , , , , , , , , , , , , "
       ]
      },
      {
       "output_type": "stream",
       "stream": "stdout",
       "text": [
        ", , , , "
       ]
      },
      {
       "output_type": "stream",
       "stream": "stdout",
       "text": [
        ", , , , , , , , , , , , , "
       ]
      },
      {
       "output_type": "stream",
       "stream": "stdout",
       "text": [
        " [[[[[28918]]]]]\n",
        ", , , , , "
       ]
      },
      {
       "output_type": "stream",
       "stream": "stdout",
       "text": [
        ", , , , , , , , , , , , , , , , , , , , , , , , , , , , , , , , , , , , , , , , , , , , "
       ]
      },
      {
       "output_type": "stream",
       "stream": "stdout",
       "text": [
        ", , , , , , , , , , , , , , , , , , , , , , "
       ]
      },
      {
       "output_type": "stream",
       "stream": "stdout",
       "text": [
        " [[[[[27511]]]]]\n",
        ", , , , , , , , , , , , , , , , , "
       ]
      },
      {
       "output_type": "stream",
       "stream": "stdout",
       "text": [
        ", , , , , , , , , , , , , , , , , , , , , , , , , , , , , , , , "
       ]
      },
      {
       "output_type": "stream",
       "stream": "stdout",
       "text": [
        " [[[[[26555]]]]]\n",
        "98438 tt1049413\n",
        ", , , , , , , , , "
       ]
      },
      {
       "output_type": "stream",
       "stream": "stdout",
       "text": [
        " [[[[[20649]]]]]\n",
        ", , , , , , , , , , , , , , , , , , "
       ]
      },
      {
       "output_type": "stream",
       "stream": "stdout",
       "text": [
        ", , , , , , , , , , , , , , , , "
       ]
      },
      {
       "output_type": "stream",
       "stream": "stdout",
       "text": [
        ", , , , , , , , , , , , , , , , , , , , , , , , , ~~~~~~~~~~~~~~~~~~~~\n",
        ", , , , , , , , , , , , , , , , , , , , , "
       ]
      },
      {
       "output_type": "stream",
       "stream": "stdout",
       "text": [
        " [[[[[38064]]]]]\n",
        ", , "
       ]
      },
      {
       "output_type": "stream",
       "stream": "stdout",
       "text": [
        " [[[[[37964]]]]]\n",
        "124060 tt2023587\n",
        ", , , "
       ]
      },
      {
       "output_type": "stream",
       "stream": "stdout",
       "text": [
        " [[[[[36833]]]]]\n",
        "89755 tt1707386\n",
        ", , , "
       ]
      },
      {
       "output_type": "stream",
       "stream": "stdout",
       "text": [
        ", , , , , , , , , , , , , , , , "
       ]
      },
      {
       "output_type": "stream",
       "stream": "stdout",
       "text": [
        " [[[[[36807]]]]]\n",
        "84845 tt1714203\n",
        ", , , , , , , , , , , , , , , , , , , , , , , , , , , , , "
       ]
      },
      {
       "output_type": "stream",
       "stream": "stdout",
       "text": [
        " [[[[[35115]]]]]\n",
        ", , , , , , , , , , , , , , "
       ]
      },
      {
       "output_type": "stream",
       "stream": "stdout",
       "text": [
        ", , "
       ]
      },
      {
       "output_type": "stream",
       "stream": "stdout",
       "text": [
        ", , , "
       ]
      },
      {
       "output_type": "stream",
       "stream": "stdout",
       "text": [
        " [[[[[32096]]]]]\n",
        "71771 tt1297919\n",
        " [[[[[31091]]]]]"
       ]
      },
      {
       "output_type": "stream",
       "stream": "stdout",
       "text": [
        "\n",
        "82323 tt1555149\n",
        " [[[[[32536]]]]]"
       ]
      },
      {
       "output_type": "stream",
       "stream": "stdout",
       "text": [
        "\n",
        "76295 tt1499658\n",
        " [[[[[30861]]]]]"
       ]
      },
      {
       "output_type": "stream",
       "stream": "stdout",
       "text": [
        "\n",
        "76966 tt1718199\n",
        ","
       ]
      },
      {
       "output_type": "stream",
       "stream": "stdout",
       "text": [
        " , "
       ]
      },
      {
       "output_type": "stream",
       "stream": "stdout",
       "text": [
        " [[[[[33917]]]]]\n",
        "76288 -1\n",
        " [[[[[33887]]]]]"
       ]
      },
      {
       "output_type": "stream",
       "stream": "stdout",
       "text": [
        "\n",
        "89336 tt1661099\n",
        " [[[[[25611]]]]]"
       ]
      },
      {
       "output_type": "stream",
       "stream": "stdout",
       "text": [
        "\n",
        "70617 tt1095217\n",
        " [[[[[33910]]]]]"
       ]
      },
      {
       "output_type": "stream",
       "stream": "stdout",
       "text": [
        "\n",
        "85876 tt1515199\n",
        ","
       ]
      },
      {
       "output_type": "stream",
       "stream": "stdout",
       "text": [
        " , "
       ]
      },
      {
       "output_type": "stream",
       "stream": "stdout",
       "text": [
        " [[[[[28618]]]]]\n",
        "75241 tt2053331\n",
        " [[[[[31026]]]]]"
       ]
      },
      {
       "output_type": "stream",
       "stream": "stdout",
       "text": [
        "\n",
        "83160 tt1832382\n",
        " [[[[[30536]]]]]"
       ]
      },
      {
       "output_type": "stream",
       "stream": "stdout",
       "text": [
        "\n",
        "83738 tt1778258\n",
        " [[[[[33277]]]]]"
       ]
      },
      {
       "output_type": "stream",
       "stream": "stdout",
       "text": [
        "\n",
        "113020 tt1423995\n",
        " [[[[[31145]]]]]"
       ]
      },
      {
       "output_type": "stream",
       "stream": "stdout",
       "text": [
        "\n",
        "76443 tt1502404\n",
        ","
       ]
      },
      {
       "output_type": "stream",
       "stream": "stdout",
       "text": [
        "  [[[[[30358]]]]]\n",
        "79740 tt1482989\n",
        " [[[[[29629]]]]]"
       ]
      },
      {
       "output_type": "stream",
       "stream": "stdout",
       "text": [
        "\n",
        "78188 tt1682949\n",
        " [[[[[27984]]]]]"
       ]
      },
      {
       "output_type": "stream",
       "stream": "stdout",
       "text": [
        "\n",
        ", "
       ]
      },
      {
       "output_type": "stream",
       "stream": "stdout",
       "text": [
        " [[[[[32131]]]]]\n",
        "82454 -1\n",
        " [[[[[29616]]]]]"
       ]
      },
      {
       "output_type": "stream",
       "stream": "stdout",
       "text": [
        "\n",
        "75697 tt1456661\n",
        " [[[[[30332]]]]]"
       ]
      },
      {
       "output_type": "stream",
       "stream": "stdout",
       "text": [
        "\n",
        "72213 tt1212974\n",
        " [[[[[31257]]]]]"
       ]
      },
      {
       "output_type": "stream",
       "stream": "stdout",
       "text": [
        "\n",
        "80626 tt1189340\n",
        " [[[[[31487]]]]]"
       ]
      },
      {
       "output_type": "stream",
       "stream": "stdout",
       "text": [
        "\n",
        "83741 tt1334102\n",
        " [[[[[28758]]]]]"
       ]
      },
      {
       "output_type": "stream",
       "stream": "stdout",
       "text": [
        "\n",
        "76339 tt1637681\n",
        " [[[[[31608]]]]]"
       ]
      },
      {
       "output_type": "stream",
       "stream": "stdout",
       "text": [
        "\n",
        "76794 tt1648093\n",
        ","
       ]
      },
      {
       "output_type": "stream",
       "stream": "stdout",
       "text": [
        " , "
       ]
      },
      {
       "output_type": "stream",
       "stream": "stdout",
       "text": [
        " [[[[[23517]]]]]\n",
        "66812 tt1068643\n",
        ","
       ]
      },
      {
       "output_type": "stream",
       "stream": "stdout",
       "text": [
        " , , , , , , "
       ]
      },
      {
       "output_type": "stream",
       "stream": "stdout",
       "text": [
        " [[[[[30585]]]]]\n",
        "129713 tt0964517\n",
        " [[[[[26652]]]]]"
       ]
      },
      {
       "output_type": "stream",
       "stream": "stdout",
       "text": [
        "\n",
        "48311 tt1134629\n",
        " [[[[[28151]]]]]"
       ]
      },
      {
       "output_type": "stream",
       "stream": "stdout",
       "text": [
        "\n",
        "94988 tt1092634\n",
        " [[[[[29782]]]]]"
       ]
      },
      {
       "output_type": "stream",
       "stream": "stdout",
       "text": [
        "\n",
        "80818 tt2070879\n",
        " [[[[[29795]]]]]"
       ]
      },
      {
       "output_type": "stream",
       "stream": "stdout",
       "text": [
        "\n",
        "73601 tt1399683\n",
        " [[[[[29521]]]]]"
       ]
      },
      {
       "output_type": "stream",
       "stream": "stdout",
       "text": [
        "\n",
        "109984 tt1440728\n",
        ","
       ]
      },
      {
       "output_type": "stream",
       "stream": "stdout",
       "text": [
        "  [[[[[29150]]]]]\n",
        "77171 -1\n",
        " [[[[[28917]]]]]"
       ]
      },
      {
       "output_type": "stream",
       "stream": "stdout",
       "text": [
        "\n",
        " [[[[[29377]]]]]"
       ]
      },
      {
       "output_type": "stream",
       "stream": "stdout",
       "text": [
        "\n",
        "71691 tt1477076\n",
        " [[[[[28110]]]]]"
       ]
      },
      {
       "output_type": "stream",
       "stream": "stdout",
       "text": [
        "\n",
        "49726 tt1228987\n",
        " [[[[[29943]]]]]"
       ]
      },
      {
       "output_type": "stream",
       "stream": "stdout",
       "text": [
        "\n",
        " [[[[[28233]]]]]"
       ]
      },
      {
       "output_type": "stream",
       "stream": "stdout",
       "text": [
        "\n",
        "71546 tt1305806\n",
        " [[[[[29299]]]]]"
       ]
      },
      {
       "output_type": "stream",
       "stream": "stdout",
       "text": [
        "\n",
        "106332 tt1245526\n",
        " [[[[[25765]]]]]"
       ]
      },
      {
       "output_type": "stream",
       "stream": "stdout",
       "text": [
        "\n",
        "47617 tt1056437\n",
        " [[[[[28070]]]]]"
       ]
      },
      {
       "output_type": "stream",
       "stream": "stdout",
       "text": [
        "\n",
        "74054 tt2155321\n",
        " [[[[[6654]]]]]"
       ]
      },
      {
       "output_type": "stream",
       "stream": "stdout",
       "text": [
        "\n",
        "10072 tt0071562\n",
        " [[[[[28719]]]]]"
       ]
      },
      {
       "output_type": "stream",
       "stream": "stdout",
       "text": [
        "\n",
        "70122 tt1103153\n",
        " [[[[[29235]]]]]"
       ]
      },
      {
       "output_type": "stream",
       "stream": "stdout",
       "text": [
        "\n",
        "72543 tt0471041\n",
        " [[[[[28263]]]]]"
       ]
      },
      {
       "output_type": "stream",
       "stream": "stdout",
       "text": [
        "\n",
        "69945 tt1413529\n",
        " [[[[[28164]]]]]"
       ]
      },
      {
       "output_type": "stream",
       "stream": "stdout",
       "text": [
        "\n",
        "72408 tt1588170\n",
        ","
       ]
      },
      {
       "output_type": "stream",
       "stream": "stdout",
       "text": [
        " , "
       ]
      },
      {
       "output_type": "stream",
       "stream": "stdout",
       "text": [
        " [[[[[28086]]]]]\n",
        "71707 tt1309449\n",
        ","
       ]
      },
      {
       "output_type": "stream",
       "stream": "stdout",
       "text": [
        " , , "
       ]
      },
      {
       "output_type": "stream",
       "stream": "stdout",
       "text": [
        " [[[[[28099]]]]]\n",
        "72012 tt1401656\n",
        ","
       ]
      },
      {
       "output_type": "stream",
       "stream": "stdout",
       "text": [
        " , "
       ]
      },
      {
       "output_type": "stream",
       "stream": "stdout",
       "text": [
        " [[[[[28249]]]]]\n",
        "72007 tt0765128\n",
        ","
       ]
      },
      {
       "output_type": "stream",
       "stream": "stdout",
       "text": [
        "  [[[[[25970]]]]]\n",
        "51022 tt1056435\n",
        ","
       ]
      },
      {
       "output_type": "stream",
       "stream": "stdout",
       "text": [
        " , "
       ]
      },
      {
       "output_type": "stream",
       "stream": "stdout",
       "text": [
        " [[[[[710]]]]]\n",
        "129298 tt0150980\n",
        " [[[[[28112]]]]]"
       ]
      },
      {
       "output_type": "stream",
       "stream": "stdout",
       "text": [
        "\n",
        "50498 tt1226273\n",
        ","
       ]
      },
      {
       "output_type": "stream",
       "stream": "stdout",
       "text": [
        "  [[[[[26679]]]]]\n",
        "44914 tt1517262\n",
        " [[[[[26330]]]]]"
       ]
      },
      {
       "output_type": "stream",
       "stream": "stdout",
       "text": [
        "\n",
        "129298 tt1314652\n",
        ", "
       ]
      },
      {
       "output_type": "stream",
       "stream": "stdout",
       "text": [
        " [[[[[27223]]]]]\n",
        "55036 tt1382627\n",
        ","
       ]
      },
      {
       "output_type": "stream",
       "stream": "stdout",
       "text": [
        " , , , "
       ]
      },
      {
       "output_type": "stream",
       "stream": "stdout",
       "text": [
        " [[[[[28045]]]]]\n",
        "69984 tt1019452\n",
        " [[[[[28116]]]]]"
       ]
      },
      {
       "output_type": "stream",
       "stream": "stdout",
       "text": [
        "\n",
        "52518 tt1379211\n",
        " [[[[[28351]]]]]"
       ]
      },
      {
       "output_type": "stream",
       "stream": "stdout",
       "text": [
        "\n",
        "72964 -1\n",
        " [[[[[26618]]]]]"
       ]
      },
      {
       "output_type": "stream",
       "stream": "stdout",
       "text": [
        "\n",
        "70468 tt1221151\n",
        " [[[[[28003]]]]]"
       ]
      },
      {
       "output_type": "stream",
       "stream": "stdout",
       "text": [
        "\n",
        "70531 tt1174732\n",
        ","
       ]
      },
      {
       "output_type": "stream",
       "stream": "stdout",
       "text": [
        " , , "
       ]
      },
      {
       "output_type": "stream",
       "stream": "stdout",
       "text": [
        " [[[[[25310]]]]]\n",
        "71083 tt1057500\n",
        ","
       ]
      },
      {
       "output_type": "stream",
       "stream": "stdout",
       "text": [
        "  [[[[[27985]]]]]\n",
        "49463 tt1220198\n",
        ","
       ]
      },
      {
       "output_type": "stream",
       "stream": "stdout",
       "text": [
        "  [[[[[23238]]]]]\n",
        "68501 tt1158278\n",
        " [[[[[27297]]]]]"
       ]
      },
      {
       "output_type": "stream",
       "stream": "stdout",
       "text": [
        "\n",
        "69958 tt0814255\n",
        " [[[[[26510]]]]]"
       ]
      },
      {
       "output_type": "stream",
       "stream": "stdout",
       "text": [
        "\n",
        "46323 tt1155592\n",
        " [[[[[19740]]]]]"
       ]
      },
      {
       "output_type": "stream",
       "stream": "stdout",
       "text": [
        "\n",
        "85839 tt0308055\n",
        ","
       ]
      },
      {
       "output_type": "stream",
       "stream": "stdout",
       "text": [
        " , , "
       ]
      },
      {
       "output_type": "stream",
       "stream": "stdout",
       "text": [
        " [[[[[8623]]]]]\n",
        "38455 tt0400761\n",
        ","
       ]
      },
      {
       "output_type": "stream",
       "stream": "stdout",
       "text": [
        "  [[[[[25612]]]]]\n",
        "73508 tt0988045\n",
        " [[[[[19552]]]]]"
       ]
      },
      {
       "output_type": "stream",
       "stream": "stdout",
       "text": [
        "\n",
        "68258 tt0478134\n",
        " [[[[[23859]]]]]"
       ]
      },
      {
       "output_type": "stream",
       "stream": "stdout",
       "text": [
        "\n",
        "69274 tt1369581\n",
        " [[[[[27773]]]]]"
       ]
      },
      {
       "output_type": "stream",
       "stream": "stdout",
       "text": [
        "\n",
        "69949 tt1169809\n",
        " [[[[[25962]]]]]"
       ]
      },
      {
       "output_type": "stream",
       "stream": "stdout",
       "text": [
        "\n",
        "65807 tt1588369\n",
        " [[[[[25705]]]]]"
       ]
      },
      {
       "output_type": "stream",
       "stream": "stdout",
       "text": [
        "\n",
        "47036 tt1186367\n",
        " [[[[[27353]]]]]"
       ]
      },
      {
       "output_type": "stream",
       "stream": "stdout",
       "text": [
        "\n",
        "53902 tt1182345\n",
        ","
       ]
      },
      {
       "output_type": "stream",
       "stream": "stdout",
       "text": [
        "  [[[[[25361]]]]]\n",
        "52074 tt1515205\n",
        " [[[[[27630]]]]]"
       ]
      },
      {
       "output_type": "stream",
       "stream": "stdout",
       "text": [
        "\n",
        "54290 tt1188729\n",
        " [[[[[27027]]]]]"
       ]
      },
      {
       "output_type": "stream",
       "stream": "stdout",
       "text": [
        "\n",
        "46757 tt1082601\n",
        " [[[[[27202]]]]]"
       ]
      },
      {
       "output_type": "stream",
       "stream": "stdout",
       "text": [
        "\n",
        "55060 tt1481363\n",
        " [[[[[27312]]]]]"
       ]
      },
      {
       "output_type": "stream",
       "stream": "stdout",
       "text": [
        "\n",
        "64129 tt1136608\n",
        " [[[[[25995]]]]]"
       ]
      },
      {
       "output_type": "stream",
       "stream": "stdout",
       "text": [
        "\n",
        "84251 tt1565032\n",
        ","
       ]
      },
      {
       "output_type": "stream",
       "stream": "stdout",
       "text": [
        "  [[[[[24244]]]]]\n",
        "46410 tt0862846\n",
        ","
       ]
      },
      {
       "output_type": "stream",
       "stream": "stdout",
       "text": [
        "  [[[[[26629]]]]]\n",
        "68071 tt0834001\n",
        " [[[[[27364]]]]]"
       ]
      },
      {
       "output_type": "stream",
       "stream": "stdout",
       "text": [
        "\n",
        "52503 tt1053859\n",
        " [[[[[27332]]]]]"
       ]
      },
      {
       "output_type": "stream",
       "stream": "stdout",
       "text": [
        "\n",
        "70005 tt1194620\n",
        " [[[[[26532]]]]]"
       ]
      },
      {
       "output_type": "stream",
       "stream": "stdout",
       "text": [
        "\n",
        "69944 tt0808339\n",
        ","
       ]
      },
      {
       "output_type": "stream",
       "stream": "stdout",
       "text": [
        "  [[[[[24979]]]]]\n",
        " [[[[[24003]]]]]"
       ]
      },
      {
       "output_type": "stream",
       "stream": "stdout",
       "text": [
        "\n",
        "69787 tt0492044\n",
        " [[[[[27221]]]]]"
       ]
      },
      {
       "output_type": "stream",
       "stream": "stdout",
       "text": [
        "\n",
        "52513 tt1244666\n",
        " [[[[[27263]]]]]"
       ]
      },
      {
       "output_type": "stream",
       "stream": "stdout",
       "text": [
        "\n",
        "54900 tt0084892\n",
        ","
       ]
      },
      {
       "output_type": "stream",
       "stream": "stdout",
       "text": [
        " , "
       ]
      },
      {
       "output_type": "stream",
       "stream": "stdout",
       "text": [
        " [[[[[26122]]]]]\n",
        "50903 tt1156447\n",
        ","
       ]
      },
      {
       "output_type": "stream",
       "stream": "stdout",
       "text": [
        " , "
       ]
      },
      {
       "output_type": "stream",
       "stream": "stdout",
       "text": [
        " [[[[[25988]]]]]\n",
        "50749 tt1087578\n",
        " [[[[[26776]]]]]"
       ]
      },
      {
       "output_type": "stream",
       "stream": "stdout",
       "text": [
        "\n",
        "45942 tt1111422\n",
        " [[[[[25030]]]]]"
       ]
      },
      {
       "output_type": "stream",
       "stream": "stdout",
       "text": [
        "\n",
        "102672 tt1216496\n",
        " [[[[[25904]]]]]"
       ]
      },
      {
       "output_type": "stream",
       "stream": "stdout",
       "text": [
        "\n",
        "50453 tt1142972\n",
        " [[[[[26909]]]]]"
       ]
      },
      {
       "output_type": "stream",
       "stream": "stdout",
       "text": [
        "\n",
        "65648 tt0785035\n",
        " [[[[[21984]]]]]"
       ]
      },
      {
       "output_type": "stream",
       "stream": "stdout",
       "text": [
        "\n",
        "65901 tt1311067\n",
        " [[[[[20649]]]]]"
       ]
      },
      {
       "output_type": "stream",
       "stream": "stdout",
       "text": [
        "\n",
        " [[[[[20602]]]]]"
       ]
      },
      {
       "output_type": "stream",
       "stream": "stdout",
       "text": [
        "\n",
        "59845 tt0762073\n",
        ","
       ]
      },
      {
       "output_type": "stream",
       "stream": "stdout",
       "text": [
        " , , "
       ]
      },
      {
       "output_type": "stream",
       "stream": "stdout",
       "text": [
        " [[[[[26535]]]]]\n",
        "75693 tt1220719\n",
        " [[[[[24409]]]]]"
       ]
      },
      {
       "output_type": "stream",
       "stream": "stdout",
       "text": [
        "\n",
        "66750 tt0887883\n",
        ","
       ]
      },
      {
       "output_type": "stream",
       "stream": "stdout",
       "text": [
        "  [[[[[25941]]]]]\n",
        "50583 tt1125849\n",
        ","
       ]
      },
      {
       "output_type": "stream",
       "stream": "stdout",
       "text": [
        " , , , "
       ]
      },
      {
       "output_type": "stream",
       "stream": "stdout",
       "text": [
        " [[[[[21383]]]]]\n",
        "65899 -1\n",
        ","
       ]
      },
      {
       "output_type": "stream",
       "stream": "stdout",
       "text": [
        " , "
       ]
      },
      {
       "output_type": "stream",
       "stream": "stdout",
       "text": [
        " [[[[[20555]]]]]\n",
        "62329 -1\n",
        " [[[[[24332]]]]]"
       ]
      },
      {
       "output_type": "stream",
       "stream": "stdout",
       "text": [
        "\n",
        "66317 tt1862498\n",
        " [[[[[25589]]]]]"
       ]
      },
      {
       "output_type": "stream",
       "stream": "stdout",
       "text": [
        "\n",
        "34089 -1\n",
        " [[[[[25338]]]]]"
       ]
      },
      {
       "output_type": "stream",
       "stream": "stdout",
       "text": [
        "\n",
        "49783 tt1077089\n",
        " [[[[[24540]]]]]"
       ]
      },
      {
       "output_type": "stream",
       "stream": "stdout",
       "text": [
        "\n",
        "49726 tt1139797\n",
        " [[[[[25677]]]]]"
       ]
      },
      {
       "output_type": "stream",
       "stream": "stdout",
       "text": [
        "\n",
        "50274 tt1185589\n",
        ","
       ]
      },
      {
       "output_type": "stream",
       "stream": "stdout",
       "text": [
        "  [[[[[25712]]]]]\n",
        "69514 tt0971162\n",
        " [[[[[24052]]]]]"
       ]
      },
      {
       "output_type": "stream",
       "stream": "stdout",
       "text": [
        "\n",
        "69776 tt0200465\n",
        " [[[[[23400]]]]]"
       ]
      },
      {
       "output_type": "stream",
       "stream": "stdout",
       "text": [
        "\n",
        "68498 tt1119194\n",
        " [[[[[20652]]]]]"
       ]
      },
      {
       "output_type": "stream",
       "stream": "stdout",
       "text": [
        "\n",
        "62563 tt0404254\n",
        " [[[[[24367]]]]]"
       ]
      },
      {
       "output_type": "stream",
       "stream": "stdout",
       "text": [
        "\n",
        "47407 tt0452608\n",
        ","
       ]
      },
      {
       "output_type": "stream",
       "stream": "stdout",
       "text": [
        "  [[[[[24440]]]]]\n",
        "45292 tt1059786\n",
        " [[[[[21284]]]]]"
       ]
      },
      {
       "output_type": "stream",
       "stream": "stdout",
       "text": [
        "\n",
        "45695 tt0814022\n",
        ","
       ]
      },
      {
       "output_type": "stream",
       "stream": "stdout",
       "text": [
        "  [[[[[24582]]]]]\n",
        "50097 tt1155705\n",
        ","
       ]
      },
      {
       "output_type": "stream",
       "stream": "stdout",
       "text": [
        "  [[[[[23674]]]]]\n",
        "66381 tt0795421\n",
        " [[[[[22967]]]]]"
       ]
      },
      {
       "output_type": "stream",
       "stream": "stdout",
       "text": [
        "\n",
        "67896 tt0995739\n",
        " [[[[[23976]]]]]"
       ]
      },
      {
       "output_type": "stream",
       "stream": "stdout",
       "text": [
        "\n",
        "69600 tt0997174\n",
        " [[[[[19324]]]]]"
       ]
      },
      {
       "output_type": "stream",
       "stream": "stdout",
       "text": [
        "\n",
        "46132 tt0426592\n",
        " [[[[[23073]]]]]"
       ]
      },
      {
       "output_type": "stream",
       "stream": "stdout",
       "text": [
        "\n",
        "67883 tt0805570\n",
        " [[[[[24449]]]]]"
       ]
      },
      {
       "output_type": "stream",
       "stream": "stdout",
       "text": [
        "\n",
        "47339 tt0443701\n",
        " [[[[[450]]]]]"
       ]
      },
      {
       "output_type": "stream",
       "stream": "stdout",
       "text": [
        "\n",
        "10112 tt0092263\n",
        ","
       ]
      },
      {
       "output_type": "stream",
       "stream": "stdout",
       "text": [
        "  [[[[[20746]]]]]\n",
        "72054 tt0468569\n",
        " [[[[[23536]]]]]"
       ]
      },
      {
       "output_type": "stream",
       "stream": "stdout",
       "text": [
        "\n",
        ","
       ]
      },
      {
       "output_type": "stream",
       "stream": "stdout",
       "text": [
        "  [[[[[23411]]]]]\n",
        "68944 tt0448157\n",
        " [[[[[22822]]]]]"
       ]
      },
      {
       "output_type": "stream",
       "stream": "stdout",
       "text": [
        "\n",
        "49004 tt0482606\n",
        " [[[[[23452]]]]]"
       ]
      },
      {
       "output_type": "stream",
       "stream": "stdout",
       "text": [
        "\n",
        "44655 tt1016290\n",
        " [[[[[23532]]]]]"
       ]
      },
      {
       "output_type": "stream",
       "stream": "stdout",
       "text": [
        "\n",
        "66834 tt0493464\n",
        ","
       ]
      },
      {
       "output_type": "stream",
       "stream": "stdout",
       "text": [
        "  [[[[[1204]]]]]\n",
        "122963 tt0091530\n",
        " [[[[[22998]]]]]"
       ]
      },
      {
       "output_type": "stream",
       "stream": "stdout",
       "text": [
        "\n",
        "66598 tt0992911\n",
        " [[[[[24012]]]]]"
       ]
      },
      {
       "output_type": "stream",
       "stream": "stdout",
       "text": [
        "\n",
        "62560 tt0800080\n",
        " [[[[[23673]]]]]"
       ]
      },
      {
       "output_type": "stream",
       "stream": "stdout",
       "text": [
        "\n",
        "96358 tt0478087\n",
        " [[[[[22206]]]]]"
       ]
      },
      {
       "output_type": "stream",
       "stream": "stdout",
       "text": [
        "\n",
        "65068 tt0425061\n",
        ","
       ]
      },
      {
       "output_type": "stream",
       "stream": "stdout",
       "text": [
        "  [[[[[23381]]]]]\n",
        "68217 tt1071800\n",
        " [[[[[21436]]]]]"
       ]
      },
      {
       "output_type": "stream",
       "stream": "stdout",
       "text": [
        "\n",
        "43612 tt0411061\n",
        " [[[[[5945]]]]]"
       ]
      },
      {
       "output_type": "stream",
       "stream": "stdout",
       "text": [
        "\n",
        " [[[[[23412]]]]]"
       ]
      },
      {
       "output_type": "stream",
       "stream": "stdout",
       "text": [
        "\n",
        ", , , "
       ]
      },
      {
       "output_type": "stream",
       "stream": "stdout",
       "text": [
        " [[[[[24584]]]]]\n",
        "47048 tt1186803\n",
        ","
       ]
      },
      {
       "output_type": "stream",
       "stream": "stdout",
       "text": [
        "  [[[[[22386]]]]]\n",
        "66215 tt1064953\n",
        " [[[[[19318]]]]]"
       ]
      },
      {
       "output_type": "stream",
       "stream": "stdout",
       "text": [
        "\n",
        "122919 tt0211933\n",
        " [[[[[10212]]]]]"
       ]
      },
      {
       "output_type": "stream",
       "stream": "stdout",
       "text": [
        "\n",
        "40152 tt0365885\n",
        " [[[[[19848]]]]]"
       ]
      },
      {
       "output_type": "stream",
       "stream": "stdout",
       "text": [
        "\n",
        "63336 -1\n",
        " [[[[[23666]]]]]"
       ]
      },
      {
       "output_type": "stream",
       "stream": "stdout",
       "text": [
        "\n",
        "67447 tt1032856\n",
        " [[[[[24353]]]]]"
       ]
      },
      {
       "output_type": "stream",
       "stream": "stdout",
       "text": [
        "\n",
        " [[[[[20813]]]]]"
       ]
      },
      {
       "output_type": "stream",
       "stream": "stdout",
       "text": [
        "\n",
        "65563 tt0770752\n",
        " [[[[[22013]]]]]"
       ]
      },
      {
       "output_type": "stream",
       "stream": "stdout",
       "text": [
        "\n",
        "66034 tt0469494\n",
        " [[[[[20071]]]]]"
       ]
      },
      {
       "output_type": "stream",
       "stream": "stdout",
       "text": [
        "\n",
        "62694 tt0765120\n",
        " [[[[[21355]]]]]"
       ]
      },
      {
       "output_type": "stream",
       "stream": "stdout",
       "text": [
        "\n",
        "63918 tt0881200\n",
        " [[[[[20473]]]]]"
       ]
      },
      {
       "output_type": "stream",
       "stream": "stdout",
       "text": [
        "\n",
        "117789 tt0499556\n",
        " [[[[[21414]]]]]"
       ]
      },
      {
       "output_type": "stream",
       "stream": "stdout",
       "text": [
        "\n",
        "65090 tt0443274\n",
        " [[[[[23267]]]]]"
       ]
      },
      {
       "output_type": "stream",
       "stream": "stdout",
       "text": [
        "\n",
        "61724 tt1176096\n",
        " [[[[[12248]]]]]"
       ]
      },
      {
       "output_type": "stream",
       "stream": "stdout",
       "text": [
        "\n",
        "62555 tt0462499\n",
        " [[[[[21396]]]]]"
       ]
      },
      {
       "output_type": "stream",
       "stream": "stdout",
       "text": [
        "\n",
        " [[[[[20846]]]]]"
       ]
      },
      {
       "output_type": "stream",
       "stream": "stdout",
       "text": [
        "\n",
        "64994 tt0489099\n",
        " [[[[[23325]]]]]"
       ]
      },
      {
       "output_type": "stream",
       "stream": "stdout",
       "text": [
        "\n",
        "67366 tt0416236\n",
        " [[[[[24026]]]]]"
       ]
      },
      {
       "output_type": "stream",
       "stream": "stdout",
       "text": [
        "\n",
        "69500 tt1173686\n",
        " [[[[[21285]]]]]"
       ]
      },
      {
       "output_type": "stream",
       "stream": "stdout",
       "text": [
        "\n",
        "66102 tt0381849\n",
        " [[[[[20232]]]]]"
       ]
      },
      {
       "output_type": "stream",
       "stream": "stdout",
       "text": [
        "\n",
        "63482 tt0439123\n",
        " [[[[[21686]]]]]"
       ]
      },
      {
       "output_type": "stream",
       "stream": "stdout",
       "text": [
        "\n",
        "66751 tt0477348\n",
        " [[[[[21412]]]]]"
       ]
      },
      {
       "output_type": "stream",
       "stream": "stdout",
       "text": [
        "\n",
        "62272 tt0472062\n",
        " [[[[[24235]]]]]"
       ]
      },
      {
       "output_type": "stream",
       "stream": "stdout",
       "text": [
        "\n",
        "68695 tt1190539\n",
        " [[[[[22751]]]]]"
       ]
      },
      {
       "output_type": "stream",
       "stream": "stdout",
       "text": [
        "\n",
        "67014 tt0847745\n",
        " [[[[[21736]]]]]"
       ]
      },
      {
       "output_type": "stream",
       "stream": "stdout",
       "text": [
        "\n",
        "63027 tt0445922\n",
        " [[[[[22266]]]]]"
       ]
      },
      {
       "output_type": "stream",
       "stream": "stdout",
       "text": [
        "\n",
        "44982 tt0464141\n",
        " [[[[[22209]]]]]"
       ]
      },
      {
       "output_type": "stream",
       "stream": "stdout",
       "text": [
        "\n",
        "65721 tt0913968\n",
        " [[[[[18707]]]]]"
       ]
      },
      {
       "output_type": "stream",
       "stream": "stdout",
       "text": [
        "\n",
        "56601 -1\n",
        " [[[[[23299]]]]]"
       ]
      },
      {
       "output_type": "stream",
       "stream": "stdout",
       "text": [
        "\n",
        "68537 tt1060277\n",
        " [[[[[22885]]]]]"
       ]
      },
      {
       "output_type": "stream",
       "stream": "stdout",
       "text": [
        "\n",
        "67382 -1\n",
        " [[[[[24112]]]]]"
       ]
      },
      {
       "output_type": "stream",
       "stream": "stdout",
       "text": [
        "\n",
        "63928 tt0805513\n",
        " [[[[[20850]]]]]"
       ]
      },
      {
       "output_type": "stream",
       "stream": "stdout",
       "text": [
        "\n",
        "62838 -1\n",
        " [[[[[18846]]]]]"
       ]
      },
      {
       "output_type": "stream",
       "stream": "stdout",
       "text": [
        "\n",
        "68046 tt1232106\n",
        " [[[[[23664]]]]]"
       ]
      },
      {
       "output_type": "stream",
       "stream": "stdout",
       "text": [
        "\n",
        "89286 tt0884328\n",
        " [[[[[20765]]]]]"
       ]
      },
      {
       "output_type": "stream",
       "stream": "stdout",
       "text": [
        "\n",
        "65597 tt0758730\n",
        " [[[[[21764]]]]]"
       ]
      },
      {
       "output_type": "stream",
       "stream": "stdout",
       "text": [
        "\n",
        "65861 tt0389722\n",
        " [[[[[23244]]]]]"
       ]
      },
      {
       "output_type": "stream",
       "stream": "stdout",
       "text": [
        "\n",
        "68552 tt0949804\n",
        " [[[[[12247]]]]]"
       ]
      },
      {
       "output_type": "stream",
       "stream": "stdout",
       "text": [
        "\n",
        "62175 tt0765429\n",
        " [[[[[20764]]]]]"
       ]
      },
      {
       "output_type": "stream",
       "stream": "stdout",
       "text": [
        "\n",
        "36746 tt0465234\n",
        " [[[[[21283]]]]]"
       ]
      },
      {
       "output_type": "stream",
       "stream": "stdout",
       "text": [
        "\n",
        "77143 tt0480249\n",
        " [[[[[5479]]]]]"
       ]
      },
      {
       "output_type": "stream",
       "stream": "stdout",
       "text": [
        "\n",
        "84843 tt0952640\n",
        " [[[[[18515]]]]]"
       ]
      },
      {
       "output_type": "stream",
       "stream": "stdout",
       "text": [
        "\n",
        "66438 tt1193523\n",
        " [[[[[22186]]]]]"
       ]
      },
      {
       "output_type": "stream",
       "stream": "stdout",
       "text": [
        "\n",
        "66249 tt0838221\n",
        " [[[[[8696]]]]]"
       ]
      },
      {
       "output_type": "stream",
       "stream": "stdout",
       "text": [
        "\n",
        "38106 tt0388473\n",
        " [[[[[20367]]]]]"
       ]
      },
      {
       "output_type": "stream",
       "stream": "stdout",
       "text": [
        "\n",
        "45535 tt0427327\n",
        " [[[[[23099]]]]]"
       ]
      },
      {
       "output_type": "stream",
       "stream": "stdout",
       "text": [
        "\n",
        "123013 tt0465494\n",
        " [[[[[23140]]]]]"
       ]
      },
      {
       "output_type": "stream",
       "stream": "stdout",
       "text": [
        "\n",
        "61706 tt0804461\n",
        " [[[[[18734]]]]]"
       ]
      },
      {
       "output_type": "stream",
       "stream": "stdout",
       "text": [
        "\n",
        "56612 tt0498353\n",
        " [[[[[21841]]]]]"
       ]
      },
      {
       "output_type": "stream",
       "stream": "stdout",
       "text": [
        "\n",
        "65815 tt0465538\n",
        " [[[[[22831]]]]]"
       ]
      },
      {
       "output_type": "stream",
       "stream": "stdout",
       "text": [
        "\n",
        "111006 tt1201168\n",
        " [[[[[22851]]]]]"
       ]
      },
      {
       "output_type": "stream",
       "stream": "stdout",
       "text": [
        "\n",
        "65340 -1\n",
        " [[[[[21138]]]]]"
       ]
      },
      {
       "output_type": "stream",
       "stream": "stdout",
       "text": [
        "\n",
        "63444 tt0892759\n",
        " [[[[[21473]]]]]"
       ]
      },
      {
       "output_type": "stream",
       "stream": "stdout",
       "text": [
        "\n",
        "37236 tt0442933\n",
        " [[[[[22311]]]]]"
       ]
      },
      {
       "output_type": "stream",
       "stream": "stdout",
       "text": [
        "\n",
        "66648 tt0842929\n",
        " [[[[[10199]]]]]"
       ]
      },
      {
       "output_type": "stream",
       "stream": "stdout",
       "text": [
        "\n",
        "40103 tt0092890\n",
        " [[[[[9574]]]]]"
       ]
      },
      {
       "output_type": "stream",
       "stream": "stdout",
       "text": [
        "\n",
        "24008 tt0113824\n",
        " [[[[[8679]]]]]"
       ]
      },
      {
       "output_type": "stream",
       "stream": "stdout",
       "text": [
        "\n",
        "18050 tt0097814\n",
        " [[[[[8714]]]]]"
       ]
      },
      {
       "output_type": "stream",
       "stream": "stdout",
       "text": [
        "\n",
        "44629 tt0401233\n",
        " [[[[[21266]]]]]"
       ]
      },
      {
       "output_type": "stream",
       "stream": "stdout",
       "text": [
        "\n",
        "66510 tt1872164\n",
        " [[[[[20012]]]]]"
       ]
      },
      {
       "output_type": "stream",
       "stream": "stdout",
       "text": [
        "\n",
        "76738 -1\n",
        " [[[[[23257]]]]]"
       ]
      },
      {
       "output_type": "stream",
       "stream": "stdout",
       "text": [
        "\n",
        "62733 tt0891527\n",
        " [[[[[20301]]]]]"
       ]
      },
      {
       "output_type": "stream",
       "stream": "stdout",
       "text": [
        "\n",
        "61802 tt0464196\n",
        " [[[[[19499]]]]]"
       ]
      },
      {
       "output_type": "stream",
       "stream": "stdout",
       "text": [
        "\n",
        "68269 tt0489664\n",
        " [[[[[23564]]]]]"
       ]
      },
      {
       "output_type": "stream",
       "stream": "stdout",
       "text": [
        "\n",
        "66589 tt0970472\n",
        " [[[[[21720]]]]]"
       ]
      },
      {
       "output_type": "stream",
       "stream": "stdout",
       "text": [
        "\n",
        "122064 tt0997157\n",
        " [[[[[10136]]]]]"
       ]
      },
      {
       "output_type": "stream",
       "stream": "stdout",
       "text": [
        "\n",
        "56218 -1\n",
        " [[[[[20700]]]]]"
       ]
      },
      {
       "output_type": "stream",
       "stream": "stdout",
       "text": [
        "\n",
        "63515 tt0851578\n",
        " [[[[[21082]]]]]"
       ]
      },
      {
       "output_type": "stream",
       "stream": "stdout",
       "text": [
        "\n",
        "80780 tt0889615\n",
        " [[[[[21260]]]]]"
       ]
      },
      {
       "output_type": "stream",
       "stream": "stdout",
       "text": [
        "\n",
        "66363 tt1194124\n",
        " [[[[[20063]]]]]"
       ]
      },
      {
       "output_type": "stream",
       "stream": "stdout",
       "text": [
        "\n",
        "53825 tt0432021\n",
        " [[[[[18996]]]]]"
       ]
      },
      {
       "output_type": "stream",
       "stream": "stdout",
       "text": [
        "\n",
        "68333 tt0476964\n",
        " [[[[[21431]]]]]"
       ]
      },
      {
       "output_type": "stream",
       "stream": "stdout",
       "text": [
        "\n",
        "61428 tt0465602\n",
        " [[[[[21982]]]]]"
       ]
      },
      {
       "output_type": "stream",
       "stream": "stdout",
       "text": [
        "\n",
        "63061 tt0991243\n",
        " [[[[[19547]]]]]"
       ]
      },
      {
       "output_type": "stream",
       "stream": "stdout",
       "text": [
        "\n",
        "125802 -1\n",
        " [[[[[20852]]]]]"
       ]
      },
      {
       "output_type": "stream",
       "stream": "stdout",
       "text": [
        "\n",
        "36778 tt0293564\n",
        " [[[[[23007]]]]]"
       ]
      },
      {
       "output_type": "stream",
       "stream": "stdout",
       "text": [
        "\n",
        "130756 tt1274276\n",
        " [[[[[20702]]]]]"
       ]
      },
      {
       "output_type": "stream",
       "stream": "stdout",
       "text": [
        "\n",
        "63116 tt0862946\n",
        " [[[[[19114]]]]]"
       ]
      },
      {
       "output_type": "stream",
       "stream": "stdout",
       "text": [
        "\n",
        "126367 tt0427392\n",
        " [[[[[20476]]]]]"
       ]
      },
      {
       "output_type": "stream",
       "stream": "stdout",
       "text": [
        "\n",
        "59075 tt0440963\n",
        " [[[[[21392]]]]]"
       ]
      },
      {
       "output_type": "stream",
       "stream": "stdout",
       "text": [
        "\n",
        "60022 -1\n",
        " [[[[[23062]]]]]"
       ]
      },
      {
       "output_type": "stream",
       "stream": "stdout",
       "text": [
        "\n",
        "67887 tt1028528\n",
        " [[[[[21751]]]]]"
       ]
      },
      {
       "output_type": "stream",
       "stream": "stdout",
       "text": [
        "\n",
        "65869 tt0486822\n",
        " [[[[[19325]]]]]"
       ]
      },
      {
       "output_type": "stream",
       "stream": "stdout",
       "text": [
        "\n",
        "66200 tt0780571\n",
        " [[[[[19613]]]]]"
       ]
      },
      {
       "output_type": "stream",
       "stream": "stdout",
       "text": [
        "\n",
        "65735 tt0462538\n",
        " [[[[[21757]]]]]"
       ]
      },
      {
       "output_type": "stream",
       "stream": "stdout",
       "text": [
        "\n",
        "64273 tt1213856\n",
        " [[[[[18732]]]]]"
       ]
      },
      {
       "output_type": "stream",
       "stream": "stdout",
       "text": [
        "\n",
        "62753 tt0454919\n",
        " [[[[[10346]]]]]"
       ]
      },
      {
       "output_type": "stream",
       "stream": "stdout",
       "text": [
        "\n",
        "52555 tt0443706\n",
        " [[[[[21416]]]]]"
       ]
      },
      {
       "output_type": "stream",
       "stream": "stdout",
       "text": [
        "\n",
        "65092 tt0453451\n",
        " [[[[[19328]]]]]"
       ]
      },
      {
       "output_type": "stream",
       "stream": "stdout",
       "text": [
        "\n",
        "66144 tt0486655\n",
        " [[[[[9426]]]]]"
       ]
      },
      {
       "output_type": "stream",
       "stream": "stdout",
       "text": [
        "\n",
        "70770 tt1124378\n",
        " [[[[[22738]]]]]"
       ]
      },
      {
       "output_type": "stream",
       "stream": "stdout",
       "text": [
        "\n",
        "66525 tt0891520\n",
        " [[[[[19496]]]]]"
       ]
      },
      {
       "output_type": "stream",
       "stream": "stdout",
       "text": [
        "\n",
        " [[[[[20120]]]]]"
       ]
      },
      {
       "output_type": "stream",
       "stream": "stdout",
       "text": [
        "\n",
        "115718 tt1127855\n",
        " [[[[[6461]]]]]"
       ]
      },
      {
       "output_type": "stream",
       "stream": "stdout",
       "text": [
        "\n",
        "39569 tt0372873\n",
        " [[[[[21445]]]]]"
       ]
      },
      {
       "output_type": "stream",
       "stream": "stdout",
       "text": [
        "\n",
        "64991 tt0455960\n",
        " [[[[[21430]]]]]"
       ]
      },
      {
       "output_type": "stream",
       "stream": "stdout",
       "text": [
        "\n",
        "64995 tt0450385\n",
        " [[[[[21772]]]]]"
       ]
      },
      {
       "output_type": "stream",
       "stream": "stdout",
       "text": [
        "\n",
        "65542 tt0937231\n",
        " [[[[[19934]]]]]"
       ]
      },
      {
       "output_type": "stream",
       "stream": "stdout",
       "text": [
        "\n",
        "61825 tt0467506\n",
        " [[[[[19824]]]]]"
       ]
      },
      {
       "output_type": "stream",
       "stream": "stdout",
       "text": [
        "\n",
        "58018 tt0800341\n",
        " [[[[[23034]]]]]"
       ]
      },
      {
       "output_type": "stream",
       "stream": "stdout",
       "text": [
        "\n",
        "66189 tt0484090\n",
        " [[[[[20763]]]]]"
       ]
      },
      {
       "output_type": "stream",
       "stream": "stdout",
       "text": [
        "\n",
        "40133 tt0337978\n",
        " [[[[[18437]]]]]"
       ]
      },
      {
       "output_type": "stream",
       "stream": "stdout",
       "text": [
        "\n",
        "70117 tt0435625\n",
        " [[[[[20707]]]]]"
       ]
      },
      {
       "output_type": "stream",
       "stream": "stdout",
       "text": [
        "\n",
        "63107 tt0796212\n",
        " [[[[[19057]]]]]"
       ]
      },
      {
       "output_type": "stream",
       "stream": "stdout",
       "text": [
        "\n",
        "60474 tt0437179\n",
        " [[[[[20174]]]]]"
       ]
      },
      {
       "output_type": "stream",
       "stream": "stdout",
       "text": [
        "\n",
        "100691 tt0418279\n",
        " [[[[[21408]]]]]"
       ]
      },
      {
       "output_type": "stream",
       "stream": "stdout",
       "text": [
        "\n",
        "65296 tt0374563\n",
        " [[[[[19904]]]]]"
       ]
      },
      {
       "output_type": "stream",
       "stream": "stdout",
       "text": [
        "\n",
        "57758 tt0496806\n",
        " [[[[[21384]]]]]"
       ]
      },
      {
       "output_type": "stream",
       "stream": "stdout",
       "text": [
        "\n",
        "64114 -1\n",
        " [[[[[21344]]]]]"
       ]
      },
      {
       "output_type": "stream",
       "stream": "stdout",
       "text": [
        "\n",
        "64154 tt0425430\n",
        " [[[[[20513]]]]]"
       ]
      },
      {
       "output_type": "stream",
       "stream": "stdout",
       "text": [
        "\n",
        "72395 tt0808506\n",
        " [[[[[20236]]]]]"
       ]
      },
      {
       "output_type": "stream",
       "stream": "stdout",
       "text": [
        "\n",
        " [[[[[22832]]]]]"
       ]
      },
      {
       "output_type": "stream",
       "stream": "stdout",
       "text": [
        "\n",
        "27950 tt0777946\n",
        " [[[[[20782]]]]]"
       ]
      },
      {
       "output_type": "stream",
       "stream": "stdout",
       "text": [
        "\n",
        "62341 tt0834902\n",
        " [[[[[18845]]]]]"
       ]
      },
      {
       "output_type": "stream",
       "stream": "stdout",
       "text": [
        "\n",
        "50432 tt1601454\n",
        " [[[[[16628]]]]]"
       ]
      },
      {
       "output_type": "stream",
       "stream": "stdout",
       "text": [
        "\n",
        " [[[[[18496]]]]]"
       ]
      },
      {
       "output_type": "stream",
       "stream": "stdout",
       "text": [
        "\n",
        "48747 tt0817225\n",
        " [[[[[20547]]]]]"
       ]
      },
      {
       "output_type": "stream",
       "stream": "stdout",
       "text": [
        "\n",
        "63202 tt0475944\n",
        " [[[[[20973]]]]]"
       ]
      },
      {
       "output_type": "stream",
       "stream": "stdout",
       "text": [
        "\n",
        "103787 tt0435705\n",
        " [[[[[20688]]]]]"
       ]
      },
      {
       "output_type": "stream",
       "stream": "stdout",
       "text": [
        "\n",
        "62858 tt0482930\n",
        " [[[[[18785]]]]]"
       ]
      },
      {
       "output_type": "stream",
       "stream": "stdout",
       "text": [
        "\n",
        "57047 tt0487948\n",
        " [[[[[20014]]]]]"
       ]
      },
      {
       "output_type": "stream",
       "stream": "stdout",
       "text": [
        "\n",
        "46153 tt0494640\n",
        " [[[[[1865]]]]]"
       ]
      },
      {
       "output_type": "stream",
       "stream": "stdout",
       "text": [
        "\n",
        "29732 tt0108405\n",
        " [[[[[10130]]]]]"
       ]
      },
      {
       "output_type": "stream",
       "stream": "stdout",
       "text": [
        "\n",
        "43157 tt0413300\n",
        " [[[[[21476]]]]]"
       ]
      },
      {
       "output_type": "stream",
       "stream": "stdout",
       "text": [
        "\n",
        "65113 tt0822854\n",
        " [[[[[21347]]]]]"
       ]
      },
      {
       "output_type": "stream",
       "stream": "stdout",
       "text": [
        "\n",
        "62679 tt0396555\n",
        " [[[[[10137]]]]]"
       ]
      },
      {
       "output_type": "stream",
       "stream": "stdout",
       "text": [
        "\n",
        " [[[[[18324]]]]]"
       ]
      },
      {
       "output_type": "stream",
       "stream": "stdout",
       "text": [
        "\n",
        "244922 tt0464038\n",
        " [[[[[20424]]]]]"
       ]
      },
      {
       "output_type": "stream",
       "stream": "stdout",
       "text": [
        "\n",
        "47421 tt1662506\n",
        " [[[[[20142]]]]]"
       ]
      },
      {
       "output_type": "stream",
       "stream": "stdout",
       "text": [
        "\n",
        "58333 tt0768120\n",
        " [[[[[20054]]]]]"
       ]
      },
      {
       "output_type": "stream",
       "stream": "stdout",
       "text": [
        "\n",
        "61095 tt0389557\n",
        " [[[[[19559]]]]]"
       ]
      },
      {
       "output_type": "stream",
       "stream": "stdout",
       "text": [
        "\n",
        " [[[[[10135]]]]]"
       ]
      },
      {
       "output_type": "stream",
       "stream": "stdout",
       "text": [
        "\n",
        " [[[[[18524]]]]]"
       ]
      },
      {
       "output_type": "stream",
       "stream": "stdout",
       "text": [
        "\n",
        "112041 tt1137481\n",
        " [[[[[20360]]]]]"
       ]
      },
      {
       "output_type": "stream",
       "stream": "stdout",
       "text": [
        "\n",
        "76014 tt0443543\n",
        " [[[[[21868]]]]]"
       ]
      },
      {
       "output_type": "stream",
       "stream": "stdout",
       "text": [
        "\n",
        "31767 tt0071615\n",
        " [[[[[21867]]]]]"
       ]
      },
      {
       "output_type": "stream",
       "stream": "stdout",
       "text": [
        "\n",
        "16620 tt0067866\n",
        " [[[[[19500]]]]]"
       ]
      },
      {
       "output_type": "stream",
       "stream": "stdout",
       "text": [
        "\n",
        "91192 -1\n",
        " [[[[[20573]]]]]"
       ]
      },
      {
       "output_type": "stream",
       "stream": "stdout",
       "text": [
        "\n",
        "64354 tt0454921\n",
        " [[[[[20079]]]]]"
       ]
      },
      {
       "output_type": "stream",
       "stream": "stdout",
       "text": [
        "\n",
        "62342 tt0984055\n",
        " [[[[[19086]]]]]"
       ]
      },
      {
       "output_type": "stream",
       "stream": "stdout",
       "text": [
        "\n",
        " [[[[[19486]]]]]"
       ]
      },
      {
       "output_type": "stream",
       "stream": "stdout",
       "text": [
        "\n",
        "62556 -1\n",
        " [[[[[20271]]]]]"
       ]
      },
      {
       "output_type": "stream",
       "stream": "stdout",
       "text": [
        "\n",
        "61848 tt0844347\n",
        " [[[[[13342]]]]]"
       ]
      },
      {
       "output_type": "stream",
       "stream": "stdout",
       "text": [
        "\n",
        "45709 tt0418689\n",
        " [[[[[18787]]]]]"
       ]
      },
      {
       "output_type": "stream",
       "stream": "stdout",
       "text": [
        "\n",
        "61450 tt0443489\n",
        " [[[[[19077]]]]]"
       ]
      },
      {
       "output_type": "stream",
       "stream": "stdout",
       "text": [
        "\n",
        "49359 tt0449467\n",
        " [[[[[8170]]]]]"
       ]
      },
      {
       "output_type": "stream",
       "stream": "stdout",
       "text": [
        "\n",
        "39633 tt0351817\n",
        " [[[[[15095]]]]]"
       ]
      },
      {
       "output_type": "stream",
       "stream": "stdout",
       "text": [
        "\n",
        "38680 tt0371050\n",
        " [[[[[19727]]]]]"
       ]
      },
      {
       "output_type": "stream",
       "stream": "stdout",
       "text": [
        "\n",
        "61698 tt0969268\n",
        " [[[[[19902]]]]]"
       ]
      },
      {
       "output_type": "stream",
       "stream": "stdout",
       "text": [
        "\n",
        "51579 -1\n",
        " [[[[[20710]]]]]"
       ]
      },
      {
       "output_type": "stream",
       "stream": "stdout",
       "text": [
        "\n",
        " [[[[[20339]]]]]"
       ]
      },
      {
       "output_type": "stream",
       "stream": "stdout",
       "text": [
        "\n",
        "57899 tt0473444\n",
        " [[[[[18489]]]]]"
       ]
      },
      {
       "output_type": "stream",
       "stream": "stdout",
       "text": [
        "\n",
        "56065 tt0294870\n",
        " [[[[[21864]]]]]"
       ]
      },
      {
       "output_type": "stream",
       "stream": "stdout",
       "text": [
        "\n",
        "49639 tt0428649\n",
        " [[[[[19833]]]]]"
       ]
      },
      {
       "output_type": "stream",
       "stream": "stdout",
       "text": [
        "\n",
        "62249 tt0453467\n",
        " [[[[[18389]]]]]"
       ]
      },
      {
       "output_type": "stream",
       "stream": "stdout",
       "text": [
        "\n",
        "53609 tt0485863\n",
        " [[[[[20334]]]]]"
       ]
      },
      {
       "output_type": "stream",
       "stream": "stdout",
       "text": [
        "\n",
        "52219 tt0400717\n",
        " [[[[[10244]]]]]"
       ]
      },
      {
       "output_type": "stream",
       "stream": "stdout",
       "text": [
        "\n",
        "57718 tt0939911\n",
        " [[[[[19376]]]]]"
       ]
      },
      {
       "output_type": "stream",
       "stream": "stdout",
       "text": [
        "\n",
        "77117 tt0366548\n",
        " [[[[[8936]]]]]"
       ]
      },
      {
       "output_type": "stream",
       "stream": "stdout",
       "text": [
        "\n",
        "40216 tt0413893\n",
        " [[[[[17975]]]]]"
       ]
      },
      {
       "output_type": "stream",
       "stream": "stdout",
       "text": [
        "\n",
        "55701 tt0478044\n",
        " [[[[[19977]]]]]"
       ]
      },
      {
       "output_type": "stream",
       "stream": "stdout",
       "text": [
        "\n",
        "63485 tt0804513\n",
        " [[[[[19075]]]]]"
       ]
      },
      {
       "output_type": "stream",
       "stream": "stdout",
       "text": [
        "\n",
        "49336 tt0457430\n",
        " [[[[[9722]]]]]"
       ]
      },
      {
       "output_type": "stream",
       "stream": "stdout",
       "text": [
        "\n",
        "41672 tt0407887\n",
        " [[[[[19981]]]]]"
       ]
      },
      {
       "output_type": "stream",
       "stream": "stdout",
       "text": [
        "\n",
        "118931 tt0462590\n",
        " [[[[[20136]]]]]"
       ]
      },
      {
       "output_type": "stream",
       "stream": "stdout",
       "text": [
        "\n",
        "61658 tt0433386\n",
        " [[[[[18425]]]]]"
       ]
      },
      {
       "output_type": "stream",
       "stream": "stdout",
       "text": [
        "\n",
        "57684 tt0384537\n",
        " [[[[[18596]]]]]"
       ]
      },
      {
       "output_type": "stream",
       "stream": "stdout",
       "text": [
        "\n",
        "56476 tt0416315\n",
        " [[[[[19526]]]]]"
       ]
      },
      {
       "output_type": "stream",
       "stream": "stdout",
       "text": [
        "\n",
        "60484 tt0458352\n",
        " [[[[[20300]]]]]"
       ]
      },
      {
       "output_type": "stream",
       "stream": "stdout",
       "text": [
        "\n",
        "44088 tt0492784\n",
        " [[[[[18519]]]]]"
       ]
      },
      {
       "output_type": "stream",
       "stream": "stdout",
       "text": [
        "\n",
        "58085 tt0891488\n",
        " [[[[[14535]]]]]"
       ]
      },
      {
       "output_type": "stream",
       "stream": "stdout",
       "text": [
        "\n",
        "67769 tt0875025\n",
        " [[[[[18622]]]]]"
       ]
      },
      {
       "output_type": "stream",
       "stream": "stdout",
       "text": [
        "\n",
        "44025 tt0260123\n",
        " [[[[[19331]]]]]"
       ]
      },
      {
       "output_type": "stream",
       "stream": "stdout",
       "text": [
        "\n",
        "57486 tt0443632\n",
        " [[[[[19474]]]]]"
       ]
      },
      {
       "output_type": "stream",
       "stream": "stdout",
       "text": [
        "\n",
        "45749 tt0835787\n",
        " [[[[[20273]]]]]"
       ]
      },
      {
       "output_type": "stream",
       "stream": "stdout",
       "text": [
        "\n",
        "60166 tt0473064\n",
        " [[[[[9249]]]]]"
       ]
      },
      {
       "output_type": "stream",
       "stream": "stdout",
       "text": [
        "\n",
        "52307 tt0414852\n",
        " [[[[[19836]]]]]"
       ]
      },
      {
       "output_type": "stream",
       "stream": "stdout",
       "text": [
        "\n",
        "101963 tt0845442\n",
        " [[[[[11472]]]]]"
       ]
      },
      {
       "output_type": "stream",
       "stream": "stdout",
       "text": [
        "\n",
        "42589 tt0473028\n",
        " [[[[[19125]]]]]"
       ]
      },
      {
       "output_type": "stream",
       "stream": "stdout",
       "text": [
        "\n",
        "61060 tt0385880\n",
        " [[[[[18910]]]]]"
       ]
      },
      {
       "output_type": "stream",
       "stream": "stdout",
       "text": [
        "\n",
        "58023 tt0857334\n",
        " [[[[[8590]]]]]"
       ]
      },
      {
       "output_type": "stream",
       "stream": "stdout",
       "text": [
        "\n",
        "39841 tt0468492\n",
        " [[[[[19119]]]]]"
       ]
      },
      {
       "output_type": "stream",
       "stream": "stdout",
       "text": [
        "\n",
        "44320 tt0494815\n",
        " [[[[[18956]]]]]"
       ]
      },
      {
       "output_type": "stream",
       "stream": "stdout",
       "text": [
        "\n",
        "58160 tt0455857\n",
        " [[[[[19546]]]]]"
       ]
      },
      {
       "output_type": "stream",
       "stream": "stdout",
       "text": [
        "\n",
        " [[[[[17071]]]]]"
       ]
      },
      {
       "output_type": "stream",
       "stream": "stdout",
       "text": [
        "\n",
        "86302 tt0473490\n",
        " [[[[[8675]]]]]"
       ]
      },
      {
       "output_type": "stream",
       "stream": "stdout",
       "text": [
        "\n",
        "37493 tt0378194\n",
        " [[[[[9831]]]]]"
       ]
      },
      {
       "output_type": "stream",
       "stream": "stdout",
       "text": [
        "\n",
        " [[[[[9421]]]]]"
       ]
      },
      {
       "output_type": "stream",
       "stream": "stdout",
       "text": [
        "\n",
        "32470 -1\n",
        " [[[[[14504]]]]]"
       ]
      },
      {
       "output_type": "stream",
       "stream": "stdout",
       "text": [
        "\n",
        "43205 tt0402022\n",
        " [[[[[18824]]]]]"
       ]
      },
      {
       "output_type": "stream",
       "stream": "stdout",
       "text": [
        "\n",
        "41838 tt0381966\n",
        " [[[[[12611]]]]]"
       ]
      },
      {
       "output_type": "stream",
       "stream": "stdout",
       "text": [
        "\n",
        "50932 tt0821442\n",
        " [[[[[10129]]]]]"
       ]
      },
      {
       "output_type": "stream",
       "stream": "stdout",
       "text": [
        "\n",
        "43995 tt0376994\n",
        " [[[[[18874]]]]]"
       ]
      },
      {
       "output_type": "stream",
       "stream": "stdout",
       "text": [
        "\n",
        "57703 tt0456630\n",
        " [[[[[19004]]]]]"
       ]
      },
      {
       "output_type": "stream",
       "stream": "stdout",
       "text": [
        "\n",
        "58434 tt0404390\n",
        " [[[[[18308]]]]]"
       ]
      },
      {
       "output_type": "stream",
       "stream": "stdout",
       "text": [
        "\n",
        "43607 tt0432291\n",
        " [[[[[12423]]]]]"
       ]
      },
      {
       "output_type": "stream",
       "stream": "stdout",
       "text": [
        "\n",
        "123448 tt0409182\n",
        " [[[[[12481]]]]]"
       ]
      },
      {
       "output_type": "stream",
       "stream": "stdout",
       "text": [
        "\n",
        "56469 tt0821462\n",
        " [[[[[18374]]]]]"
       ]
      },
      {
       "output_type": "stream",
       "stream": "stdout",
       "text": [
        "\n",
        "42844 tt0379725\n",
        " [[[[[18603]]]]]"
       ]
      },
      {
       "output_type": "stream",
       "stream": "stdout",
       "text": [
        "\n",
        "80837 tt0821470\n",
        " [[[[[18451]]]]]"
       ]
      },
      {
       "output_type": "stream",
       "stream": "stdout",
       "text": [
        "\n",
        "99615 tt0823462\n",
        " [[[[[18600]]]]]"
       ]
      },
      {
       "output_type": "stream",
       "stream": "stdout",
       "text": [
        "\n",
        "74799 tt0414982\n",
        " [[[[[18126]]]]]"
       ]
      },
      {
       "output_type": "stream",
       "stream": "stdout",
       "text": [
        "\n",
        "43525 tt0454792\n",
        " [[[[[6250]]]]]"
       ]
      },
      {
       "output_type": "stream",
       "stream": "stdout",
       "text": [
        "\n",
        "43153 tt0317919\n",
        " [[[[[17176]]]]]"
       ]
      },
      {
       "output_type": "stream",
       "stream": "stdout",
       "text": [
        "\n",
        "43370 tt0387131\n",
        " [[[[[19305]]]]]"
       ]
      },
      {
       "output_type": "stream",
       "stream": "stdout",
       "text": [
        "\n",
        "33516 tt0208178\n",
        " [[[[[8814]]]]]"
       ]
      },
      {
       "output_type": "stream",
       "stream": "stdout",
       "text": [
        "\n",
        "40117 tt0423360\n",
        " [[[[[18427]]]]]"
       ]
      },
      {
       "output_type": "stream",
       "stream": "stdout",
       "text": [
        "\n",
        "39377 tt0395972\n",
        " [[[[[10367]]]]]"
       ]
      },
      {
       "output_type": "stream",
       "stream": "stdout",
       "text": [
        "\n",
        "57488 tt0454848\n",
        " [[[[[18078]]]]]"
       ]
      },
      {
       "output_type": "stream",
       "stream": "stdout",
       "text": [
        "\n",
        "43520 tt0490919\n",
        " [[[[[19059]]]]]"
       ]
      },
      {
       "output_type": "stream",
       "stream": "stdout",
       "text": [
        "\n",
        "58323 tt0397313\n",
        " [[[[[8950]]]]]"
       ]
      },
      {
       "output_type": "stream",
       "stream": "stdout",
       "text": [
        "\n",
        "38458 tt0400586\n",
        " [[[[[9713]]]]]"
       ]
      },
      {
       "output_type": "stream",
       "stream": "stdout",
       "text": [
        "\n",
        "126329 tt0375679\n",
        " [[[[[9989]]]]]"
       ]
      },
      {
       "output_type": "stream",
       "stream": "stdout",
       "text": [
        "\n",
        "38880 tt0369441\n",
        " [[[[[18552]]]]]"
       ]
      },
      {
       "output_type": "stream",
       "stream": "stdout",
       "text": [
        "\n",
        "52514 tt0365737\n",
        " [[[[[10743]]]]]"
       ]
      },
      {
       "output_type": "stream",
       "stream": "stdout",
       "text": [
        "\n",
        "41340 tt0778159\n",
        " [[[[[10811]]]]]"
       ]
      },
      {
       "output_type": "stream",
       "stream": "stdout",
       "text": [
        "\n",
        "43208 tt0434409\n",
        " [[[[[18938]]]]]"
       ]
      },
      {
       "output_type": "stream",
       "stream": "stdout",
       "text": [
        "\n",
        "57897 tt0446059\n",
        " [[[[[14324]]]]]"
       ]
      },
      {
       "output_type": "stream",
       "stream": "stdout",
       "text": [
        "\n",
        "42253 tt0396269\n",
        " [[[[[18549]]]]]"
       ]
      },
      {
       "output_type": "stream",
       "stream": "stdout",
       "text": [
        "\n",
        "42493 tt0358273\n",
        " [[[[[15812]]]]]"
       ]
      },
      {
       "output_type": "stream",
       "stream": "stdout",
       "text": [
        "\n",
        "43516 tt0388795\n",
        " [[[[[18392]]]]]"
       ]
      },
      {
       "output_type": "stream",
       "stream": "stdout",
       "text": [
        "\n",
        "52593 tt0757157\n",
        " [[[[[18616]]]]]"
       ]
      },
      {
       "output_type": "stream",
       "stream": "stdout",
       "text": [
        "\n",
        " [[[[[9954]]]]]"
       ]
      },
      {
       "output_type": "stream",
       "stream": "stdout",
       "text": [
        "\n",
        " [[[[[14531]]]]]"
       ]
      },
      {
       "output_type": "stream",
       "stream": "stdout",
       "text": [
        "\n",
        "43547 tt0757194\n",
        " [[[[[17601]]]]]"
       ]
      },
      {
       "output_type": "stream",
       "stream": "stdout",
       "text": [
        "\n",
        "43210 tt0489270\n",
        " [[[[[18582]]]]]"
       ]
      },
      {
       "output_type": "stream",
       "stream": "stdout",
       "text": [
        "\n",
        "65095 tt0449630\n",
        " [[[[[18920]]]]]"
       ]
      },
      {
       "output_type": "stream",
       "stream": "stdout",
       "text": [
        "\n",
        "57278 tt0498465\n",
        " [[[[[6290]]]]]"
       ]
      },
      {
       "output_type": "stream",
       "stream": "stdout",
       "text": [
        "\n",
        "125820 tt0341470\n",
        " [[[[[9875]]]]]"
       ]
      },
      {
       "output_type": "stream",
       "stream": "stdout",
       "text": [
        "\n",
        "41589 tt0415978\n",
        " [[[[[9502]]]]]"
       ]
      },
      {
       "output_type": "stream",
       "stream": "stdout",
       "text": [
        "\n",
        "40135 tt0397535\n",
        " [[[[[9163]]]]]"
       ]
      },
      {
       "output_type": "stream",
       "stream": "stdout",
       "text": [
        "\n",
        "40882 tt0485552\n",
        " [[[[[9917]]]]]"
       ]
      },
      {
       "output_type": "stream",
       "stream": "stdout",
       "text": [
        "\n",
        "42547 -1\n",
        " [[[[[7908]]]]]"
       ]
      },
      {
       "output_type": "stream",
       "stream": "stdout",
       "text": [
        "\n",
        "34569 tt0409811\n",
        " [[[[[9498]]]]]"
       ]
      },
      {
       "output_type": "stream",
       "stream": "stdout",
       "text": [
        "\n",
        " [[[[[9204]]]]]"
       ]
      },
      {
       "output_type": "stream",
       "stream": "stdout",
       "text": [
        "\n",
        "39652 tt0492650\n",
        " [[[[[8529]]]]]"
       ]
      },
      {
       "output_type": "stream",
       "stream": "stdout",
       "text": [
        "\n",
        "39625 tt0475750\n",
        " [[[[[9412]]]]]"
       ]
      },
      {
       "output_type": "stream",
       "stream": "stdout",
       "text": [
        "\n",
        "37883 tt0330373\n",
        " [[[[[15480]]]]]"
       ]
      },
      {
       "output_type": "stream",
       "stream": "stdout",
       "text": [
        "\n",
        "29352"
       ]
      },
      {
       "output_type": "stream",
       "stream": "stdout",
       "text": [
        " tt0105622\n",
        " [[[[[9824]]]]]"
       ]
      },
      {
       "output_type": "stream",
       "stream": "stdout",
       "text": [
        "\n",
        "65290 tt0475760\n",
        " [[[[[5180]]]]]"
       ]
      },
      {
       "output_type": "stream",
       "stream": "stdout",
       "text": [
        "\n",
        "40134 tt0488736\n",
        " [[[[[10272]]]]]"
       ]
      },
      {
       "output_type": "stream",
       "stream": "stdout",
       "text": [
        "\n",
        "38901 tt0378109\n",
        " [[[[[9719]]]]]"
       ]
      },
      {
       "output_type": "stream",
       "stream": "stdout",
       "text": [
        "\n",
        "43158 tt0368709\n",
        " [[[[[5208]]]]]"
       ]
      },
      {
       "output_type": "stream",
       "stream": "stdout",
       "text": [
        "\n",
        "125724 tt0249462\n",
        " [[[[[8724]]]]]"
       ]
      },
      {
       "output_type": "stream",
       "stream": "stdout",
       "text": [
        "\n",
        "38444 tt0338013\n",
        " [[[[[7832]]]]]"
       ]
      },
      {
       "output_type": "stream",
       "stream": "stdout",
       "text": [
        "\n",
        "36651 tt0317248\n",
        " [[[[[13260]]]]]"
       ]
      },
      {
       "output_type": "stream",
       "stream": "stdout",
       "text": [
        "\n",
        "36823 tt0347386\n",
        " [[[[[13049]]]]]"
       ]
      },
      {
       "output_type": "stream",
       "stream": "stdout",
       "text": [
        "\n",
        "42845 tt0386140\n",
        " [[[[[13053]]]]]"
       ]
      },
      {
       "output_type": "stream",
       "stream": "stdout",
       "text": [
        "\n",
        "39393 tt0402901\n",
        " [[[[[18271]]]]]"
       ]
      },
      {
       "output_type": "stream",
       "stream": "stdout",
       "text": [
        "\n",
        "37718 tt0263854\n",
        " [[[[[15396]]]]]"
       ]
      },
      {
       "output_type": "stream",
       "stream": "stdout",
       "text": [
        "\n",
        "43151 tt0430105\n",
        " [[[[[10056]]]]]"
       ]
      },
      {
       "output_type": "stream",
       "stream": "stdout",
       "text": [
        "\n",
        "40322 tt0332047\n",
        " [[[[[9235]]]]]"
       ]
      },
      {
       "output_type": "stream",
       "stream": "stdout",
       "text": [
        "\n",
        "39676 tt0345950\n",
        " [[[[[11170]]]]]"
       ]
      },
      {
       "output_type": "stream",
       "stream": "stdout",
       "text": [
        "\n",
        "47566 tt0429078\n",
        " [[[[[9500]]]]]"
       ]
      },
      {
       "output_type": "stream",
       "stream": "stdout",
       "text": [
        "\n",
        "39846 tt0367594\n",
        " [[[[[10085]]]]]"
       ]
      },
      {
       "output_type": "stream",
       "stream": "stdout",
       "text": [
        "\n",
        "39021 -1\n",
        " [[[[[10020]]]]]"
       ]
      },
      {
       "output_type": "stream",
       "stream": "stdout",
       "text": [
        "\n",
        "38851 tt0342258\n",
        " [[[[[17859]]]]]"
       ]
      },
      {
       "output_type": "stream",
       "stream": "stdout",
       "text": [
        "\n",
        "41405 tt0306097\n",
        " [[[[[9612]]]]]"
       ]
      },
      {
       "output_type": "stream",
       "stream": "stdout",
       "text": [
        "\n",
        "40748 tt0463441\n",
        " [[[[[9302]]]]]"
       ]
      },
      {
       "output_type": "stream",
       "stream": "stdout",
       "text": [
        "\n",
        "39622 -1\n",
        " [[[[[9419]]]]]"
       ]
      },
      {
       "output_type": "stream",
       "stream": "stdout",
       "text": [
        "\n",
        "39715 -1\n",
        " [[[[[9709]]]]]"
       ]
      },
      {
       "output_type": "stream",
       "stream": "stdout",
       "text": [
        "\n",
        "42792 tt0421239\n",
        " [[[[[10627]]]]]"
       ]
      },
      {
       "output_type": "stream",
       "stream": "stdout",
       "text": [
        "\n",
        "41361 tt0418819\n",
        " [[[[[8789]]]]]"
       ]
      },
      {
       "output_type": "stream",
       "stream": "stdout",
       "text": [
        "\n",
        "38823 tt0416220\n",
        " [[[[[9211]]]]]"
       ]
      },
      {
       "output_type": "stream",
       "stream": "stdout",
       "text": [
        "\n",
        " [[[[[9013]]]]]"
       ]
      },
      {
       "output_type": "stream",
       "stream": "stdout",
       "text": [
        "\n",
        "39363 tt0374102\n",
        " [[[[[9288]]]]]"
       ]
      },
      {
       "output_type": "stream",
       "stream": "stdout",
       "text": [
        "\n",
        "38849 tt0297284\n",
        " [[[[[13114]]]]]"
       ]
      },
      {
       "output_type": "stream",
       "stream": "stdout",
       "text": [
        "\n",
        "70392 tt0308152\n",
        " [[[[[9953]]]]]"
       ]
      },
      {
       "output_type": "stream",
       "stream": "stdout",
       "text": [
        "\n",
        " [[[[[10634]]]]]"
       ]
      },
      {
       "output_type": "stream",
       "stream": "stdout",
       "text": [
        "\n",
        "42795 tt0397101\n",
        " [[[[[11537]]]]]"
       ]
      },
      {
       "output_type": "stream",
       "stream": "stdout",
       "text": [
        "\n",
        "42157 tt0475532\n",
        " [[[[[9834]]]]]"
       ]
      },
      {
       "output_type": "stream",
       "stream": "stdout",
       "text": [
        "\n",
        "41363 tt0475517\n",
        " [[[[[9561]]]]]"
       ]
      },
      {
       "output_type": "stream",
       "stream": "stdout",
       "text": [
        "\n",
        "40102 tt0475590\n",
        " [[[[[8836]]]]]"
       ]
      },
      {
       "output_type": "stream",
       "stream": "stdout",
       "text": [
        "\n",
        "39359 tt0348121\n",
        " [[[[[9562]]]]]"
       ]
      },
      {
       "output_type": "stream",
       "stream": "stdout",
       "text": [
        "\n",
        "52184 tt0357507\n",
        " [[[[[9270]]]]]"
       ]
      },
      {
       "output_type": "stream",
       "stream": "stdout",
       "text": [
        "\n",
        "38766 tt0451094\n",
        " [[[[[9702]]]]]"
       ]
      },
      {
       "output_type": "stream",
       "stream": "stdout",
       "text": [
        "\n",
        "39879 tt0399201\n",
        " [[[[[9206]]]]]"
       ]
      },
      {
       "output_type": "stream",
       "stream": "stdout",
       "text": [
        "\n",
        "39706 tt0470967\n",
        " [[[[[9501]]]]]"
       ]
      },
      {
       "output_type": "stream",
       "stream": "stdout",
       "text": [
        "\n",
        "132379 tt0407304\n",
        " [[[[[9278]]]]]"
       ]
      },
      {
       "output_type": "stream",
       "stream": "stdout",
       "text": [
        "\n",
        "69689 tt0440803\n",
        " [[[[[10023]]]]]"
       ]
      },
      {
       "output_type": "stream",
       "stream": "stdout",
       "text": [
        "\n",
        "40552 tt0384806\n",
        " [[[[[9496]]]]]"
       ]
      },
      {
       "output_type": "stream",
       "stream": "stdout",
       "text": [
        "\n",
        "45715 tt0401792\n",
        " [[[[[10240]]]]]"
       ]
      },
      {
       "output_type": "stream",
       "stream": "stdout",
       "text": [
        "\n",
        "40321 tt0318649\n",
        " [[[[[8195]]]]]"
       ]
      },
      {
       "output_type": "stream",
       "stream": "stdout",
       "text": [
        "\n",
        "37439 tt0372784\n",
        " [[[[[8311]]]]]"
       ]
      },
      {
       "output_type": "stream",
       "stream": "stdout",
       "text": [
        "\n",
        "61431 tt0324216\n",
        " [[[[[9622]]]]]"
       ]
      },
      {
       "output_type": "stream",
       "stream": "stdout",
       "text": [
        "\n",
        "40142 tt0377109\n",
        " [[[[[9422]]]]]"
       ]
      },
      {
       "output_type": "stream",
       "stream": "stdout",
       "text": [
        "\n",
        "39863 tt0464762\n",
        " [[[[[5612]]]]]"
       ]
      },
      {
       "output_type": "stream",
       "stream": "stdout",
       "text": [
        "\n",
        "33869 tt0313550\n",
        " [[[[[8310]]]]]"
       ]
      },
      {
       "output_type": "stream",
       "stream": "stdout",
       "text": [
        "\n",
        "39102 tt0464692\n",
        " [[[[[9170]]]]]"
       ]
      },
      {
       "output_type": "stream",
       "stream": "stdout",
       "text": [
        "\n",
        "52503 tt0391198\n",
        " [[[[[9281]]]]]"
       ]
      },
      {
       "output_type": "stream",
       "stream": "stdout",
       "text": [
        "\n",
        "39657 tt0461795\n",
        " [[[[[8829]]]]]"
       ]
      },
      {
       "output_type": "stream",
       "stream": "stdout",
       "text": [
        "\n",
        "13838 -1\n",
        " [[[[[10231]]]]]"
       ]
      },
      {
       "output_type": "stream",
       "stream": "stdout",
       "text": [
        "\n",
        "40144 -1\n",
        " [[[[[9236]]]]]"
       ]
      },
      {
       "output_type": "stream",
       "stream": "stdout",
       "text": [
        "\n",
        "39684 tt0362269\n",
        " [[[[[10089]]]]]"
       ]
      },
      {
       "output_type": "stream",
       "stream": "stdout",
       "text": [
        "\n",
        "76135 tt0359342\n",
        " [[[[[9166]]]]]"
       ]
      },
      {
       "output_type": "stream",
       "stream": "stdout",
       "text": [
        "\n",
        "40033 tt0462684\n",
        " [[[[[9540]]]]]"
       ]
      },
      {
       "output_type": "stream",
       "stream": "stdout",
       "text": [
        "\n",
        "22749 tt0110008\n",
        " [[[[[5928]]]]]"
       ]
      },
      {
       "output_type": "stream",
       "stream": "stdout",
       "text": [
        "\n",
        "33561 tt0219965\n",
        " [[[[[6013]]]]]"
       ]
      },
      {
       "output_type": "stream",
       "stream": "stdout",
       "text": [
        "\n",
        "31905 tt0210382\n",
        " [[[[[5664]]]]]"
       ]
      },
      {
       "output_type": "stream",
       "stream": "stdout",
       "text": [
        "\n",
        "34456 -1\n",
        " [[[[[5977]]]]]"
       ]
      },
      {
       "output_type": "stream",
       "stream": "stdout",
       "text": [
        "\n",
        "33080 tt0286098\n",
        " [[[[[5391]]]]]"
       ]
      },
      {
       "output_type": "stream",
       "stream": "stdout",
       "text": [
        "\n",
        "26531 tt0310775\n",
        " [[[[[9676]]]]]"
       ]
      },
      {
       "output_type": "stream",
       "stream": "stdout",
       "text": [
        "\n",
        "39878 tt0373926\n",
        " [[[[[9408]]]]]"
       ]
      },
      {
       "output_type": "stream",
       "stream": "stdout",
       "text": [
        "\n",
        "35165 tt0290002\n",
        " [[[[[9088]]]]]"
       ]
      },
      {
       "output_type": "stream",
       "stream": "stdout",
       "text": [
        "\n",
        "38546 tt0408664\n",
        " [[[[[7113]]]]]"
       ]
      },
      {
       "output_type": "stream",
       "stream": "stdout",
       "text": [
        "\n",
        "66089 tt0375210\n",
        " [[[[[9893]]]]]"
       ]
      },
      {
       "output_type": "stream",
       "stream": "stdout",
       "text": [
        "\n",
        "39618 tt0361862\n",
        " [[[[[9173]]]]]"
       ]
      },
      {
       "output_type": "stream",
       "stream": "stdout",
       "text": [
        "\n",
        "38563 tt0379576\n",
        " [[[[[9165]]]]]"
       ]
      },
      {
       "output_type": "stream",
       "stream": "stdout",
       "text": [
        "\n",
        "39680 tt0419515\n",
        " [[[[[9259]]]]]"
       ]
      },
      {
       "output_type": "stream",
       "stream": "stdout",
       "text": [
        "\n",
        "39758 tt0357277\n",
        " [[[[[9116]]]]]"
       ]
      },
      {
       "output_type": "stream",
       "stream": "stdout",
       "text": [
        "\n",
        "39479 tt0386005\n",
        " [[[[[9229]]]]]"
       ]
      },
      {
       "output_type": "stream",
       "stream": "stdout",
       "text": [
        "\n",
        "67638 tt0373074\n",
        " [[[[[9245]]]]]"
       ]
      },
      {
       "output_type": "stream",
       "stream": "stdout",
       "text": [
        "\n",
        "38850 tt0349903\n",
        " [[[[[8707]]]]]"
       ]
      },
      {
       "output_type": "stream",
       "stream": "stdout",
       "text": [
        "\n",
        "38582 tt0377092\n",
        " [[[[[8717]]]]]"
       ]
      },
      {
       "output_type": "stream",
       "stream": "stdout",
       "text": [
        "\n",
        "38420"
       ]
      },
      {
       "output_type": "stream",
       "stream": "stdout",
       "text": [
        " tt0343818\n",
        " [[[[[2944]]]]]"
       ]
      },
      {
       "output_type": "stream",
       "stream": "stdout",
       "text": [
        "\n",
        "31365 -1\n",
        " [[[[[8632]]]]]"
       ]
      },
      {
       "output_type": "stream",
       "stream": "stdout",
       "text": [
        "\n",
        "38421 tt0338526\n",
        " [[[[[8638]]]]]"
       ]
      },
      {
       "output_type": "stream",
       "stream": "stdout",
       "text": [
        "\n",
        "38442 tt0335245\n",
        " [[[[[8591]]]]]"
       ]
      },
      {
       "output_type": "stream",
       "stream": "stdout",
       "text": [
        "\n",
        "36737 tt0335438\n",
        " [[[[[8166]]]]]"
       ]
      },
      {
       "output_type": "stream",
       "stream": "stdout",
       "text": [
        "\n",
        "37853 tt0402842\n",
        " [[[[[8579]]]]]"
       ]
      },
      {
       "output_type": "stream",
       "stream": "stdout",
       "text": [
        "\n",
        "38197 tt0335345\n",
        " [[[[[8181]]]]]"
       ]
      },
      {
       "output_type": "stream",
       "stream": "stdout",
       "text": [
        "\n",
        "37644 tt0363226\n",
        " [[[[[8142]]]]]"
       ]
      },
      {
       "output_type": "stream",
       "stream": "stdout",
       "text": [
        "\n",
        "81353 tt0313542\n",
        " [[[[[7743]]]]]"
       ]
      },
      {
       "output_type": "stream",
       "stream": "stdout",
       "text": [
        "\n",
        "37245 tt0390205\n",
        " [[[[[8468]]]]]"
       ]
      },
      {
       "output_type": "stream",
       "stream": "stdout",
       "text": [
        "\n",
        "43204 tt0316396\n",
        " [[[[[6288]]]]]"
       ]
      },
      {
       "output_type": "stream",
       "stream": "stdout",
       "text": [
        "\n",
        "37869 tt0325710\n",
        " [[[[[7542]]]]]"
       ]
      },
      {
       "output_type": "stream",
       "stream": "stdout",
       "text": [
        "\n",
        "34501 tt0387596\n",
        " [[[[[8433]]]]]"
       ]
      },
      {
       "output_type": "stream",
       "stream": "stdout",
       "text": [
        "\n",
        "19302 tt0104652\n",
        " [[[[[8271]]]]]"
       ]
      },
      {
       "output_type": "stream",
       "stream": "stdout",
       "text": [
        "\n",
        "31796 tt0167260\n",
        " [[[[[6590]]]]]"
       ]
      },
      {
       "output_type": "stream",
       "stream": "stdout",
       "text": [
        "\n",
        "37709 tt0327056\n",
        " [[[[[8331]]]]]"
       ]
      },
      {
       "output_type": "stream",
       "stream": "stdout",
       "text": [
        "\n",
        "37487 tt0369060\n",
        " [[[[[7427]]]]]"
       ]
      },
      {
       "output_type": "stream",
       "stream": "stdout",
       "text": [
        "\n",
        "37493 tt0266697\n",
        " [[[[[7426]]]]]"
       ]
      },
      {
       "output_type": "stream",
       "stream": "stdout",
       "text": [
        "\n",
        "12954 tt0242653\n",
        " [[[[[8144]]]]]"
       ]
      },
      {
       "output_type": "stream",
       "stream": "stdout",
       "text": [
        "\n",
        "33095 tt0288045\n",
        " [[[[[8133]]]]]"
       ]
      },
      {
       "output_type": "stream",
       "stream": "stdout",
       "text": [
        "\n",
        "36853 tt0325805\n",
        " [[[[[6599]]]]]"
       ]
      },
      {
       "output_type": "stream",
       "stream": "stdout",
       "text": [
        "\n",
        "36398 tt0380689\n",
        " [[[[[6273]]]]]"
       ]
      },
      {
       "output_type": "stream",
       "stream": "stdout",
       "text": [
        "\n",
        "31563 tt0378428\n",
        " [[[[[7801]]]]]"
       ]
      },
      {
       "output_type": "stream",
       "stream": "stdout",
       "text": [
        "\n",
        "36857 tt0322259\n",
        " [[[[[8065]]]]]"
       ]
      },
      {
       "output_type": "stream",
       "stream": "stdout",
       "text": [
        "\n",
        "53159 tt0367913\n",
        " [[[[[7604]]]]]"
       ]
      },
      {
       "output_type": "stream",
       "stream": "stdout",
       "text": [
        "\n",
        "35098 tt0364447\n",
        " [[[[[8005]]]]]"
       ]
      },
      {
       "output_type": "stream",
       "stream": "stdout",
       "text": [
        "\n",
        "37148 tt0325980\n",
        " [[[[[7812]]]]]"
       ]
      },
      {
       "output_type": "stream",
       "stream": "stdout",
       "text": [
        "\n",
        "37050 tt0295700\n",
        " [[[[[6413]]]]]"
       ]
      },
      {
       "output_type": "stream",
       "stream": "stdout",
       "text": [
        "\n",
        "36589 tt0372937\n",
        " [[[[[7810]]]]]"
       ]
      },
      {
       "output_type": "stream",
       "stream": "stdout",
       "text": [
        "\n",
        "36343 tt0311429\n",
        " [[[[[7084]]]]]"
       ]
      },
      {
       "output_type": "stream",
       "stream": "stdout",
       "text": [
        "\n",
        "36451 tt0372782\n",
        " [[[[[6778]]]]]"
       ]
      },
      {
       "output_type": "stream",
       "stream": "stdout",
       "text": [
        "\n",
        "35904 tt0358345\n",
        " [[[[[7598]]]]]"
       ]
      },
      {
       "output_type": "stream",
       "stream": "stdout",
       "text": [
        "\n",
        " [[[[[5937]]]]]"
       ]
      },
      {
       "output_type": "stream",
       "stream": "stdout",
       "text": [
        "\n",
        " [[[[[7423]]]]]"
       ]
      },
      {
       "output_type": "stream",
       "stream": "stdout",
       "text": [
        "\n",
        "36931 tt0369357\n",
        " [[[[[2719]]]]]"
       ]
      },
      {
       "output_type": "stream",
       "stream": "stdout",
       "text": [
        "\n",
        "31574 tt0353014\n",
        " [[[[[6153]]]]]"
       ]
      },
      {
       "output_type": "stream",
       "stream": "stdout",
       "text": [
        "\n",
        "36858 tt0315327\n",
        " [[[[[7280]]]]]"
       ]
      },
      {
       "output_type": "stream",
       "stream": "stdout",
       "text": [
        "\n",
        " [[[[[7364]]]]]"
       ]
      },
      {
       "output_type": "stream",
       "stream": "stdout",
       "text": [
        "\n",
        "36415 tt0371226\n",
        " [[[[[7778]]]]]"
       ]
      },
      {
       "output_type": "stream",
       "stream": "stdout",
       "text": [
        "\n",
        "124042 tt0367913\n",
        " [[[[[7436]]]]]"
       ]
      },
      {
       "output_type": "stream",
       "stream": "stdout",
       "text": [
        "\n",
        "36719 tt0364262\n",
        " [[[[[7728]]]]]"
       ]
      },
      {
       "output_type": "stream",
       "stream": "stdout",
       "text": [
        "\n",
        "82436 tt0274166\n",
        " [[[[[6020]]]]]"
       ]
      },
      {
       "output_type": "stream",
       "stream": "stdout",
       "text": [
        "\n",
        "36732 tt0365376\n",
        " [[[[[6345]]]]]"
       ]
      },
      {
       "output_type": "stream",
       "stream": "stdout",
       "text": [
        "\n",
        "34978 tt0236019\n",
        " [[[[[5361]]]]]"
       ]
      },
      {
       "output_type": "stream",
       "stream": "stdout",
       "text": [
        "\n",
        "35110 tt0290334\n",
        " [[[[[7719]]]]]"
       ]
      },
      {
       "output_type": "stream",
       "stream": "stdout",
       "text": [
        "\n",
        "33175 tt0285531\n",
        " [[[[[6249]]]]]"
       ]
      },
      {
       "output_type": "stream",
       "stream": "stdout",
       "text": [
        "\n",
        "35189 tt0272338\n",
        ","
       ]
      },
      {
       "output_type": "stream",
       "stream": "stdout",
       "text": [
        "  [[[[[5961]]]]]\n",
        "35901 tt0353969\n",
        " [[[[[7339]]]]]"
       ]
      },
      {
       "output_type": "stream",
       "stream": "stdout",
       "text": [
        "\n",
        "36051 tt0307479\n",
        " [[[[[7637]]]]]"
       ]
      },
      {
       "output_type": "stream",
       "stream": "stdout",
       "text": [
        "\n",
        "34435 tt0281364\n",
        " [[[[[7561]]]]]"
       ]
      },
      {
       "output_type": "stream",
       "stream": "stdout",
       "text": [
        "\n",
        " [[[[[7571]]]]]"
       ]
      },
      {
       "output_type": "stream",
       "stream": "stdout",
       "text": [
        "\n",
        "36676 tt0314353\n",
        " [[[[[5556]]]]]"
       ]
      },
      {
       "output_type": "stream",
       "stream": "stdout",
       "text": [
        "\n",
        "36344 tt0354668\n",
        " [[[[[6841]]]]]"
       ]
      },
      {
       "output_type": "stream",
       "stream": "stdout",
       "text": [
        "\n",
        "108699 tt0290673\n",
        " [[[[[6280]]]]]"
       ]
      },
      {
       "output_type": "stream",
       "stream": "stdout",
       "text": [
        "\n",
        "36590 tt0299658\n",
        " [[[[[7228]]]]]"
       ]
      },
      {
       "output_type": "stream",
       "stream": "stdout",
       "text": [
        "\n",
        "36727 tt0358691\n",
        " [[[[[7421]]]]]"
       ]
      },
      {
       "output_type": "stream",
       "stream": "stdout",
       "text": [
        "\n",
        "36678 tt0287978\n",
        " [[[[[7492]]]]]"
       ]
      },
      {
       "output_type": "stream",
       "stream": "stdout",
       "text": [
        "\n",
        "36351 tt0292506\n",
        " [[[[[7496]]]]]"
       ]
      },
      {
       "output_type": "stream",
       "stream": "stdout",
       "text": [
        "\n",
        "36718 tt0332639\n",
        " [[[[[7431]]]]]"
       ]
      },
      {
       "output_type": "stream",
       "stream": "stdout",
       "text": [
        "\n",
        "35175 tt0257360\n",
        " [[[[[7552]]]]]"
       ]
      },
      {
       "output_type": "stream",
       "stream": "stdout",
       "text": [
        "\n",
        "36405 tt0283530\n",
        " [[[[[7440]]]]]"
       ]
      },
      {
       "output_type": "stream",
       "stream": "stdout",
       "text": [
        "\n",
        "36341 tt0305711\n",
        " [[[[[5530]]]]]"
       ]
      },
      {
       "output_type": "stream",
       "stream": "stdout",
       "text": [
        "\n",
        "32680 tt0217505\n",
        " [[[[[7273]]]]]"
       ]
      },
      {
       "output_type": "stream",
       "stream": "stdout",
       "text": [
        "\n",
        "35626 tt0298203\n",
        " [[[[[7413]]]]]"
       ]
      },
      {
       "output_type": "stream",
       "stream": "stdout",
       "text": [
        "\n",
        "37488 tt0338564\n",
        " [[[[[7457]]]]]"
       ]
      },
      {
       "output_type": "stream",
       "stream": "stdout",
       "text": [
        "\n",
        "32663 tt0293984\n",
        " [[[[[6495]]]]]"
       ]
      },
      {
       "output_type": "stream",
       "stream": "stdout",
       "text": [
        "\n",
        "34520 -1\n",
        " [[[[[5466]]]]]"
       ]
      },
      {
       "output_type": "stream",
       "stream": "stdout",
       "text": [
        "\n",
        "35187 tt0253474\n",
        " [[[[[5476]]]]]"
       ]
      },
      {
       "output_type": "stream",
       "stream": "stdout",
       "text": [
        "\n",
        "35187 tt0254686\n",
        " [[[[[5552]]]]]"
       ]
      },
      {
       "output_type": "stream",
       "stream": "stdout",
       "text": [
        "\n",
        "34431 tt0299977\n",
        " [[[[[6848]]]]]"
       ]
      },
      {
       "output_type": "stream",
       "stream": "stdout",
       "text": [
        "\n",
        "33722 tt0258153\n",
        " [[[[[6324]]]]]"
       ]
      },
      {
       "output_type": "stream",
       "stream": "stdout",
       "text": [
        "\n",
        "31795 tt0167261\n",
        " [[[[[7138]]]]]"
       ]
      },
      {
       "output_type": "stream",
       "stream": "stdout",
       "text": [
        "\n",
        "12819 tt0196216\n",
        " [[[[[6071]]]]]"
       ]
      },
      {
       "output_type": "stream",
       "stream": "stdout",
       "text": [
        "\n",
        "33930 tt0295297\n",
        " [[[[[7226]]]]]"
       ]
      },
      {
       "output_type": "stream",
       "stream": "stdout",
       "text": [
        "\n",
        "36042 tt0297181\n",
        " [[[[[7301]]]]]"
       ]
      },
      {
       "output_type": "stream",
       "stream": "stdout",
       "text": [
        "\n",
        "34522 tt0264464\n",
        " [[[[[5952]]]]]"
       ]
      },
      {
       "output_type": "stream",
       "stream": "stdout",
       "text": [
        "\n",
        "34229 tt0342561\n",
        "~~~~~~~~~~~~~~~~~~~~"
       ]
      },
      {
       "output_type": "stream",
       "stream": "stdout",
       "text": [
        "\n",
        " [[[[[43238]]]]]"
       ]
      },
      {
       "output_type": "stream",
       "stream": "stdout",
       "text": [
        "\n",
        "127901 tt3331846\n",
        " [[[[[41323]]]]]"
       ]
      },
      {
       "output_type": "stream",
       "stream": "stdout",
       "text": [
        "\n",
        "119966 -1\n",
        " [[[[[43220]]]]]"
       ]
      },
      {
       "output_type": "stream",
       "stream": "stdout",
       "text": [
        "\n",
        "100676 tt1100089\n",
        " [[[[[38812]]]]]"
       ]
      },
      {
       "output_type": "stream",
       "stream": "stdout",
       "text": [
        "\n",
        "102875 -1\n",
        " [[[[[42800]]]]]"
       ]
      },
      {
       "output_type": "stream",
       "stream": "stdout",
       "text": [
        "\n",
        "130378 -1\n",
        " [[[[[42757]]]]]"
       ]
      },
      {
       "output_type": "stream",
       "stream": "stdout",
       "text": [
        "\n",
        "126853 tt3108158\n",
        " [[[[[40413]]]]]"
       ]
      },
      {
       "output_type": "stream",
       "stream": "stdout",
       "text": [
        "\n",
        "100097 tt2409302\n",
        " [[[[[41906]]]]]"
       ]
      },
      {
       "output_type": "stream",
       "stream": "stdout",
       "text": [
        "\n",
        "120067 -1\n",
        " [[[[[42578]]]]]"
       ]
      },
      {
       "output_type": "stream",
       "stream": "stdout",
       "text": [
        "\n",
        "117061 tt4120598\n",
        " [[[[[42744]]]]]"
       ]
      },
      {
       "output_type": "stream",
       "stream": "stdout",
       "text": [
        "\n",
        "113303 tt4023856\n",
        " [[[[[42338]]]]]"
       ]
      },
      {
       "output_type": "stream",
       "stream": "stdout",
       "text": [
        "\n",
        "118348 tt1065073\n",
        " [[[[[40500]]]]]"
       ]
      },
      {
       "output_type": "stream",
       "stream": "stdout",
       "text": [
        "\n",
        "113342 tt3305060\n",
        " [[[[[40829]]]]]"
       ]
      },
      {
       "output_type": "stream",
       "stream": "stdout",
       "text": [
        "\n",
        "115230 tt3134060\n",
        " [[[[[41424]]]]]"
       ]
      },
      {
       "output_type": "stream",
       "stream": "stdout",
       "text": [
        "\n",
        "119565 tt4230570\n",
        " [[[[[42483]]]]]"
       ]
      },
      {
       "output_type": "stream",
       "stream": "stdout",
       "text": [
        "\n",
        "105015 tt1790864\n",
        " [[[[[41183]]]]]"
       ]
      },
      {
       "output_type": "stream",
       "stream": "stdout",
       "text": [
        "\n",
        "120042 tt3506934\n",
        " [[[[[41620]]]]]"
       ]
      },
      {
       "output_type": "stream",
       "stream": "stdout",
       "text": [
        "\n",
        "115503 tt1430612\n",
        " [[[[[42274]]]]]"
       ]
      },
      {
       "output_type": "stream",
       "stream": "stdout",
       "text": [
        "\n",
        "118921 tt2975578\n",
        " [[[[[41362]]]]]"
       ]
      },
      {
       "output_type": "stream",
       "stream": "stdout",
       "text": [
        "\n",
        "93931 tt1291150\n",
        " [[[[[40881]]]]]"
       ]
      },
      {
       "output_type": "stream",
       "stream": "stdout",
       "text": [
        "\n",
        "103797 tt3587834\n",
        " [[[[[41923]]]]]"
       ]
      },
      {
       "output_type": "stream",
       "stream": "stdout",
       "text": [
        "\n",
        "97857 tt2015381\n",
        " [[[[[39420]]]]]"
       ]
      },
      {
       "output_type": "stream",
       "stream": "stdout",
       "text": [
        "\n",
        "109753 tt3303728\n",
        " [[[[[39879]]]]]"
       ]
      },
      {
       "output_type": "stream",
       "stream": "stdout",
       "text": [
        "\n",
        "76020 tt1646971\n",
        " [[[[[37057]]]]]"
       ]
      },
      {
       "output_type": "stream",
       "stream": "stdout",
       "text": [
        "\n",
        "92035 tt2424678\n",
        " [[[[[39585]]]]]"
       ]
      },
      {
       "output_type": "stream",
       "stream": "stdout",
       "text": [
        "\n",
        "102817 tt3485166\n",
        " [[[[[38149]]]]]"
       ]
      },
      {
       "output_type": "stream",
       "stream": "stdout",
       "text": [
        "\n",
        "99769 tt1796652\n",
        " [[[[[39921]]]]]"
       ]
      },
      {
       "output_type": "stream",
       "stream": "stdout",
       "text": [
        "\n",
        "93756 tt3541262\n",
        " [[[[[38016]]]]]"
       ]
      },
      {
       "output_type": "stream",
       "stream": "stdout",
       "text": [
        "\n",
        "99752 tt2972482\n",
        " [[[[[38643]]]]]"
       ]
      },
      {
       "output_type": "stream",
       "stream": "stdout",
       "text": [
        "\n",
        "106559 -1\n",
        " [[[[[40173]]]]]"
       ]
      },
      {
       "output_type": "stream",
       "stream": "stdout",
       "text": [
        "\n",
        "107373 tt3419894\n",
        " [[[[[41677]]]]]"
       ]
      },
      {
       "output_type": "stream",
       "stream": "stdout",
       "text": [
        "\n",
        "119457 tt2707858\n",
        " [[[[[40729]]]]]"
       ]
      },
      {
       "output_type": "stream",
       "stream": "stdout",
       "text": [
        "\n",
        "57508 tt3957986\n",
        " [[[[[41177]]]]]"
       ]
      },
      {
       "output_type": "stream",
       "stream": "stdout",
       "text": [
        "\n",
        "100691 tt2109248\n",
        " [[[[[40257]]]]]"
       ]
      },
      {
       "output_type": "stream",
       "stream": "stdout",
       "text": [
        "\n",
        "113868 tt4080168\n",
        " [[[[[41532]]]]]"
       ]
      },
      {
       "output_type": "stream",
       "stream": "stdout",
       "text": [
        "\n",
        "98446 tt1937390\n",
        " [[[[[41485]]]]]"
       ]
      },
      {
       "output_type": "stream",
       "stream": "stdout",
       "text": [
        "\n",
        "123377 tt3243664\n",
        " [[[[[38950]]]]]"
       ]
      },
      {
       "output_type": "stream",
       "stream": "stdout",
       "text": [
        "\n",
        "107961 tt3697566\n",
        " [[[[[40185]]]]]"
       ]
      },
      {
       "output_type": "stream",
       "stream": "stdout",
       "text": [
        "\n",
        "113361 tt3675906\n",
        " [[[[[40337]]]]]"
       ]
      },
      {
       "output_type": "stream",
       "stream": "stdout",
       "text": [
        "\n",
        "113353 tt3303730\n",
        " [[[[[37120]]]]]"
       ]
      },
      {
       "output_type": "stream",
       "stream": "stdout",
       "text": [
        "\n",
        "96910 tt3230608\n",
        " [[[[[38279]]]]]"
       ]
      },
      {
       "output_type": "stream",
       "stream": "stdout",
       "text": [
        "\n",
        "94187 tt1872181\n",
        " [[[[[41182]]]]]"
       ]
      },
      {
       "output_type": "stream",
       "stream": "stdout",
       "text": [
        "\n",
        "97612 tt2278388\n",
        " [[[[[38597]]]]]"
       ]
      },
      {
       "output_type": "stream",
       "stream": "stdout",
       "text": [
        "\n",
        "106522 tt3837154\n",
        " [[[[[41136]]]]]"
       ]
      },
      {
       "output_type": "stream",
       "stream": "stdout",
       "text": [
        "\n",
        "94186 tt3520318\n",
        " [[[[[40125]]]]]"
       ]
      },
      {
       "output_type": "stream",
       "stream": "stdout",
       "text": [
        "\n",
        "111100 tt3118758\n",
        " [[[[[41056]]]]]"
       ]
      },
      {
       "output_type": "stream",
       "stream": "stdout",
       "text": [
        "\n",
        "101961 tt2177771\n",
        " [[[[[40667]]]]]"
       ]
      },
      {
       "output_type": "stream",
       "stream": "stdout",
       "text": [
        "\n",
        "100819 -1\n",
        " [[[[[38793]]]]]"
       ]
      },
      {
       "output_type": "stream",
       "stream": "stdout",
       "text": [
        "\n",
        "103357 -1\n",
        " [[[[[38067]]]]]"
       ]
      },
      {
       "output_type": "stream",
       "stream": "stdout",
       "text": [
        "\n",
        "97802 tt2091473\n",
        " [[[[[39222]]]]]"
       ]
      },
      {
       "output_type": "stream",
       "stream": "stdout",
       "text": [
        "\n",
        "118921 tt2184339\n",
        " [[[[[40302]]]]]"
       ]
      },
      {
       "output_type": "stream",
       "stream": "stdout",
       "text": [
        "\n",
        "115243 -1\n",
        " [[[[[39899]]]]]"
       ]
      },
      {
       "output_type": "stream",
       "stream": "stdout",
       "text": [
        "\n",
        "111069 tt3205064\n",
        " [[[[[37581]]]]]"
       ]
      },
      {
       "output_type": "stream",
       "stream": "stdout",
       "text": [
        "\n",
        "99391 tt2417550\n",
        " [[[[[30859]]]]]"
       ]
      },
      {
       "output_type": "stream",
       "stream": "stdout",
       "text": [
        "\n",
        "49501 tt1462900\n",
        " [[[[[28059]]]]]"
       ]
      },
      {
       "output_type": "stream",
       "stream": "stdout",
       "text": [
        "\n",
        "72522 -1\n",
        " [[[[[36784]]]]]"
       ]
      },
      {
       "output_type": "stream",
       "stream": "stdout",
       "text": [
        "\n",
        "93737 tt1867101\n",
        " [[[[[39312]]]]]"
       ]
      },
      {
       "output_type": "stream",
       "stream": "stdout",
       "text": [
        "\n",
        "90699 tt3302788\n",
        " [[[[[35372]]]]]"
       ]
      },
      {
       "output_type": "stream",
       "stream": "stdout",
       "text": [
        "\n",
        "92111 -1\n",
        " [[[[[39348]]]]]"
       ]
      },
      {
       "output_type": "stream",
       "stream": "stdout",
       "text": [
        "\n",
        "91074 tt2053463\n",
        " [[[[[37592]]]]]"
       ]
      },
      {
       "output_type": "stream",
       "stream": "stdout",
       "text": [
        "\n",
        "95571 tt2741624\n",
        " [[[[[38694]]]]]"
       ]
      },
      {
       "output_type": "stream",
       "stream": "stdout",
       "text": [
        "\n",
        "95877 tt2334879\n",
        " [[[[[30281]]]]]"
       ]
      },
      {
       "output_type": "stream",
       "stream": "stdout",
       "text": [
        "\n",
        "78673 tt1533818\n",
        " [[[[[39089]]]]]"
       ]
      },
      {
       "output_type": "stream",
       "stream": "stdout",
       "text": [
        "\n",
        "96917 tt2973516\n",
        " [[[[[39115]]]]]"
       ]
      },
      {
       "output_type": "stream",
       "stream": "stdout",
       "text": [
        "\n",
        "91052 tt1805492\n",
        " [[[[[37519]]]]]"
       ]
      },
      {
       "output_type": "stream",
       "stream": "stdout",
       "text": [
        "\n",
        "99314 -1\n",
        " [[[[[38056]]]]]"
       ]
      },
      {
       "output_type": "stream",
       "stream": "stdout",
       "text": [
        "\n",
        "77017 tt2969484\n",
        " [[[[[33269]]]]]"
       ]
      },
      {
       "output_type": "stream",
       "stream": "stdout",
       "text": [
        "\n",
        "126382 tt1517260\n",
        " [[[[[37297]]]]]"
       ]
      },
      {
       "output_type": "stream",
       "stream": "stdout",
       "text": [
        "\n",
        "98952 tt2704282\n",
        " [[[[[37354]]]]]"
       ]
      },
      {
       "output_type": "stream",
       "stream": "stdout",
       "text": [
        "\n",
        "80465 tt1682180\n",
        " [[[[[37593]]]]]"
       ]
      },
      {
       "output_type": "stream",
       "stream": "stdout",
       "text": [
        "\n",
        "96985 tt2556228\n",
        " [[[[[34601]]]]]"
       ]
      },
      {
       "output_type": "stream",
       "stream": "stdout",
       "text": [
        "\n",
        "91031 tt2625030\n",
        " [[[[[37526]]]]]"
       ]
      },
      {
       "output_type": "stream",
       "stream": "stdout",
       "text": [
        "\n",
        "93035 tt2934568\n",
        " [[[[[36814]]]]]"
       ]
      },
      {
       "output_type": "stream",
       "stream": "stdout",
       "text": [
        "\n",
        "90537 tt1748122\n",
        " [[[[[37567]]]]]"
       ]
      },
      {
       "output_type": "stream",
       "stream": "stdout",
       "text": [
        "\n",
        "94895 tt3632902\n",
        " [[[[[24389]]]]]"
       ]
      },
      {
       "output_type": "stream",
       "stream": "stdout",
       "text": [
        "\n",
        "47384 tt2551894\n",
        " [[[[[37863]]]]]"
       ]
      },
      {
       "output_type": "stream",
       "stream": "stdout",
       "text": [
        "\n",
        "70276 -1\n",
        " [[[[[34449]]]]]"
       ]
      },
      {
       "output_type": "stream",
       "stream": "stdout",
       "text": [
        "\n",
        "89867 tt2292676\n",
        " [[[[[34257]]]]]"
       ]
      },
      {
       "output_type": "stream",
       "stream": "stdout",
       "text": [
        "\n",
        "88253 tt2315152\n",
        " [[[[[34301]]]]]"
       ]
      },
      {
       "output_type": "stream",
       "stream": "stdout",
       "text": [
        "\n",
        "85659 tt2371486\n",
        ","
       ]
      },
      {
       "output_type": "stream",
       "stream": "stdout",
       "text": [
        "  [[[[[37229]]]]]\n",
        "85036 tt1772925\n",
        " [[[[[35294]]]]]"
       ]
      },
      {
       "output_type": "stream",
       "stream": "stdout",
       "text": [
        "\n",
        "88226 tt3341438\n",
        " [[[[[31240]]]]]"
       ]
      },
      {
       "output_type": "stream",
       "stream": "stdout",
       "text": [
        "\n",
        "72560 tt2253742\n",
        ","
       ]
      },
      {
       "output_type": "stream",
       "stream": "stdout",
       "text": [
        "  [[[[[36867]]]]]\n",
        "104494 tt2961768\n",
        " [[[[[32189]]]]]"
       ]
      },
      {
       "output_type": "stream",
       "stream": "stdout",
       "text": [
        "\n",
        "92116 tt2164058\n",
        " [[[[[34933]]]]]"
       ]
      },
      {
       "output_type": "stream",
       "stream": "stdout",
       "text": [
        "\n",
        "86843 tt1242460\n",
        " [[[[[30727]]]]]"
       ]
      },
      {
       "output_type": "stream",
       "stream": "stdout",
       "text": [
        "\n",
        "78726 tt2330866\n",
        ","
       ]
      },
      {
       "output_type": "stream",
       "stream": "stdout",
       "text": [
        "  [[[[[33963]]]]]\n",
        "89761 -1\n",
        " [[[[[34632]]]]]"
       ]
      },
      {
       "output_type": "stream",
       "stream": "stdout",
       "text": [
        "\n",
        "90674 tt2658278\n",
        " [[[[[34631]]]]]"
       ]
      },
      {
       "output_type": "stream",
       "stream": "stdout",
       "text": [
        "\n",
        "74954 tt2570292\n",
        " [[[[[34619]]]]]"
       ]
      },
      {
       "output_type": "stream",
       "stream": "stdout",
       "text": [
        "\n",
        "86381 tt1277953\n",
        ","
       ]
      },
      {
       "output_type": "stream",
       "stream": "stdout",
       "text": [
        "  [[[[[33696]]]]]\n",
        "88252 tt2182095\n",
        ","
       ]
      },
      {
       "output_type": "stream",
       "stream": "stdout",
       "text": [
        " , "
       ]
      },
      {
       "output_type": "stream",
       "stream": "stdout",
       "text": [
        " [[[[[33843]]]]]\n",
        "93635 tt1993428\n",
        ","
       ]
      },
      {
       "output_type": "stream",
       "stream": "stdout",
       "text": [
        " , "
       ]
      },
      {
       "output_type": "stream",
       "stream": "stdout",
       "text": [
        " [[[[[35048]]]]]\n",
        "88489 tt2365847\n",
        ","
       ]
      },
      {
       "output_type": "stream",
       "stream": "stdout",
       "text": [
        " , "
       ]
      },
      {
       "output_type": "stream",
       "stream": "stdout",
       "text": [
        " [[[[[33268]]]]]\n",
        "79312 tt1392170\n",
        " [[[[[35197]]]]]"
       ]
      },
      {
       "output_type": "stream",
       "stream": "stdout",
       "text": [
        "\n",
        "92555 tt1789898\n",
        " [[[[[26996]]]]]"
       ]
      },
      {
       "output_type": "stream",
       "stream": "stdout",
       "text": [
        "\n",
        "52841 -1\n",
        " [[[[[29316]]]]]"
       ]
      },
      {
       "output_type": "stream",
       "stream": "stdout",
       "text": [
        "\n",
        "77855 -1\n",
        " [[[[[33924]]]]]"
       ]
      },
      {
       "output_type": "stream",
       "stream": "stdout",
       "text": [
        "\n",
        "86388 tt2109208\n",
        " [[[[[34500]]]]]"
       ]
      },
      {
       "output_type": "stream",
       "stream": "stdout",
       "text": [
        "\n",
        "78388 tt1599348\n",
        " [[[[[30691]]]]]"
       ]
      },
      {
       "output_type": "stream",
       "stream": "stdout",
       "text": [
        "\n",
        "79559 tt1568338\n",
        " [[[[[34075]]]]]"
       ]
      },
      {
       "output_type": "stream",
       "stream": "stdout",
       "text": [
        "\n",
        "76461 tt1007029\n",
        " [[[[[34539]]]]]"
       ]
      },
      {
       "output_type": "stream",
       "stream": "stdout",
       "text": [
        "\n",
        "373 -1\n",
        ","
       ]
      },
      {
       "output_type": "stream",
       "stream": "stdout",
       "text": [
        " , "
       ]
      },
      {
       "output_type": "stream",
       "stream": "stdout",
       "text": [
        " [[[[[31053]]]]]\n",
        "83268 tt2181885\n",
        " [[[[[33451]]]]]"
       ]
      },
      {
       "output_type": "stream",
       "stream": "stdout",
       "text": [
        "\n",
        "88704 tt2086881\n",
        " [[[[[32077]]]]]"
       ]
      },
      {
       "output_type": "stream",
       "stream": "stdout",
       "text": [
        "\n",
        "84899 tt2187203\n",
        ","
       ]
      },
      {
       "output_type": "stream",
       "stream": "stdout",
       "text": [
        "  [[[[[34186]]]]]\n",
        "90670 -1\n",
        ","
       ]
      },
      {
       "output_type": "stream",
       "stream": "stdout",
       "text": [
        "  [[[[[33645]]]]]\n",
        "86311 -1\n",
        ","
       ]
      },
      {
       "output_type": "stream",
       "stream": "stdout",
       "text": [
        "  [[[[[31275]]]]]\n",
        "74027 tt2085883\n",
        " [[[[[31103]]]]]"
       ]
      },
      {
       "output_type": "stream",
       "stream": "stdout",
       "text": [
        "\n",
        "80866 tt2088012\n",
        " [[[[[29727]]]]]"
       ]
      },
      {
       "output_type": "stream",
       "stream": "stdout",
       "text": [
        "\n",
        "78245 -1\n",
        " [[[[[29022]]]]]"
       ]
      },
      {
       "output_type": "stream",
       "stream": "stdout",
       "text": [
        "\n",
        "83126 tt1687247\n",
        ","
       ]
      },
      {
       "output_type": "stream",
       "stream": "stdout",
       "text": [
        " , "
       ]
      },
      {
       "output_type": "stream",
       "stream": "stdout",
       "text": [
        " [[[[[28487]]]]]\n",
        "133381 -1\n",
        " [[[[[28342]]]]]"
       ]
      },
      {
       "output_type": "stream",
       "stream": "stdout",
       "text": [
        "\n",
        "74321 tt1110630\n",
        " [[[[[28841]]]]]"
       ]
      },
      {
       "output_type": "stream",
       "stream": "stdout",
       "text": [
        "\n",
        "87216 tt0472181\n",
        " [[[[[28839]]]]]"
       ]
      },
      {
       "output_type": "stream",
       "stream": "stdout",
       "text": [
        "\n",
        "75323 tt1571565\n",
        ","
       ]
      },
      {
       "output_type": "stream",
       "stream": "stdout",
       "text": [
        "  [[[[[28550]]]]]\n",
        "71449 tt1183276\n",
        " [[[[[31851]]]]]"
       ]
      },
      {
       "output_type": "stream",
       "stream": "stdout",
       "text": [
        "\n",
        "85114 tt2222596\n",
        ","
       ]
      },
      {
       "output_type": "stream",
       "stream": "stdout",
       "text": [
        "  [[[[[29431]]]]]\n",
        "92001 tt2022497\n",
        " [[[[[31699]]]]]"
       ]
      },
      {
       "output_type": "stream",
       "stream": "stdout",
       "text": [
        "\n",
        "84900 tt2066827\n",
        " [[[[[28376]]]]]"
       ]
      },
      {
       "output_type": "stream",
       "stream": "stdout",
       "text": [
        "\n",
        "74528 tt1984208\n",
        " [[[[[31930]]]]]"
       ]
      },
      {
       "output_type": "stream",
       "stream": "stdout",
       "text": [
        "\n",
        "85341 -1\n",
        " [[[[[29551]]]]]"
       ]
      },
      {
       "output_type": "stream",
       "stream": "stdout",
       "text": [
        "\n",
        "74146 -1\n",
        " [[[[[30815]]]]]"
       ]
      },
      {
       "output_type": "stream",
       "stream": "stdout",
       "text": [
        "\n",
        "73411 tt1302011\n",
        " [[[[[31655]]]]]"
       ]
      },
      {
       "output_type": "stream",
       "stream": "stdout",
       "text": [
        "\n",
        "84193 -1\n",
        " [[[[[31892]]]]]"
       ]
      },
      {
       "output_type": "stream",
       "stream": "stdout",
       "text": [
        "\n",
        "84190 tt2137408\n",
        " [[[[[30555]]]]]"
       ]
      },
      {
       "output_type": "stream",
       "stream": "stdout",
       "text": [
        "\n",
        "79762 -1\n",
        " [[[[[25360]]]]]"
       ]
      },
      {
       "output_type": "stream",
       "stream": "stdout",
       "text": [
        "\n",
        "74933 -1\n",
        " [[[[[25855]]]]]"
       ]
      },
      {
       "output_type": "stream",
       "stream": "stdout",
       "text": [
        "\n",
        "50575 tt2093193\n",
        " [[[[[29084]]]]]"
       ]
      },
      {
       "output_type": "stream",
       "stream": "stdout",
       "text": [
        "\n",
        "77919 tt1741669\n",
        " [[[[[28176]]]]]"
       ]
      },
      {
       "output_type": "stream",
       "stream": "stdout",
       "text": [
        "\n",
        "72301 tt2321666\n",
        " [[[[[29697]]]]]"
       ]
      },
      {
       "output_type": "stream",
       "stream": "stdout",
       "text": [
        "\n",
        "78417 tt1620975\n",
        " [[[[[29876]]]]]"
       ]
      },
      {
       "output_type": "stream",
       "stream": "stdout",
       "text": [
        "\n",
        "78973 tt1403144\n",
        " [[[[[30387]]]]]"
       ]
      },
      {
       "output_type": "stream",
       "stream": "stdout",
       "text": [
        "\n",
        "70543 tt1133993\n",
        " [[[[[30291]]]]]"
       ]
      },
      {
       "output_type": "stream",
       "stream": "stdout",
       "text": [
        "\n",
        "80470 -1\n",
        ","
       ]
      },
      {
       "output_type": "stream",
       "stream": "stdout",
       "text": [
        " , , "
       ]
      },
      {
       "output_type": "stream",
       "stream": "stdout",
       "text": [
        " [[[[[29706]]]]]\n",
        "92798 -1\n",
        " [[[[[28735]]]]]"
       ]
      },
      {
       "output_type": "stream",
       "stream": "stdout",
       "text": [
        "\n",
        "2078 tt1846675\n",
        " [[[[[29439]]]]]"
       ]
      },
      {
       "output_type": "stream",
       "stream": "stdout",
       "text": [
        "\n",
        "77157 tt2313534\n",
        " [[[[[28012]]]]]"
       ]
      },
      {
       "output_type": "stream",
       "stream": "stdout",
       "text": [
        "\n",
        "61115 tt1138442\n",
        " [[[[[27671]]]]]"
       ]
      },
      {
       "output_type": "stream",
       "stream": "stdout",
       "text": [
        "\n",
        "71215 tt1519637\n",
        " [[[[[28300]]]]]"
       ]
      },
      {
       "output_type": "stream",
       "stream": "stdout",
       "text": [
        "\n",
        "87575 tt1846803\n",
        ","
       ]
      },
      {
       "output_type": "stream",
       "stream": "stdout",
       "text": [
        "  [[[[[29365]]]]]\n",
        "75714 tt1146320\n",
        " [[[[[29127]]]]]"
       ]
      },
      {
       "output_type": "stream",
       "stream": "stdout",
       "text": [
        "\n",
        "76989 -1\n",
        ","
       ]
      },
      {
       "output_type": "stream",
       "stream": "stdout",
       "text": [
        "  [[[[[26500]]]]]\n",
        "71374 -1\n",
        " [[[[[28737]]]]]"
       ]
      },
      {
       "output_type": "stream",
       "stream": "stdout",
       "text": [
        "\n",
        "70043 tt1350508\n",
        " [[[[[26554]]]]]"
       ]
      },
      {
       "output_type": "stream",
       "stream": "stdout",
       "text": [
        "\n",
        "66463 tt0435761\n",
        " [[[[[28193]]]]]"
       ]
      },
      {
       "output_type": "stream",
       "stream": "stdout",
       "text": [
        "\n",
        "71498 tt1814819\n",
        " [[[[[28707]]]]]"
       ]
      },
      {
       "output_type": "stream",
       "stream": "stdout",
       "text": [
        "\n",
        "75745 -1\n",
        " [[[[[27919]]]]]"
       ]
      },
      {
       "output_type": "stream",
       "stream": "stdout",
       "text": [
        "\n",
        "70667 tt1509286\n",
        " [[[[[28499]]]]]"
       ]
      },
      {
       "output_type": "stream",
       "stream": "stdout",
       "text": [
        "\n",
        "92093 tt1447972\n",
        ","
       ]
      },
      {
       "output_type": "stream",
       "stream": "stdout",
       "text": [
        "  [[[[[26119]]]]]\n",
        "50721 tt0844457\n",
        " [[[[[25047]]]]]"
       ]
      },
      {
       "output_type": "stream",
       "stream": "stdout",
       "text": [
        "\n",
        "49082 tt0454976\n",
        ","
       ]
      },
      {
       "output_type": "stream",
       "stream": "stdout",
       "text": [
        " , , "
       ]
      },
      {
       "output_type": "stream",
       "stream": "stdout",
       "text": [
        " [[[[[27207]]]]]\n",
        "54970 tt1452626\n",
        " [[[[[28401]]]]]"
       ]
      },
      {
       "output_type": "stream",
       "stream": "stdout",
       "text": [
        "\n",
        "73638 tt1814671\n",
        " [[[[[28409]]]]]"
       ]
      },
      {
       "output_type": "stream",
       "stream": "stdout",
       "text": [
        "\n",
        "73170 -1\n",
        " [[[[[27576]]]]]"
       ]
      },
      {
       "output_type": "stream",
       "stream": "stdout",
       "text": [
        "\n",
        "103381 tt1519659\n",
        ","
       ]
      },
      {
       "output_type": "stream",
       "stream": "stdout",
       "text": [
        " , "
       ]
      },
      {
       "output_type": "stream",
       "stream": "stdout",
       "text": [
        ", , "
       ]
      },
      {
       "output_type": "stream",
       "stream": "stdout",
       "text": [
        " [[[[[27987]]]]]\n",
        "71932 tt1655618\n",
        " [[[[[27229]]]]]"
       ]
      },
      {
       "output_type": "stream",
       "stream": "stdout",
       "text": [
        "\n",
        "97234 tt2424064\n",
        " [[[[[28129]]]]]"
       ]
      },
      {
       "output_type": "stream",
       "stream": "stdout",
       "text": [
        "\n",
        "72222 tt1216492\n",
        ","
       ]
      },
      {
       "output_type": "stream",
       "stream": "stdout",
       "text": [
        "  [[[[[28266]]]]]\n",
        "51574 tt1049405\n",
        " [[[[[20877]]]]]"
       ]
      },
      {
       "output_type": "stream",
       "stream": "stdout",
       "text": [
        "\n",
        "63740 tt0475937\n",
        ","
       ]
      },
      {
       "output_type": "stream",
       "stream": "stdout",
       "text": [
        "  [[[[[28270]]]]]\n",
        "54349 -1\n",
        ","
       ]
      },
      {
       "output_type": "stream",
       "stream": "stdout",
       "text": [
        "  [[[[[28141]]]]]\n",
        "70564 tt1205535\n",
        "~~~~~~~~~~~~~~~~~~~~"
       ]
      },
      {
       "output_type": "stream",
       "stream": "stdout",
       "text": [
        "\n",
        ", ~~~~~~~~~~~~~~~~~~~~\n",
        " [[[[[39547]]]]]"
       ]
      },
      {
       "output_type": "stream",
       "stream": "stdout",
       "text": [
        "\n",
        "109778 tt3697626\n",
        " [[[[[40253]]]]]"
       ]
      },
      {
       "output_type": "stream",
       "stream": "stdout",
       "text": [
        "\n",
        "113865 -1\n",
        ","
       ]
      },
      {
       "output_type": "stream",
       "stream": "stdout",
       "text": [
        "  [[[[[7598]]]]]\n",
        " [[[[[5937]]]]]"
       ]
      },
      {
       "output_type": "stream",
       "stream": "stdout",
       "text": [
        "\n",
        ", , , "
       ]
      },
      {
       "output_type": "stream",
       "stream": "stdout",
       "text": [
        ", "
       ]
      },
      {
       "output_type": "stream",
       "stream": "stdout",
       "text": [
        ", "
       ]
      },
      {
       "output_type": "stream",
       "stream": "stdout",
       "text": [
        " [[[[[5560]]]]]\n",
        "31479 tt0339824\n",
        ","
       ]
      },
      {
       "output_type": "stream",
       "stream": "stdout",
       "text": [
        "  [[[[[6981]]]]]\n",
        "36121 -1\n",
        " [[[[[5913]]]]]"
       ]
      },
      {
       "output_type": "stream",
       "stream": "stdout",
       "text": [
        "\n",
        "36397 tt0358528\n",
        " [[[[[7048]]]]]"
       ]
      },
      {
       "output_type": "stream",
       "stream": "stdout",
       "text": [
        "\n",
        "102862 tt0363211\n",
        ","
       ]
      },
      {
       "output_type": "stream",
       "stream": "stdout",
       "text": [
        " , "
       ]
      },
      {
       "output_type": "stream",
       "stream": "stdout",
       "text": [
        " [[[[[5558]]]]]\n",
        "33362 tt0352464\n",
        " [[[[[7367]]]]]"
       ]
      },
      {
       "output_type": "stream",
       "stream": "stdout",
       "text": [
        "\n",
        "36506 tt0303933\n",
        ","
       ]
      },
      {
       "output_type": "stream",
       "stream": "stdout",
       "text": [
        " , , , "
       ]
      },
      {
       "output_type": "stream",
       "stream": "stdout",
       "text": [
        ", "
       ]
      },
      {
       "output_type": "stream",
       "stream": "stdout",
       "text": [
        " [[[[[6908]]]]]\n",
        "35900 tt0349517\n",
        "~~~~~~~~~~~~~~~~~~~~"
       ]
      },
      {
       "output_type": "stream",
       "stream": "stdout",
       "text": [
        "\n",
        " [[[[[3169]]]]]"
       ]
      },
      {
       "output_type": "stream",
       "stream": "stdout",
       "text": [
        "\n",
        "23920 tt0115794\n",
        " [[[[[3515]]]]]"
       ]
      },
      {
       "output_type": "stream",
       "stream": "stdout",
       "text": [
        "\n",
        "24350 tt0120877\n",
        " [[[[[900]]]]]"
       ]
      },
      {
       "output_type": "stream",
       "stream": "stdout",
       "text": [
        "\n",
        "24014 tt0118749\n",
        " [[[[[3208]]]]]"
       ]
      },
      {
       "output_type": "stream",
       "stream": "stdout",
       "text": [
        "\n",
        "24108 tt0155157\n",
        " [[[[[3021]]]]]"
       ]
      },
      {
       "output_type": "stream",
       "stream": "stdout",
       "text": [
        "\n",
        "24101 tt0120789\n",
        " [[[[[3167]]]]]"
       ]
      },
      {
       "output_type": "stream",
       "stream": "stdout",
       "text": [
        "\n",
        "57698 tt0082259\n",
        " [[[[[1751]]]]]"
       ]
      },
      {
       "output_type": "stream",
       "stream": "stdout",
       "text": [
        "\n",
        "25786 tt0139615\n",
        " [[[[[3588]]]]]"
       ]
      },
      {
       "output_type": "stream",
       "stream": "stdout",
       "text": [
        "\n",
        "25823 tt0117808\n",
        ","
       ]
      },
      {
       "output_type": "stream",
       "stream": "stdout",
       "text": [
        "  [[[[[3365]]]]]\n",
        " [[[[[3250]]]]]"
       ]
      },
      {
       "output_type": "stream",
       "stream": "stdout",
       "text": [
        "\n",
        "24452 tt0133093\n",
        " [[[[[378]]]]]"
       ]
      },
      {
       "output_type": "stream",
       "stream": "stdout",
       "text": [
        "\n",
        ", "
       ]
      },
      {
       "output_type": "stream",
       "stream": "stdout",
       "text": [
        " [[[[[3448]]]]]\n",
        "24926 tt0120735\n",
        " [[[[[1010]]]]]"
       ]
      },
      {
       "output_type": "stream",
       "stream": "stdout",
       "text": [
        "\n",
        "19032 tt0112445\n",
        ","
       ]
      },
      {
       "output_type": "stream",
       "stream": "stdout",
       "text": [
        "  [[[[[2375]]]]]\n",
        "24660 tt0272425\n",
        " [[[[[2541]]]]]"
       ]
      },
      {
       "output_type": "stream",
       "stream": "stdout",
       "text": [
        "\n",
        "93312 tt0226663\n",
        " [[[[[2043]]]]]"
       ]
      },
      {
       "output_type": "stream",
       "stream": "stdout",
       "text": [
        "\n",
        "25789 tt0293844\n",
        " [[[[[2030]]]]]"
       ]
      },
      {
       "output_type": "stream",
       "stream": "stdout",
       "text": [
        "\n",
        "25320 -1\n",
        ","
       ]
      },
      {
       "output_type": "stream",
       "stream": "stdout",
       "text": [
        "  [[[[[1824]]]]]\n",
        "24352 tt0118804\n",
        ","
       ]
      },
      {
       "output_type": "stream",
       "stream": "stdout",
       "text": [
        "  [[[[[3452]]]]]\n",
        "35162 tt0145660\n",
        " [[[[[3557]]]]]"
       ]
      },
      {
       "output_type": "stream",
       "stream": "stdout",
       "text": [
        "\n",
        "24656 tt0152015\n",
        " [[[[[3546]]]]]"
       ]
      },
      {
       "output_type": "stream",
       "stream": "stdout",
       "text": [
        "\n",
        "24594 tt0120907\n",
        ","
       ]
      },
      {
       "output_type": "stream",
       "stream": "stdout",
       "text": [
        " , "
       ]
      },
      {
       "output_type": "stream",
       "stream": "stdout",
       "text": [
        ", , , "
       ]
      },
      {
       "output_type": "stream",
       "stream": "stdout",
       "text": [
        " [[[[[3977]]]]]\n",
        "18935 tt0120399\n",
        ","
       ]
      },
      {
       "output_type": "stream",
       "stream": "stdout",
       "text": [
        " , , "
       ]
      },
      {
       "output_type": "stream",
       "stream": "stdout",
       "text": [
        " [[[[[3939]]]]]\n",
        "26351 tt0293300\n",
        ","
       ]
      },
      {
       "output_type": "stream",
       "stream": "stdout",
       "text": [
        " , , , "
       ]
      },
      {
       "output_type": "stream",
       "stream": "stdout",
       "text": [
        " [[[[[2676]]]]]\n",
        "19031 tt0113703\n",
        " [[[[[2212]]]]]"
       ]
      },
      {
       "output_type": "stream",
       "stream": "stdout",
       "text": [
        "\n",
        "31277 tt0116367\n",
        ","
       ]
      },
      {
       "output_type": "stream",
       "stream": "stdout",
       "text": [
        " , , , , , , , , , , , , "
       ]
      },
      {
       "output_type": "stream",
       "stream": "stdout",
       "text": [
        " [[[[[2633]]]]]\n",
        "19469 tt0120768\n",
        " [[[[[2622]]]]]"
       ]
      },
      {
       "output_type": "stream",
       "stream": "stdout",
       "text": [
        "\n",
        "39283 tt0120587\n",
        ","
       ]
      },
      {
       "output_type": "stream",
       "stream": "stdout",
       "text": [
        "  [[[[[4073]]]]]\n",
        "63155 tt0171804\n",
        ","
       ]
      },
      {
       "output_type": "stream",
       "stream": "stdout",
       "text": [
        " , , , , , , "
       ]
      },
      {
       "output_type": "stream",
       "stream": "stdout",
       "text": [
        " [[[[[3962]]]]]\n",
        "13332 tt0117575\n",
        " [[[[[2456]]]]]"
       ]
      },
      {
       "output_type": "stream",
       "stream": "stdout",
       "text": [
        "\n",
        "66617 tt0119174\n",
        " [[[[[4655]]]]]"
       ]
      },
      {
       "output_type": "stream",
       "stream": "stdout",
       "text": [
        "\n",
        "25419 tt0162677\n",
        ","
       ]
      },
      {
       "output_type": "stream",
       "stream": "stdout",
       "text": [
        " , , "
       ]
      },
      {
       "output_type": "stream",
       "stream": "stdout",
       "text": [
        " [[[[[2984]]]]]\n",
        "31834 tt0120706\n",
        ","
       ]
      },
      {
       "output_type": "stream",
       "stream": "stdout",
       "text": [
        " , , , "
       ]
      },
      {
       "output_type": "stream",
       "stream": "stdout",
       "text": [
        " [[[[[2906]]]]]\n",
        "25578 tt0223530\n",
        " [[[[[202]]]]]"
       ]
      },
      {
       "output_type": "stream",
       "stream": "stdout",
       "text": [
        "\n",
        "102825 tt0118845\n",
        ","
       ]
      },
      {
       "output_type": "stream",
       "stream": "stdout",
       "text": [
        " , , , ~~~~~~~~~~~~~~~~~~~~\n",
        " [[[[[30380]]]]]"
       ]
      },
      {
       "output_type": "stream",
       "stream": "stdout",
       "text": [
        "\n",
        "79398 -1\n",
        " [[[[[31552]]]]]"
       ]
      },
      {
       "output_type": "stream",
       "stream": "stdout",
       "text": [
        "\n",
        "84148 tt4227402\n",
        " [[[[[28871]]]]]"
       ]
      },
      {
       "output_type": "stream",
       "stream": "stdout",
       "text": [
        "\n",
        "74904 -1\n",
        ","
       ]
      },
      {
       "output_type": "stream",
       "stream": "stdout",
       "text": [
        "  [[[[[29020]]]]]\n",
        "76135 tt2332208\n",
        " [[[[[30022]]]]]"
       ]
      },
      {
       "output_type": "stream",
       "stream": "stdout",
       "text": [
        "\n",
        "79180 tt1454910\n",
        " [[[[[31052]]]]]"
       ]
      },
      {
       "output_type": "stream",
       "stream": "stdout",
       "text": [
        "\n",
        "73009 tt0151685\n",
        " [[[[[28659]]]]]"
       ]
      },
      {
       "output_type": "stream",
       "stream": "stdout",
       "text": [
        "\n",
        "75508 tt1645089\n",
        " [[[[[29047]]]]]"
       ]
      },
      {
       "output_type": "stream",
       "stream": "stdout",
       "text": [
        "\n",
        "75559 tt1270842\n",
        " [[[[[25997]]]]]"
       ]
      },
      {
       "output_type": "stream",
       "stream": "stdout",
       "text": [
        "\n",
        "53040 tt1446204\n",
        " [[[[[27276]]]]]"
       ]
      },
      {
       "output_type": "stream",
       "stream": "stdout",
       "text": [
        "\n",
        "54265 tt1226681\n",
        ","
       ]
      },
      {
       "output_type": "stream",
       "stream": "stdout",
       "text": [
        "  [[[[[30992]]]]]\n",
        "76451 tt1486185\n",
        " [[[[[29701]]]]]"
       ]
      },
      {
       "output_type": "stream",
       "stream": "stdout",
       "text": [
        "\n",
        "29953 tt2408288\n",
        " [[[[[31042]]]]]"
       ]
      },
      {
       "output_type": "stream",
       "stream": "stdout",
       "text": [
        "\n",
        "74516 tt1731229\n",
        " [[[[[29116]]]]]"
       ]
      },
      {
       "output_type": "stream",
       "stream": "stdout",
       "text": [
        "\n",
        "75391 tt3030838\n",
        " [[[[[28167]]]]]"
       ]
      },
      {
       "output_type": "stream",
       "stream": "stdout",
       "text": [
        "\n",
        "73549 tt1794784\n",
        " [[[[[30204]]]]]"
       ]
      },
      {
       "output_type": "stream",
       "stream": "stdout",
       "text": [
        "\n",
        "75474 tt1403865\n",
        ","
       ]
      },
      {
       "output_type": "stream",
       "stream": "stdout",
       "text": [
        "  [[[[[28279]]]]]\n",
        "74453 tt2365937\n",
        ","
       ]
      },
      {
       "output_type": "stream",
       "stream": "stdout",
       "text": [
        "  [[[[[28756]]]]]\n",
        "75470 tt0398286\n",
        " [[[[[30297]]]]]"
       ]
      },
      {
       "output_type": "stream",
       "stream": "stdout",
       "text": [
        "\n",
        "75475 tt1320261\n",
        " [[[[[25003]]]]]"
       ]
      },
      {
       "output_type": "stream",
       "stream": "stdout",
       "text": [
        "\n",
        "69986 tt1230385\n",
        " [[[[[20958]]]]]"
       ]
      },
      {
       "output_type": "stream",
       "stream": "stdout",
       "text": [
        "\n",
        "64215 tt0460777\n",
        " [[[[[28208]]]]]"
       ]
      },
      {
       "output_type": "stream",
       "stream": "stdout",
       "text": [
        "\n",
        "73134 tt1242447\n",
        ","
       ]
      },
      {
       "output_type": "stream",
       "stream": "stdout",
       "text": [
        "  [[[[[29898]]]]]\n",
        "78826 -1\n",
        " [[[[[28226]]]]]"
       ]
      },
      {
       "output_type": "stream",
       "stream": "stdout",
       "text": [
        "\n",
        "75237 tt1462667\n",
        " [[[[[28890]]]]]"
       ]
      },
      {
       "output_type": "stream",
       "stream": "stdout",
       "text": [
        "\n",
        "78166 tt1587118\n",
        ","
       ]
      },
      {
       "output_type": "stream",
       "stream": "stdout",
       "text": [
        "  [[[[[28392]]]]]\n",
        "74629 -1\n",
        " [[[[[29362]]]]]"
       ]
      },
      {
       "output_type": "stream",
       "stream": "stdout",
       "text": [
        "\n",
        "73787 tt1536044\n",
        ","
       ]
      },
      {
       "output_type": "stream",
       "stream": "stdout",
       "text": [
        "  [[[[[29378]]]]]\n",
        "52778 tt3341952\n",
        " [[[[[28984]]]]]"
       ]
      },
      {
       "output_type": "stream",
       "stream": "stdout",
       "text": [
        "\n",
        "73284 tt1287468\n",
        ","
       ]
      },
      {
       "output_type": "stream",
       "stream": "stdout",
       "text": [
        "  [[[[[28985]]]]]\n",
        "52311 tt0363780\n",
        ","
       ]
      },
      {
       "output_type": "stream",
       "stream": "stdout",
       "text": [
        " , , , "
       ]
      },
      {
       "output_type": "stream",
       "stream": "stdout",
       "text": [
        " [[[[[28153]]]]]\n",
        "49945 tt1139328\n",
        ","
       ]
      },
      {
       "output_type": "stream",
       "stream": "stdout",
       "text": [
        "  [[[[[26330]]]]]\n",
        "129298 tt1314652\n",
        " [[[[[27774]]]]]"
       ]
      },
      {
       "output_type": "stream",
       "stream": "stdout",
       "text": [
        "\n",
        "53860 tt1355623\n",
        " [[[[[27888]]]]]"
       ]
      },
      {
       "output_type": "stream",
       "stream": "stdout",
       "text": [
        "\n",
        "53969 tt1352852\n",
        ", , "
       ]
      },
      {
       "output_type": "stream",
       "stream": "stdout",
       "text": [
        " [[[[[27140]]]]]\n",
        "52548 tt1535491\n",
        ","
       ]
      },
      {
       "output_type": "stream",
       "stream": "stdout",
       "text": [
        "  [[[[[27899]]]]]\n",
        "66437 tt0780521\n",
        ","
       ]
      },
      {
       "output_type": "stream",
       "stream": "stdout",
       "text": [
        " , "
       ]
      },
      {
       "output_type": "stream",
       "stream": "stdout",
       "text": [
        " [[[[[27325]]]]]\n",
        "54563 -1\n",
        ","
       ]
      },
      {
       "output_type": "stream",
       "stream": "stdout",
       "text": [
        " , "
       ]
      },
      {
       "output_type": "stream",
       "stream": "stdout",
       "text": [
        " [[[[[26566]]]]]\n",
        "51049 tt1287875\n",
        " [[[[[27200]]]]]"
       ]
      },
      {
       "output_type": "stream",
       "stream": "stdout",
       "text": [
        "\n",
        "53350 tt1142988\n",
        " [[[[[27315]]]]]"
       ]
      },
      {
       "output_type": "stream",
       "stream": "stdout",
       "text": [
        "\n",
        "70123 tt1186370\n",
        " [[[[[26065]]]]]"
       ]
      },
      {
       "output_type": "stream",
       "stream": "stdout",
       "text": [
        "\n",
        "50738 tt1143155\n",
        " [[[[[27296]]]]]"
       ]
      },
      {
       "output_type": "stream",
       "stream": "stdout",
       "text": [
        "\n",
        "54704 tt1148204\n",
        ","
       ]
      },
      {
       "output_type": "stream",
       "stream": "stdout",
       "text": [
        "  [[[[[26555]]]]]\n",
        "98438 tt1049413\n",
        ", "
       ]
      },
      {
       "output_type": "stream",
       "stream": "stdout",
       "text": [
        " [[[[[21483]]]]]\n",
        "62273 tt0292963\n",
        " [[[[[26016]]]]]"
       ]
      },
      {
       "output_type": "stream",
       "stream": "stdout",
       "text": [
        "\n",
        "99632 tt1432078\n",
        ","
       ]
      },
      {
       "output_type": "stream",
       "stream": "stdout",
       "text": [
        " , , , "
       ]
      },
      {
       "output_type": "stream",
       "stream": "stdout",
       "text": [
        " [[[[[26198]]]]]\n",
        "50869 tt1334549\n",
        " [[[[[24428]]]]]"
       ]
      },
      {
       "output_type": "stream",
       "stream": "stdout",
       "text": [
        "\n",
        "45976 tt1459998\n",
        " [[[[[26438]]]]]"
       ]
      },
      {
       "output_type": "stream",
       "stream": "stdout",
       "text": [
        "\n",
        "51806 -1\n",
        "~~~~~~~~~~~~~~~~~~~~"
       ]
      },
      {
       "output_type": "stream",
       "stream": "stdout",
       "text": [
        "\n",
        " [[[[[18322]]]]]"
       ]
      },
      {
       "output_type": "stream",
       "stream": "stdout",
       "text": [
        "\n",
        "44162 tt0468753\n",
        " [[[[[10127]]]]]"
       ]
      },
      {
       "output_type": "stream",
       "stream": "stdout",
       "text": [
        "\n",
        "121727 tt0423176\n",
        ","
       ]
      },
      {
       "output_type": "stream",
       "stream": "stdout",
       "text": [
        "  [[[[[19450]]]]]\n",
        "45871 tt0119723\n",
        " [[[[[18504]]]]]"
       ]
      },
      {
       "output_type": "stream",
       "stream": "stdout",
       "text": [
        "\n",
        "58088 tt0891577\n",
        " [[[[[20557]]]]]"
       ]
      },
      {
       "output_type": "stream",
       "stream": "stdout",
       "text": [
        "\n",
        "62857 tt0808527\n",
        " [[[[[18985]]]]]"
       ]
      },
      {
       "output_type": "stream",
       "stream": "stdout",
       "text": [
        "\n",
        "58663 tt0464022\n",
        " [[[[[12799]]]]]"
       ]
      },
      {
       "output_type": "stream",
       "stream": "stdout",
       "text": [
        "\n",
        "54411 tt0870967\n",
        " [[[[[18498]]]]]"
       ]
      },
      {
       "output_type": "stream",
       "stream": "stdout",
       "text": [
        "\n",
        "58273 tt0870969\n",
        " [[[[[18521]]]]]"
       ]
      },
      {
       "output_type": "stream",
       "stream": "stdout",
       "text": [
        "\n",
        "57598 tt0902964\n",
        " [[[[[19710]]]]]"
       ]
      },
      {
       "output_type": "stream",
       "stream": "stdout",
       "text": [
        "\n",
        "70276 tt0994911\n",
        " [[[[[18937]]]]]"
       ]
      },
      {
       "output_type": "stream",
       "stream": "stdout",
       "text": [
        "\n",
        "57987 tt0475276\n",
        " [[[[[18503]]]]]"
       ]
      },
      {
       "output_type": "stream",
       "stream": "stdout",
       "text": [
        "\n",
        "57805 tt0889064\n",
        " [[[[[18971]]]]]"
       ]
      },
      {
       "output_type": "stream",
       "stream": "stdout",
       "text": [
        "\n",
        "57335 tt0882824\n",
        " [[[[[18773]]]]]"
       ]
      },
      {
       "output_type": "stream",
       "stream": "stdout",
       "text": [
        "\n",
        "46314 tt0902250\n",
        " [[[[[18902]]]]]"
       ]
      },
      {
       "output_type": "stream",
       "stream": "stdout",
       "text": [
        "\n",
        "124025 tt0497986\n",
        " [[[[[9723]]]]]"
       ]
      },
      {
       "output_type": "stream",
       "stream": "stdout",
       "text": [
        "\n",
        "57950 tt0430357\n",
        " [[[[[19387]]]]]"
       ]
      },
      {
       "output_type": "stream",
       "stream": "stdout",
       "text": [
        "\n",
        "60510 tt0809535\n",
        ","
       ]
      },
      {
       "output_type": "stream",
       "stream": "stdout",
       "text": [
        " , "
       ]
      },
      {
       "output_type": "stream",
       "stream": "stdout",
       "text": [
        " [[[[[19908]]]]]\n",
        "47506 tt0870958\n",
        " [[[[[19558]]]]]"
       ]
      },
      {
       "output_type": "stream",
       "stream": "stdout",
       "text": [
        "\n",
        "56718 tt0436331\n",
        " [[[[[8212]]]]]"
       ]
      },
      {
       "output_type": "stream",
       "stream": "stdout",
       "text": [
        "\n",
        "38453 tt0379217\n",
        ","
       ]
      },
      {
       "output_type": "stream",
       "stream": "stdout",
       "text": [
        "  [[[[[19123]]]]]\n",
        " [[[[[9798]]]]]"
       ]
      },
      {
       "output_type": "stream",
       "stream": "stdout",
       "text": [
        "\n",
        "164944 tt0317219\n",
        ","
       ]
      },
      {
       "output_type": "stream",
       "stream": "stdout",
       "text": [
        "  [[[[[10053]]]]]\n",
        "69065 tt0826024\n",
        " [[[[[20010]]]]]"
       ]
      },
      {
       "output_type": "stream",
       "stream": "stdout",
       "text": [
        "\n",
        "100938 -1\n",
        " [[[[[19268]]]]]"
       ]
      },
      {
       "output_type": "stream",
       "stream": "stdout",
       "text": [
        "\n",
        "45684 tt0430097\n",
        ","
       ]
      },
      {
       "output_type": "stream",
       "stream": "stdout",
       "text": [
        "  [[[[[9570]]]]]\n",
        "40177 tt0348150\n",
        " [[[[[19190]]]]]"
       ]
      },
      {
       "output_type": "stream",
       "stream": "stdout",
       "text": [
        "\n",
        "47401 tt0425210\n",
        " [[[[[19060]]]]]"
       ]
      },
      {
       "output_type": "stream",
       "stream": "stdout",
       "text": [
        "\n",
        "58246 tt0349467\n",
        ","
       ]
      },
      {
       "output_type": "stream",
       "stream": "stdout",
       "text": [
        "  [[[[[18285]]]]]\n",
        "43114 tt0475974\n",
        " [[[[[12487]]]]]"
       ]
      },
      {
       "output_type": "stream",
       "stream": "stdout",
       "text": [
        "\n",
        "43568 tt0806124\n",
        ","
       ]
      },
      {
       "output_type": "stream",
       "stream": "stdout",
       "text": [
        "  [[[[[18627]]]]]\n",
        " [[[[[7131]]]]]"
       ]
      },
      {
       "output_type": "stream",
       "stream": "stdout",
       "text": [
        "\n",
        "36099 tt0304874\n",
        ","
       ]
      },
      {
       "output_type": "stream",
       "stream": "stdout",
       "text": [
        "  [[[[[12494]]]]]\n",
        "56083 tt0821463\n",
        ","
       ]
      },
      {
       "output_type": "stream",
       "stream": "stdout",
       "text": [
        "  [[[[[10041]]]]]\n",
        "42874 tt0411118\n",
        ","
       ]
      },
      {
       "output_type": "stream",
       "stream": "stdout",
       "text": [
        "  [[[[[18479]]]]]\n",
        "44039 tt0463903\n",
        " [[[[[12485]]]]]"
       ]
      },
      {
       "output_type": "stream",
       "stream": "stdout",
       "text": [
        "\n",
        "43681 tt0777837\n",
        " [[[[[18501]]]]]"
       ]
      },
      {
       "output_type": "stream",
       "stream": "stdout",
       "text": [
        "\n",
        "55677 -1\n",
        " [[[[[12612]]]]]"
       ]
      },
      {
       "output_type": "stream",
       "stream": "stdout",
       "text": [
        "\n",
        "43537 tt0816437\n",
        " [[[[[9903]]]]]"
       ]
      },
      {
       "output_type": "stream",
       "stream": "stdout",
       "text": [
        "\n",
        "39362 tt0345061\n",
        " [[[[[18487]]]]]"
       ]
      },
      {
       "output_type": "stream",
       "stream": "stdout",
       "text": [
        "\n",
        "42846 tt0438097\n",
        ","
       ]
      },
      {
       "output_type": "stream",
       "stream": "stdout",
       "text": [
        " , "
       ]
      },
      {
       "output_type": "stream",
       "stream": "stdout",
       "text": [
        " [[[[[15344]]]]]\n",
        "43507 tt0468795\n",
        " [[[[[14501]]]]]"
       ]
      },
      {
       "output_type": "stream",
       "stream": "stdout",
       "text": [
        "\n",
        "43204 tt0492479\n",
        " [[[[[9818]]]]]"
       ]
      },
      {
       "output_type": "stream",
       "stream": "stdout",
       "text": [
        "\n",
        "44097 tt0445760\n",
        ","
       ]
      },
      {
       "output_type": "stream",
       "stream": "stdout",
       "text": [
        "  [[[[[10351]]]]]\n",
        "40921 tt0373450\n",
        " [[[[[18391]]]]]"
       ]
      },
      {
       "output_type": "stream",
       "stream": "stdout",
       "text": [
        "\n",
        "55405 tt0788052\n",
        " [[[[[19089]]]]]"
       ]
      },
      {
       "output_type": "stream",
       "stream": "stdout",
       "text": [
        "\n",
        "38361 tt0353774\n",
        " [[[[[18076]]]]]"
       ]
      },
      {
       "output_type": "stream",
       "stream": "stdout",
       "text": [
        "\n",
        "125388 tt0414387\n",
        ","
       ]
      },
      {
       "output_type": "stream",
       "stream": "stdout",
       "text": [
        "  [[[[[16660]]]]]\n",
        "39524 tt0435434\n",
        " [[[[[17426]]]]]"
       ]
      },
      {
       "output_type": "stream",
       "stream": "stdout",
       "text": [
        "\n",
        "43513 tt0433383\n",
        " [[[[[14082]]]]]"
       ]
      },
      {
       "output_type": "stream",
       "stream": "stdout",
       "text": [
        "\n",
        "38921"
       ]
      },
      {
       "output_type": "stream",
       "stream": "stdout",
       "text": [
        " tt0439630\n",
        ","
       ]
      },
      {
       "output_type": "stream",
       "stream": "stdout",
       "text": [
        "  [[[[[18072]]]]]\n",
        "43522 tt0402894\n",
        " [[[[[10507]]]]]"
       ]
      },
      {
       "output_type": "stream",
       "stream": "stdout",
       "text": [
        "\n",
        "44043 tt0444778\n",
        ","
       ]
      },
      {
       "output_type": "stream",
       "stream": "stdout",
       "text": [
        " , "
       ]
      },
      {
       "output_type": "stream",
       "stream": "stdout",
       "text": [
        " [[[[[18616]]]]]\n",
        ", "
       ]
      },
      {
       "output_type": "stream",
       "stream": "stdout",
       "text": [
        " [[[[[18395]]]]]\n",
        "54254 tt0757931\n",
        " [[[[[18905]]]]]"
       ]
      },
      {
       "output_type": "stream",
       "stream": "stdout",
       "text": [
        "\n",
        "42462 tt0408345\n",
        " [[[[[18461]]]]]"
       ]
      },
      {
       "output_type": "stream",
       "stream": "stdout",
       "text": [
        "\n",
        "51705 tt0757210\n",
        ", "
       ]
      },
      {
       "output_type": "stream",
       "stream": "stdout",
       "text": [
        " [[[[[9181]]]]]\n",
        "40805 tt0453907\n",
        ","
       ]
      },
      {
       "output_type": "stream",
       "stream": "stdout",
       "text": [
        " , "
       ]
      },
      {
       "output_type": "stream",
       "stream": "stdout",
       "text": [
        " [[[[[8288]]]]]\n",
        "129290 -1\n",
        " [[[[[9927]]]]]"
       ]
      },
      {
       "output_type": "stream",
       "stream": "stdout",
       "text": [
        "\n",
        "40070 tt0778120\n",
        " [[[[[13120]]]]]"
       ]
      },
      {
       "output_type": "stream",
       "stream": "stdout",
       "text": [
        "\n",
        "43209 tt0408306\n",
        ","
       ]
      },
      {
       "output_type": "stream",
       "stream": "stdout",
       "text": [
        "  [[[[[16439]]]]]\n",
        "37558 tt0340377\n",
        " [[[[[18604]]]]]"
       ]
      },
      {
       "output_type": "stream",
       "stream": "stdout",
       "text": [
        "\n",
        " [[[[[8573]]]]]"
       ]
      },
      {
       "output_type": "stream",
       "stream": "stdout",
       "text": [
        "\n",
        "38449 -1\n",
        " [[[[[10375]]]]]"
       ]
      },
      {
       "output_type": "stream",
       "stream": "stdout",
       "text": [
        "\n",
        "42690 tt0492755\n",
        " [[[[[8823]]]]]"
       ]
      },
      {
       "output_type": "stream",
       "stream": "stdout",
       "text": [
        "\n",
        "38907 tt0338512\n",
        " [[[[[9620]]]]]"
       ]
      },
      {
       "output_type": "stream",
       "stream": "stdout",
       "text": [
        "\n",
        "43511 tt0388125\n",
        ","
       ]
      },
      {
       "output_type": "stream",
       "stream": "stdout",
       "text": [
        " , , "
       ]
      },
      {
       "output_type": "stream",
       "stream": "stdout",
       "text": [
        " [[[[[9498]]]]]\n",
        " [[[[[9432]]]]]"
       ]
      },
      {
       "output_type": "stream",
       "stream": "stdout",
       "text": [
        "\n",
        "39894 tt0492835\n",
        ","
       ]
      },
      {
       "output_type": "stream",
       "stream": "stdout",
       "text": [
        "  [[[[[18602]]]]]\n",
        "31630 tt0216605\n",
        " [[[[[18704]]]]]"
       ]
      },
      {
       "output_type": "stream",
       "stream": "stdout",
       "text": [
        "\n",
        "32616 tt0081176\n",
        ","
       ]
      },
      {
       "output_type": "stream",
       "stream": "stdout",
       "text": [
        "  [[[[[9242]]]]]\n",
        "39671 tt0388419\n",
        " [[[[[10179]]]]]"
       ]
      },
      {
       "output_type": "stream",
       "stream": "stdout",
       "text": [
        "\n",
        "131605 tt0488807\n",
        " [[[[[18444]]]]]"
       ]
      },
      {
       "output_type": "stream",
       "stream": "stdout",
       "text": [
        "\n",
        "43610 tt0387514\n",
        " [[[[[10350]]]]]"
       ]
      },
      {
       "output_type": "stream",
       "stream": "stdout",
       "text": [
        "\n",
        "40913 tt0412019\n",
        ","
       ]
      },
      {
       "output_type": "stream",
       "stream": "stdout",
       "text": [
        " , "
       ]
      },
      {
       "output_type": "stream",
       "stream": "stdout",
       "text": [
        " [[[[[14419]]]]]\n",
        "42878 tt0379306\n",
        ","
       ]
      },
      {
       "output_type": "stream",
       "stream": "stdout",
       "text": [
        "  [[[[[9590]]]]]\n",
        "41067 tt0494678\n",
        " [[[[[9066]]]]]"
       ]
      },
      {
       "output_type": "stream",
       "stream": "stdout",
       "text": [
        "\n",
        "127868 tt0492702\n",
        ","
       ]
      },
      {
       "output_type": "stream",
       "stream": "stdout",
       "text": [
        " , "
       ]
      },
      {
       "output_type": "stream",
       "stream": "stdout",
       "text": [
        " [[[[[18366]]]]]\n",
        "44111 tt0499274\n",
        " [[[[[9495]]]]]"
       ]
      },
      {
       "output_type": "stream",
       "stream": "stdout",
       "text": [
        "\n",
        " [[[[[9849]]]]]"
       ]
      },
      {
       "output_type": "stream",
       "stream": "stdout",
       "text": [
        "\n",
        "42118 tt0487945\n",
        " [[[[[9718]]]]]"
       ]
      },
      {
       "output_type": "stream",
       "stream": "stdout",
       "text": [
        "\n",
        "42842 tt0121164\n",
        " [[[[[9237]]]]]"
       ]
      },
      {
       "output_type": "stream",
       "stream": "stdout",
       "text": [
        "\n",
        "39601 tt0488726\n",
        " [[[[[9499]]]]]"
       ]
      },
      {
       "output_type": "stream",
       "stream": "stdout",
       "text": [
        "\n",
        " [[[[[18274]]]]]"
       ]
      },
      {
       "output_type": "stream",
       "stream": "stdout",
       "text": [
        "\n",
        "44020 tt0380389\n",
        " [[[[[8099]]]]]"
       ]
      },
      {
       "output_type": "stream",
       "stream": "stdout",
       "text": [
        "\n",
        "35166 tt0775101\n",
        " [[[[[9933]]]]]"
       ]
      },
      {
       "output_type": "stream",
       "stream": "stdout",
       "text": [
        "\n",
        "41350 tt0485553\n",
        " [[[[[9800]]]]]"
       ]
      },
      {
       "output_type": "stream",
       "stream": "stdout",
       "text": [
        "\n",
        "101180 tt0488174\n",
        " [[[[[9531]]]]]"
       ]
      },
      {
       "output_type": "stream",
       "stream": "stdout",
       "text": [
        "\n",
        "39553 tt0340012\n",
        " [[[[[9283]]]]]"
       ]
      },
      {
       "output_type": "stream",
       "stream": "stdout",
       "text": [
        "\n",
        "39824 tt0474519\n",
        " [[[[[17094]]]]]"
       ]
      },
      {
       "output_type": "stream",
       "stream": "stdout",
       "text": [
        "\n",
        ", "
       ]
      },
      {
       "output_type": "stream",
       "stream": "stdout",
       "text": [
        " [[[[[9052]]]]]\n",
        "38318 tt0324554\n",
        " [[[[[9822]]]]]"
       ]
      },
      {
       "output_type": "stream",
       "stream": "stdout",
       "text": [
        "\n",
        "42245 tt0420260\n",
        " [[[[[9934]]]]]"
       ]
      },
      {
       "output_type": "stream",
       "stream": "stdout",
       "text": [
        "\n",
        "40887 tt0479716\n",
        " [[[[[6175]]]]]"
       ]
      },
      {
       "output_type": "stream",
       "stream": "stdout",
       "text": [
        "\n",
        "33090 tt0278823\n",
        " [[[[[9431]]]]]"
       ]
      },
      {
       "output_type": "stream",
       "stream": "stdout",
       "text": [
        "\n",
        "36055 tt0481815\n",
        ","
       ]
      },
      {
       "output_type": "stream",
       "stream": "stdout",
       "text": [
        " , "
       ]
      },
      {
       "output_type": "stream",
       "stream": "stdout",
       "text": [
        " [[[[[9147]]]]]\n",
        "39545 tt0375912\n",
        " [[[[[15100]]]]]"
       ]
      },
      {
       "output_type": "stream",
       "stream": "stdout",
       "text": [
        "\n",
        "40664 tt0468768\n",
        ","
       ]
      },
      {
       "output_type": "stream",
       "stream": "stdout",
       "text": [
        " , , , "
       ]
      },
      {
       "output_type": "stream",
       "stream": "stdout",
       "text": [
        " [[[[[11591]]]]]\n",
        "33821 tt0254455\n",
        " [[[[[10057]]]]]"
       ]
      },
      {
       "output_type": "stream",
       "stream": "stdout",
       "text": [
        "\n",
        "40163 tt0372237\n",
        ","
       ]
      },
      {
       "output_type": "stream",
       "stream": "stdout",
       "text": [
        " , "
       ]
      },
      {
       "output_type": "stream",
       "stream": "stdout",
       "text": [
        " [[[[[9211]]]]]\n",
        ", "
       ]
      },
      {
       "output_type": "stream",
       "stream": "stdout",
       "text": [
        " [[[[[9710]]]]]\n",
        "39911 tt0374536\n",
        " [[[[[14946]]]]]"
       ]
      },
      {
       "output_type": "stream",
       "stream": "stdout",
       "text": [
        "\n",
        "41686 tt0354594\n",
        " [[[[[9131]]]]]"
       ]
      },
      {
       "output_type": "stream",
       "stream": "stdout",
       "text": [
        "\n",
        "40762 tt0456012\n",
        " [[[[[6352]]]]]"
       ]
      },
      {
       "output_type": "stream",
       "stream": "stdout",
       "text": [
        "\n",
        "43481 -1\n",
        " [[[[[9847]]]]]"
       ]
      },
      {
       "output_type": "stream",
       "stream": "stdout",
       "text": [
        "\n",
        "41130 tt0371724\n",
        " [[[[[9953]]]]]"
       ]
      },
      {
       "output_type": "stream",
       "stream": "stdout",
       "text": [
        "\n",
        ","
       ]
      },
      {
       "output_type": "stream",
       "stream": "stdout",
       "text": [
        " , "
       ]
      },
      {
       "output_type": "stream",
       "stream": "stdout",
       "text": [
        " [[[[[9573]]]]]\n",
        "36728 -1\n",
        " [[[[[13259]]]]]"
       ]
      },
      {
       "output_type": "stream",
       "stream": "stdout",
       "text": [
        "\n",
        "16614 tt0106911\n",
        ","
       ]
      },
      {
       "output_type": "stream",
       "stream": "stdout",
       "text": [
        " , "
       ]
      },
      {
       "output_type": "stream",
       "stream": "stdout",
       "text": [
        " [[[[[9404]]]]]\n",
        "91052 tt0358082\n",
        ", , "
       ]
      },
      {
       "output_type": "stream",
       "stream": "stdout",
       "text": [
        " [[[[[12635]]]]]\n",
        "42584 tt0361089\n",
        " [[[[[9690]]]]]"
       ]
      },
      {
       "output_type": "stream",
       "stream": "stdout",
       "text": [
        "\n",
        "114276 tt0351283\n",
        ","
       ]
      },
      {
       "output_type": "stream",
       "stream": "stdout",
       "text": [
        "  [[[[[6022]]]]]\n",
        "40096 tt0468683\n",
        ","
       ]
      },
      {
       "output_type": "stream",
       "stream": "stdout",
       "text": [
        " , "
       ]
      },
      {
       "output_type": "stream",
       "stream": "stdout",
       "text": [
        " [[[[[8245]]]]]\n",
        "102672 tt0323298\n",
        ","
       ]
      },
      {
       "output_type": "stream",
       "stream": "stdout",
       "text": [
        "  [[[[[10106]]]]]\n",
        "30489 tt0168740\n",
        " [[[[[9490]]]]]"
       ]
      },
      {
       "output_type": "stream",
       "stream": "stdout",
       "text": [
        "\n",
        "39892 tt0356910\n",
        " [[[[[9269]]]]]"
       ]
      },
      {
       "output_type": "stream",
       "stream": "stdout",
       "text": [
        "\n",
        "104436 tt0436639\n",
        " [[[[[9290]]]]]"
       ]
      },
      {
       "output_type": "stream",
       "stream": "stdout",
       "text": [
        "\n",
        "39675 tt0464651\n",
        ","
       ]
      },
      {
       "output_type": "stream",
       "stream": "stdout",
       "text": [
        " , "
       ]
      },
      {
       "output_type": "stream",
       "stream": "stdout",
       "text": [
        " [[[[[9042]]]]]\n",
        "39427 -1\n",
        " [[[[[5679]]]]]"
       ]
      },
      {
       "output_type": "stream",
       "stream": "stdout",
       "text": [
        "\n",
        ", "
       ]
      },
      {
       "output_type": "stream",
       "stream": "stdout",
       "text": [
        " [[[[[10389]]]]]\n",
        "121244 -1\n",
        " [[[[[9780]]]]]"
       ]
      },
      {
       "output_type": "stream",
       "stream": "stdout",
       "text": [
        "\n",
        "40604 -1\n",
        " [[[[[10298]]]]]"
       ]
      },
      {
       "output_type": "stream",
       "stream": "stdout",
       "text": [
        "\n",
        "40743 tt0397065\n",
        ","
       ]
      },
      {
       "output_type": "stream",
       "stream": "stdout",
       "text": [
        "  [[[[[9546]]]]]\n",
        "39857 tt0393162\n",
        ","
       ]
      },
      {
       "output_type": "stream",
       "stream": "stdout",
       "text": [
        "  [[[[[9102]]]]]\n",
        "38552 tt0408777\n"
       ]
      },
      {
       "ename": "ValueError",
       "evalue": "Invalid \\escape: line 3 column 517 (char 519)",
       "output_type": "pyerr",
       "traceback": [
        "\u001b[1;31m---------------------------------------------------------------------------\u001b[0m\n\u001b[1;31mValueError\u001b[0m                                Traceback (most recent call last)",
        "\u001b[1;32m<ipython-input-21-8345f2701747>\u001b[0m in \u001b[0;36m<module>\u001b[1;34m()\u001b[0m\n\u001b[0;32m     49\u001b[0m     \u001b[1;31m#result = pool.map(save_to_db, critic.reviews)\u001b[0m\u001b[1;33m\u001b[0m\u001b[1;33m\u001b[0m\u001b[0m\n\u001b[0;32m     50\u001b[0m     \u001b[1;32mfor\u001b[0m \u001b[0mreview\u001b[0m \u001b[1;32min\u001b[0m \u001b[0mcritic\u001b[0m\u001b[1;33m.\u001b[0m\u001b[0mreviews\u001b[0m\u001b[1;33m:\u001b[0m\u001b[1;33m\u001b[0m\u001b[0m\n\u001b[1;32m---> 51\u001b[1;33m         \u001b[0msave_to_db\u001b[0m\u001b[1;33m(\u001b[0m\u001b[0mreview\u001b[0m\u001b[1;33m)\u001b[0m\u001b[1;33m\u001b[0m\u001b[0m\n\u001b[0m",
        "\u001b[1;32m<ipython-input-21-8345f2701747>\u001b[0m in \u001b[0;36msave_to_db\u001b[1;34m(i)\u001b[0m\n\u001b[0;32m     13\u001b[0m     \u001b[1;32melse\u001b[0m\u001b[1;33m:\u001b[0m\u001b[1;33m\u001b[0m\u001b[0m\n\u001b[0;32m     14\u001b[0m         \u001b[1;32mif\u001b[0m \u001b[0mi\u001b[0m\u001b[1;33m.\u001b[0m\u001b[0mmovie\u001b[0m\u001b[1;33m.\u001b[0m\u001b[0mget_info\u001b[0m\u001b[1;33m(\u001b[0m\u001b[1;33m)\u001b[0m \u001b[1;33m!=\u001b[0m \u001b[0mFalse\u001b[0m\u001b[1;33m:\u001b[0m\u001b[1;33m\u001b[0m\u001b[0m\n\u001b[1;32m---> 15\u001b[1;33m             \u001b[1;32mif\u001b[0m \u001b[0mi\u001b[0m\u001b[1;33m.\u001b[0m\u001b[0mmovie\u001b[0m\u001b[1;33m.\u001b[0m\u001b[0mget_imdb\u001b[0m\u001b[1;33m(\u001b[0m\u001b[1;33m)\u001b[0m \u001b[1;33m!=\u001b[0m \u001b[0mFalse\u001b[0m\u001b[1;33m:\u001b[0m\u001b[1;33m\u001b[0m\u001b[0m\n\u001b[0m\u001b[0;32m     16\u001b[0m                 \u001b[1;32mtry\u001b[0m\u001b[1;33m:\u001b[0m\u001b[1;33m\u001b[0m\u001b[0m\n\u001b[0;32m     17\u001b[0m                     \u001b[1;32mprint\u001b[0m \u001b[1;34m\" [[[[[%s]]]]]\"\u001b[0m \u001b[1;33m%\u001b[0m \u001b[0mi\u001b[0m\u001b[1;33m.\u001b[0m\u001b[0mmovie\u001b[0m\u001b[1;33m.\u001b[0m\u001b[0mmid\u001b[0m\u001b[1;33m\u001b[0m\u001b[0m\n",
        "\u001b[1;32m<ipython-input-17-060ccb8a36b7>\u001b[0m in \u001b[0;36mget_imdb\u001b[1;34m(self)\u001b[0m\n\u001b[0;32m    149\u001b[0m             \u001b[0mmovies\u001b[0m \u001b[1;33m=\u001b[0m \u001b[0mimdb\u001b[0m\u001b[1;33m.\u001b[0m\u001b[0mfind_by_title\u001b[0m\u001b[1;33m(\u001b[0m\u001b[0mself\u001b[0m\u001b[1;33m.\u001b[0m\u001b[0m_title_en\u001b[0m\u001b[1;33m)\u001b[0m\u001b[1;33m\u001b[0m\u001b[0m\n\u001b[0;32m    150\u001b[0m         \u001b[1;32mexcept\u001b[0m\u001b[1;33m:\u001b[0m\u001b[1;33m\u001b[0m\u001b[0m\n\u001b[1;32m--> 151\u001b[1;33m             \u001b[0mmovies\u001b[0m \u001b[1;33m=\u001b[0m \u001b[0mimdb\u001b[0m\u001b[1;33m.\u001b[0m\u001b[0mfind_by_title\u001b[0m\u001b[1;33m(\u001b[0m\u001b[0mself\u001b[0m\u001b[1;33m.\u001b[0m\u001b[0m_title_en\u001b[0m\u001b[1;33m.\u001b[0m\u001b[0mencode\u001b[0m\u001b[1;33m(\u001b[0m\u001b[1;34m'utf-8'\u001b[0m\u001b[1;33m)\u001b[0m\u001b[1;33m)\u001b[0m\u001b[1;33m\u001b[0m\u001b[0m\n\u001b[0m\u001b[0;32m    152\u001b[0m         \u001b[0mans\u001b[0m \u001b[1;33m=\u001b[0m \u001b[0mNone\u001b[0m\u001b[1;33m\u001b[0m\u001b[0m\n\u001b[0;32m    153\u001b[0m \u001b[1;33m\u001b[0m\u001b[0m\n",
        "\u001b[1;32m/usr/local/lib/python2.7/dist-packages/imdbpie/imdbpie.pyc\u001b[0m in \u001b[0;36mfind_by_title\u001b[1;34m(self, title)\u001b[0m\n\u001b[0;32m    165\u001b[0m         \u001b[0mquery_params\u001b[0m \u001b[1;33m=\u001b[0m \u001b[0murlencode\u001b[0m\u001b[1;33m(\u001b[0m\u001b[0mdefault_find_by_title_params\u001b[0m\u001b[1;33m)\u001b[0m\u001b[1;33m\u001b[0m\u001b[0m\n\u001b[0;32m    166\u001b[0m         results = self.get(\n\u001b[1;32m--> 167\u001b[1;33m             \u001b[1;33m(\u001b[0m\u001b[1;34m'http://www.imdb.com/xml/find?{0}'\u001b[0m\u001b[1;33m)\u001b[0m\u001b[1;33m.\u001b[0m\u001b[0mformat\u001b[0m\u001b[1;33m(\u001b[0m\u001b[0mquery_params\u001b[0m\u001b[1;33m)\u001b[0m\u001b[1;33m\u001b[0m\u001b[0m\n\u001b[0m\u001b[0;32m    168\u001b[0m         )\n\u001b[0;32m    169\u001b[0m \u001b[1;33m\u001b[0m\u001b[0m\n",
        "\u001b[1;32m/usr/local/lib/python2.7/dist-packages/imdbpie/imdbpie.pyc\u001b[0m in \u001b[0;36mget\u001b[1;34m(self, url)\u001b[0m\n\u001b[0;32m    290\u001b[0m \u001b[1;33m\u001b[0m\u001b[0m\n\u001b[0;32m    291\u001b[0m         \u001b[0mr\u001b[0m \u001b[1;33m=\u001b[0m \u001b[0mrequests\u001b[0m\u001b[1;33m.\u001b[0m\u001b[0mget\u001b[0m\u001b[1;33m(\u001b[0m\u001b[0murl\u001b[0m\u001b[1;33m,\u001b[0m \u001b[0mheaders\u001b[0m\u001b[1;33m=\u001b[0m\u001b[1;33m{\u001b[0m\u001b[1;34m'User-Agent'\u001b[0m\u001b[1;33m:\u001b[0m \u001b[0mself\u001b[0m\u001b[1;33m.\u001b[0m\u001b[0muser_agent\u001b[0m\u001b[1;33m}\u001b[0m\u001b[1;33m)\u001b[0m\u001b[1;33m\u001b[0m\u001b[0m\n\u001b[1;32m--> 292\u001b[1;33m         \u001b[0mresponse\u001b[0m \u001b[1;33m=\u001b[0m \u001b[0mjson\u001b[0m\u001b[1;33m.\u001b[0m\u001b[0mloads\u001b[0m\u001b[1;33m(\u001b[0m\u001b[0mr\u001b[0m\u001b[1;33m.\u001b[0m\u001b[0mcontent\u001b[0m\u001b[1;33m.\u001b[0m\u001b[0mdecode\u001b[0m\u001b[1;33m(\u001b[0m\u001b[1;34m'utf-8'\u001b[0m\u001b[1;33m)\u001b[0m\u001b[1;33m)\u001b[0m\u001b[1;33m\u001b[0m\u001b[0m\n\u001b[0m\u001b[0;32m    293\u001b[0m \u001b[1;33m\u001b[0m\u001b[0m\n\u001b[0;32m    294\u001b[0m         \u001b[1;32mif\u001b[0m \u001b[0mself\u001b[0m\u001b[1;33m.\u001b[0m\u001b[0mcaching_enabled\u001b[0m\u001b[1;33m:\u001b[0m\u001b[1;33m\u001b[0m\u001b[0m\n",
        "\u001b[1;32m/usr/lib/python2.7/json/__init__.pyc\u001b[0m in \u001b[0;36mloads\u001b[1;34m(s, encoding, cls, object_hook, parse_float, parse_int, parse_constant, object_pairs_hook, **kw)\u001b[0m\n\u001b[0;32m    336\u001b[0m             \u001b[0mparse_int\u001b[0m \u001b[1;32mis\u001b[0m \u001b[0mNone\u001b[0m \u001b[1;32mand\u001b[0m \u001b[0mparse_float\u001b[0m \u001b[1;32mis\u001b[0m \u001b[0mNone\u001b[0m \u001b[1;32mand\u001b[0m\u001b[1;33m\u001b[0m\u001b[0m\n\u001b[0;32m    337\u001b[0m             parse_constant is None and object_pairs_hook is None and not kw):\n\u001b[1;32m--> 338\u001b[1;33m         \u001b[1;32mreturn\u001b[0m \u001b[0m_default_decoder\u001b[0m\u001b[1;33m.\u001b[0m\u001b[0mdecode\u001b[0m\u001b[1;33m(\u001b[0m\u001b[0ms\u001b[0m\u001b[1;33m)\u001b[0m\u001b[1;33m\u001b[0m\u001b[0m\n\u001b[0m\u001b[0;32m    339\u001b[0m     \u001b[1;32mif\u001b[0m \u001b[0mcls\u001b[0m \u001b[1;32mis\u001b[0m \u001b[0mNone\u001b[0m\u001b[1;33m:\u001b[0m\u001b[1;33m\u001b[0m\u001b[0m\n\u001b[0;32m    340\u001b[0m         \u001b[0mcls\u001b[0m \u001b[1;33m=\u001b[0m \u001b[0mJSONDecoder\u001b[0m\u001b[1;33m\u001b[0m\u001b[0m\n",
        "\u001b[1;32m/usr/lib/python2.7/json/decoder.pyc\u001b[0m in \u001b[0;36mdecode\u001b[1;34m(self, s, _w)\u001b[0m\n\u001b[0;32m    364\u001b[0m \u001b[1;33m\u001b[0m\u001b[0m\n\u001b[0;32m    365\u001b[0m         \"\"\"\n\u001b[1;32m--> 366\u001b[1;33m         \u001b[0mobj\u001b[0m\u001b[1;33m,\u001b[0m \u001b[0mend\u001b[0m \u001b[1;33m=\u001b[0m \u001b[0mself\u001b[0m\u001b[1;33m.\u001b[0m\u001b[0mraw_decode\u001b[0m\u001b[1;33m(\u001b[0m\u001b[0ms\u001b[0m\u001b[1;33m,\u001b[0m \u001b[0midx\u001b[0m\u001b[1;33m=\u001b[0m\u001b[0m_w\u001b[0m\u001b[1;33m(\u001b[0m\u001b[0ms\u001b[0m\u001b[1;33m,\u001b[0m \u001b[1;36m0\u001b[0m\u001b[1;33m)\u001b[0m\u001b[1;33m.\u001b[0m\u001b[0mend\u001b[0m\u001b[1;33m(\u001b[0m\u001b[1;33m)\u001b[0m\u001b[1;33m)\u001b[0m\u001b[1;33m\u001b[0m\u001b[0m\n\u001b[0m\u001b[0;32m    367\u001b[0m         \u001b[0mend\u001b[0m \u001b[1;33m=\u001b[0m \u001b[0m_w\u001b[0m\u001b[1;33m(\u001b[0m\u001b[0ms\u001b[0m\u001b[1;33m,\u001b[0m \u001b[0mend\u001b[0m\u001b[1;33m)\u001b[0m\u001b[1;33m.\u001b[0m\u001b[0mend\u001b[0m\u001b[1;33m(\u001b[0m\u001b[1;33m)\u001b[0m\u001b[1;33m\u001b[0m\u001b[0m\n\u001b[0;32m    368\u001b[0m         \u001b[1;32mif\u001b[0m \u001b[0mend\u001b[0m \u001b[1;33m!=\u001b[0m \u001b[0mlen\u001b[0m\u001b[1;33m(\u001b[0m\u001b[0ms\u001b[0m\u001b[1;33m)\u001b[0m\u001b[1;33m:\u001b[0m\u001b[1;33m\u001b[0m\u001b[0m\n",
        "\u001b[1;32m/usr/lib/python2.7/json/decoder.pyc\u001b[0m in \u001b[0;36mraw_decode\u001b[1;34m(self, s, idx)\u001b[0m\n\u001b[0;32m    380\u001b[0m         \"\"\"\n\u001b[0;32m    381\u001b[0m         \u001b[1;32mtry\u001b[0m\u001b[1;33m:\u001b[0m\u001b[1;33m\u001b[0m\u001b[0m\n\u001b[1;32m--> 382\u001b[1;33m             \u001b[0mobj\u001b[0m\u001b[1;33m,\u001b[0m \u001b[0mend\u001b[0m \u001b[1;33m=\u001b[0m \u001b[0mself\u001b[0m\u001b[1;33m.\u001b[0m\u001b[0mscan_once\u001b[0m\u001b[1;33m(\u001b[0m\u001b[0ms\u001b[0m\u001b[1;33m,\u001b[0m \u001b[0midx\u001b[0m\u001b[1;33m)\u001b[0m\u001b[1;33m\u001b[0m\u001b[0m\n\u001b[0m\u001b[0;32m    383\u001b[0m         \u001b[1;32mexcept\u001b[0m \u001b[0mStopIteration\u001b[0m\u001b[1;33m:\u001b[0m\u001b[1;33m\u001b[0m\u001b[0m\n\u001b[0;32m    384\u001b[0m             \u001b[1;32mraise\u001b[0m \u001b[0mValueError\u001b[0m\u001b[1;33m(\u001b[0m\u001b[1;34m\"No JSON object could be decoded\"\u001b[0m\u001b[1;33m)\u001b[0m\u001b[1;33m\u001b[0m\u001b[0m\n",
        "\u001b[1;31mValueError\u001b[0m: Invalid \\escape: line 3 column 517 (char 519)"
       ]
      }
     ],
     "prompt_number": 21
    },
    {
     "cell_type": "code",
     "collapsed": false,
     "input": [
      "imdb.find_by_title('Matrix')"
     ],
     "language": "python",
     "metadata": {},
     "outputs": [
      {
       "metadata": {},
       "output_type": "pyout",
       "prompt_number": 20,
       "text": [
        "[{'imdb_id': u'tt0133093', 'title': u'The Matrix', 'year': u'1999'},\n",
        " {'imdb_id': u'tt0234215', 'title': u'The Matrix Reloaded', 'year': u'2003'},\n",
        " {'imdb_id': u'tt0242653',\n",
        "  'title': u'The Matrix Revolutions',\n",
        "  'year': u'2003'},\n",
        " {'imdb_id': u'tt0092106',\n",
        "  'title': u'The Transformers: The Movie',\n",
        "  'year': u'1986'},\n",
        " {'imdb_id': u'tt0106062', 'title': u'Matrix', 'year': u'1993'},\n",
        " {'imdb_id': u'tt0295432', 'title': u'The Matrix Revisited', 'year': u'2001'},\n",
        " {'imdb_id': u'tt0109151',\n",
        "  'title': u'Armitage III: Poly Matrix',\n",
        "  'year': u'1997'},\n",
        " {'imdb_id': u'tt0277828', 'title': u'Enter the Matrix', 'year': u'2003'},\n",
        " {'imdb_id': u'tt0303678', 'title': u'Armitage: Dual Matrix', 'year': u'2002'},\n",
        " {'imdb_id': u'tt1675286', 'title': u'CR: Enter the Matrix', 'year': u'2009'},\n",
        " {'imdb_id': u'tt0451118',\n",
        "  'title': u'The Matrix: Path of Neo',\n",
        "  'year': u'2005'},\n",
        " {'imdb_id': u'tt0364888', 'title': u'Threat Matrix', 'year': u'2003'},\n",
        " {'imdb_id': u'tt0274085', 'title': u'Sex and the Matrix', 'year': u'2000'},\n",
        " {'imdb_id': u'tt0270841', 'title': u'Cyber Wars', 'year': u'2004'},\n",
        " {'imdb_id': u'tt3829928', 'title': u'Dot Matrix', 'year': u'2013'},\n",
        " {'imdb_id': u'tt0970173', 'title': u'Buhera m\\xe1trix', 'year': u'2007'},\n",
        " {'imdb_id': u'tt0365467', 'title': u\"Making 'The Matrix'\", 'year': u'1999'},\n",
        " {'imdb_id': u'tt0439783',\n",
        "  'title': u\"Return to Source: Philosophy & 'The Matrix'\",\n",
        "  'year': u'2004'},\n",
        " {'imdb_id': u'tt0390244', 'title': u'The Matrix Online', 'year': u'2005'},\n",
        " {'imdb_id': u'tt0391319',\n",
        "  'title': u\"Making 'Enter the Matrix'\",\n",
        "  'year': u'2003'},\n",
        " {'imdb_id': u'tt1499960', 'title': u'The Living Matrix', 'year': u'2009'},\n",
        " {'imdb_id': u'tt0410519',\n",
        "  'title': u'The Matrix Recalibrated',\n",
        "  'year': u'2004'},\n",
        " {'imdb_id': u'tt1974203',\n",
        "  'title': u'Adventures in Odyssey: Escape from the Forbidden Matrix',\n",
        "  'year': u'2000'},\n",
        " {'imdb_id': u'tt0437137', 'title': u'Crash Course', 'year': u'2003'},\n",
        " {'imdb_id': u'tt1074193',\n",
        "  'title': u\"Decoded: The Making of 'The Matrix Reloaded'\",\n",
        "  'year': u'2003'},\n",
        " {'imdb_id': u'tt0095399', 'title': u'Jiang shi zhuo yao', 'year': u'1988'},\n",
        " {'imdb_id': u'tt2600366', 'title': u'Matrix III', 'year': u'1972'},\n",
        " {'imdb_id': u'tt1842414', 'title': u'Matrix IV', 'year': u'2010'},\n",
        " {'imdb_id': u'tt2121323', 'title': u'Matrix of Evil', 'year': u'2003'},\n",
        " {'imdb_id': u'tt1543488', 'title': u'Matrix. Wrong Number', 'year': u'2006'},\n",
        " {'imdb_id': u'tt0339779', 'title': u'Morpheus', 'year': u'2001'},\n",
        " {'imdb_id': u'tt1595473',\n",
        "  'title': u'The American Matrix: Age of Deception',\n",
        "  'year': u'2009'},\n",
        " {'imdb_id': u'tt3959436', 'title': u'The Approval Matrix', 'year': u'2014'},\n",
        " {'imdb_id': u'tt0389150', 'title': u'The Matrix Defence', 'year': u'2003'},\n",
        " {'imdb_id': u'tt1830850',\n",
        "  'title': u'The Matrix Reloaded Revisited',\n",
        "  'year': u'2004'},\n",
        " {'imdb_id': u'tt1830851',\n",
        "  'title': u'The Matrix Revolutions Revisited',\n",
        "  'year': u'2004'},\n",
        " {'imdb_id': u'tt0438231',\n",
        "  'title': u'The Matrix: The Movie Special',\n",
        "  'year': u'1999'},\n",
        " {'imdb_id': u'tt0211096', 'title': u'V-World Matrix', 'year': u'1999'},\n",
        " {'imdb_id': u'tt2355608',\n",
        "  'title': u'Bigger Questions... The Psychic Matrix',\n",
        "  'year': u'2008'},\n",
        " {'imdb_id': u'tt2010961', 'title': u'Dance 5: The Matrix', 'year': u'2006'},\n",
        " {'imdb_id': u'tt2998356', 'title': u'Dinosaur Matrix', 'year': u'1985'},\n",
        " {'imdb_id': u'tt2579522', 'title': u'Escape the Matrix', 'year': u'2012'},\n",
        " {'imdb_id': u'tt4216930', 'title': u'Escuela Matrix', 'year': u'2014'},\n",
        " {'imdb_id': u'tt3496986',\n",
        "  'title': u'Everything Is a Remix: The Matrix',\n",
        "  'year': u'2011'},\n",
        " {'imdb_id': u'tt4151794', 'title': u'Great White Matrix', 'year': u'2014'},\n",
        " {'imdb_id': u'tt2415770',\n",
        "  'title': u'Happy Tree Friends vs. Matrix',\n",
        "  'year': None},\n",
        " {'imdb_id': u'tt2972036', 'title': u'Island Matrix', 'year': u'2013'},\n",
        " {'imdb_id': u'tt0333846',\n",
        "  'title': u'M.A.N.: Matrix Adjusted Normal',\n",
        "  'year': u'1992'},\n",
        " {'imdb_id': u'tt2256757', 'title': u'Matrix.Butterfly', 'year': u'2011'},\n",
        " {'imdb_id': u'tt2971344', 'title': u'Matrix: First Dream', 'year': u'1979'},\n",
        " {'imdb_id': u'tt4413244', 'title': u'Matrix of Love', 'year': u'2008'},\n",
        " {'imdb_id': u'tt1025014',\n",
        "  'title': u'New York 360\\xba Presents: The 2007 Matrix Awards',\n",
        "  'year': u'2007'},\n",
        " {'imdb_id': u'tt3226954',\n",
        "  'title': u'Tanjeria Acting Scene: Matrix Reloaded',\n",
        "  'year': u'2013'},\n",
        " {'imdb_id': u'tt2168694',\n",
        "  'title': u'The 2004 Annual Matrix Awards',\n",
        "  'year': u'2004'},\n",
        " {'imdb_id': u'tt1863022', 'title': u'The Approval Matrix', 'year': u'2011'},\n",
        " {'imdb_id': u'tt2990982', 'title': u'The Divine Matrix', 'year': u'2008'},\n",
        " {'imdb_id': u'tt2062668', 'title': u'The Happiness Matrix', 'year': u'2011'},\n",
        " {'imdb_id': u'tt3949040', 'title': u'The Matrix (Macierz)', 'year': u'2014'},\n",
        " {'imdb_id': u'tt4071954',\n",
        "  'title': u'The Matrix: Retribution Part 1',\n",
        "  'year': u'2014'},\n",
        " {'imdb_id': u'tt2934972',\n",
        "  'title': u'Xiao Xia Long Juan Feng',\n",
        "  'year': u'1989'},\n",
        " {'imdb_id': u'tt0224086',\n",
        "  'title': u'Sex Files: Sexual Matrix',\n",
        "  'year': u'2000'},\n",
        " {'imdb_id': u'tt0273126', 'title': u'Blue Matrix', 'year': u'2001'},\n",
        " {'imdb_id': u'tt0440616', 'title': u'Matrix Pornstars', 'year': u'2004'},\n",
        " {'imdb_id': u'tt0440615', 'title': u'Matrix Nudes', 'year': u'2004'},\n",
        " {'imdb_id': u'tt0463597', 'title': u'Matrix Nudes 2', 'year': u'2005'},\n",
        " {'imdb_id': u'tt0493776', 'title': u'Matrix Nudes 3', 'year': u'2005'}]"
       ]
      },
      {
       "output_type": "stream",
       "stream": "stdout",
       "text": [
        "\n"
       ]
      }
     ],
     "prompt_number": 20
    },
    {
     "cell_type": "code",
     "collapsed": false,
     "input": [
      "idx=4\n",
      "print critics[0].reviews[idx].movie._imdb_candidates\n",
      "print critics[0].reviews[idx].movie.director_en\n",
      "print critics[0].reviews[idx].movie.director\n",
      "print critics[0].reviews[idx].movie.title_en\n",
      "print critics[0].reviews[idx].movie.title"
     ],
     "language": "python",
     "metadata": {},
     "outputs": [
      {
       "output_type": "stream",
       "stream": "stdout",
       "text": [
        "[{'year': u'2012', 'imdb_id': u'tt2071445', 'title': u'Deranged'}, {'year': u'2012', 'imdb_id': u'tt2064980', 'title': u'Theatre of the Deranged'}, {'year': u'2011', 'imdb_id': u'tt2011179', 'title': u'Paradise Deranged'}]\n",
        "Park Jungwoo\n",
        "\ubc15\uc815\uc6b0\n",
        "Deranged\n",
        "\uc5f0\uac00\uc2dc\n"
       ]
      }
     ],
     "prompt_number": 63
    },
    {
     "cell_type": "code",
     "collapsed": false,
     "input": [
      "\n",
      "body = requests.get(\"http://auto.movie.naver.com/ac?q_enc=UTF-8&st=1&r_lt=1&n_ext=1&t_koreng=1&r_format=json&r_enc=UTF-8&r_unicode=0&r_escape=1&q=%EC%9C%A0%EC%8B%A0%EC%9D%98%20%EC%B6%94%EC%96%B5%20-%20%EB%8B%A4%EC%B9%B4%ED%82%A4%20%EB%A7%88%EC%82%AC%EC%98%A4%EC%9D%98%20%EC%A0%84%EC%84%B1%EC%8B%9C%EB%8C%80\").text\n",
      "j = json.loads(body[body.find('{'):body.rfind('}')+1])\n",
      "\n",
      "for i in j['items']:\n",
      "    print i[0][1][0]"
     ],
     "language": "python",
     "metadata": {},
     "outputs": [
      {
       "output_type": "stream",
       "stream": "stdout",
       "text": [
        "20121122\n"
       ]
      },
      {
       "ename": "IndexError",
       "evalue": "list index out of range",
       "output_type": "pyerr",
       "traceback": [
        "\u001b[1;31m---------------------------------------------------------------------------\u001b[0m\n\u001b[1;31mIndexError\u001b[0m                                Traceback (most recent call last)",
        "\u001b[1;32m<ipython-input-117-0f2ee2bd82fe>\u001b[0m in \u001b[0;36m<module>\u001b[1;34m()\u001b[0m\n\u001b[0;32m      4\u001b[0m \u001b[1;33m\u001b[0m\u001b[0m\n\u001b[0;32m      5\u001b[0m \u001b[1;32mfor\u001b[0m \u001b[0mi\u001b[0m \u001b[1;32min\u001b[0m \u001b[0mj\u001b[0m\u001b[1;33m[\u001b[0m\u001b[1;34m'items'\u001b[0m\u001b[1;33m]\u001b[0m\u001b[1;33m:\u001b[0m\u001b[1;33m\u001b[0m\u001b[0m\n\u001b[1;32m----> 6\u001b[1;33m     \u001b[1;32mprint\u001b[0m \u001b[0mi\u001b[0m\u001b[1;33m[\u001b[0m\u001b[1;36m0\u001b[0m\u001b[1;33m]\u001b[0m\u001b[1;33m[\u001b[0m\u001b[1;36m1\u001b[0m\u001b[1;33m]\u001b[0m\u001b[1;33m[\u001b[0m\u001b[1;36m0\u001b[0m\u001b[1;33m]\u001b[0m\u001b[1;33m\u001b[0m\u001b[0m\n\u001b[0m",
        "\u001b[1;31mIndexError\u001b[0m: list index out of range"
       ]
      }
     ],
     "prompt_number": 117
    },
    {
     "cell_type": "code",
     "collapsed": false,
     "input": [],
     "language": "python",
     "metadata": {},
     "outputs": []
    }
   ],
   "metadata": {}
  }
 ]
}