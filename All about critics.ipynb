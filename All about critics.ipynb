{
 "metadata": {
  "name": "",
  "signature": "sha256:d800a5fdfcd56a9b0785e297b5311020f486eb67690e6b92ecc67e31ad7b4f65"
 },
 "nbformat": 3,
 "nbformat_minor": 0,
 "worksheets": [
  {
   "cells": [
    {
     "cell_type": "code",
     "collapsed": false,
     "input": [
      "from IPython.display import HTML\n",
      "\n",
      "import re\n",
      "import time\n",
      "import requests\n",
      "import json\n",
      "import urllib\n",
      "import pandas as pd\n",
      "from bs4 import BeautifulSoup\n",
      "\n",
      "from imdbpie import Imdb\n",
      "imdb = Imdb({'cache': True})\n",
      "imdb = Imdb({'cache': True, 'cache_dir': '/tmp/imdbpie-cache-here'})\n",
      "\n",
      "pd.set_option('display.max_colwidth', -1)\n",
      "\n",
      "def dataframe_with_link(df, col):\n",
      "    tmp = df.copy()\n",
      "    tmp[col] = tmp[col].apply(lambda x: '<a href=\"{0}\" target=\"_blank\">{0}</a>'.format(x))\n",
      "    return HTML(tmp.to_html(escape=False))\n",
      "\n",
      "get_movie = lambda movies, mid: [movie for movie in movies if movie.mid == mid]\n",
      "get_soup = lambda url: BeautifulSoup(requests.get(url).text)\n",
      "        \n",
      "CINE = \"http://www.cine21.com\"\n",
      "NAVER_INFO = \"http://movie.naver.com/movie/bi/mi/basic.nhn?code=\"\n",
      "NAVER_AUTO = \"http://auto.movie.naver.com/ac?q_enc=UTF-8&st=1&r_lt=1&n_ext=1&t_koreng=1&r_format=json&r_enc=UTF-8&r_unicode=0&r_escape=1&\""
     ],
     "language": "python",
     "metadata": {},
     "outputs": [],
     "prompt_number": 1
    },
    {
     "cell_type": "markdown",
     "metadata": {},
     "source": [
      "# \uc528\ub12421 \uc804\ubb38\uac00 20\uc790\ud3c9 \ub370\uc774\ud130\n",
      "\n",
      "http://www.cine21.com/review/review20"
     ]
    },
    {
     "cell_type": "code",
     "collapsed": false,
     "input": [
      "r = requests.get(\"http://www.cine21.com/review/review20\")\n",
      "soup = BeautifulSoup(r.text)\n",
      "\n",
      "div = soup.find('div','author_review')"
     ],
     "language": "python",
     "metadata": {},
     "outputs": [],
     "prompt_number": 2
    },
    {
     "cell_type": "code",
     "collapsed": false,
     "input": [
      "critics = [( ul.text, CINE + ul.a['href']) for ul in div.select(\"li\")]\n",
      "\n",
      "#critic_tbl = pd.DataFrame(critics, columns=['Name', 'URL'])\n",
      "critic_tbl = pd.DataFrame(critics, columns=['Name', 'URL'])[:3]\n",
      "\n",
      "dataframe_with_link(critic_tbl.head(), 'URL')"
     ],
     "language": "python",
     "metadata": {},
     "outputs": [
      {
       "html": [
        "<table border=\"1\" class=\"dataframe\">\n",
        "  <thead>\n",
        "    <tr style=\"text-align: right;\">\n",
        "      <th></th>\n",
        "      <th>Name</th>\n",
        "      <th>URL</th>\n",
        "    </tr>\n",
        "  </thead>\n",
        "  <tbody>\n",
        "    <tr>\n",
        "      <th>0</th>\n",
        "      <td> \uac15\ubcd1\uc9c4</td>\n",
        "      <td> <a href=\"http://www.cine21.com/review/review20/pre/E20041463\" target=\"_blank\">http://www.cine21.com/review/review20/pre/E20041463</a></td>\n",
        "    </tr>\n",
        "    <tr>\n",
        "      <th>1</th>\n",
        "      <td> \uac15\ud55c\uc12d</td>\n",
        "      <td> <a href=\"http://www.cine21.com/review/review20/pre/E20041369\" target=\"_blank\">http://www.cine21.com/review/review20/pre/E20041369</a></td>\n",
        "    </tr>\n",
        "    <tr>\n",
        "      <th>2</th>\n",
        "      <td> \uace0\uacbd\ud0dc</td>\n",
        "      <td> <a href=\"http://www.cine21.com/review/review20/pre/E20041570\" target=\"_blank\">http://www.cine21.com/review/review20/pre/E20041570</a></td>\n",
        "    </tr>\n",
        "  </tbody>\n",
        "</table>"
       ],
       "metadata": {},
       "output_type": "pyout",
       "prompt_number": 3,
       "text": [
        "<IPython.core.display.HTML at 0x7ff56d5ed850>"
       ]
      }
     ],
     "prompt_number": 3
    },
    {
     "cell_type": "code",
     "collapsed": false,
     "input": [
      "class Critic(object):\n",
      "    def __init__(self, name, link):\n",
      "        self.name = name\n",
      "        self.link = link\n",
      "        self.reviews = []\n",
      "    \n",
      "    def __repr__(self):\n",
      "        msg = '<Critic %s (%s): %s>' % (self.name, self.link, len(self.reviews))\n",
      "        return msg.encode('utf8')\n",
      "    \n",
      "def is_same_name(a,b):\n",
      "    for (x,y) in [(a,b),(b,a)]:\n",
      "        for word in x.split():\n",
      "            if word in y:\n",
      "                return True\n",
      "    return False\n",
      "\n",
      "class Movie(object):\n",
      "    def __init__(self, mid, title):\n",
      "        self.mid = mid\n",
      "        self.title = title\n",
      "        self._title_en = None\n",
      "        self._year = None\n",
      "        self._time = None\n",
      "        self._director = None\n",
      "        self._director_en = None\n",
      "        self._naver_mid = None\n",
      "        self._imdb_mid = None\n",
      "        self._imdb_candidates = []\n",
      "        \n",
      "        self._ko_user_star = None\n",
      "        self._ko_critic_star = None\n",
      "        self._fo_user_star = None\n",
      "        self._fo_critic_star = None\n",
      "        \n",
      "    @property\n",
      "    def link(self):\n",
      "        return \"http://www.cine21.com/movie/info/movie_id/\" + str(self.mid)\n",
      "    \n",
      "    @property\n",
      "    def director(self):\n",
      "        if not self._director: self.get_info()\n",
      "        return self._director\n",
      "    \n",
      "    @property\n",
      "    def director_en(self):\n",
      "        if not self._director_en: self.get_info()\n",
      "        return self._director_en\n",
      "    \n",
      "    @property\n",
      "    def time(self):\n",
      "        if not self._time: self.get_info()\n",
      "        return self._time\n",
      "    \n",
      "    @property\n",
      "    def year(self):\n",
      "        if not self._year: self.get_info()\n",
      "        return self._year\n",
      "    \n",
      "    @property\n",
      "    def title_en(self):\n",
      "        if not self._title_en: self.get_info()\n",
      "        return self._title_en\n",
      "    \n",
      "    @property\n",
      "    def naver_mid(self):\n",
      "        if not self._naver_mid: self.get_naver()\n",
      "        return self._naver_mid\n",
      "    \n",
      "    @property\n",
      "    def imdb_mid(self):\n",
      "        if not self._imdb_mid: self.get_imdb()\n",
      "        return self._imdb_mid\n",
      "    \n",
      "    def get_info(self):\n",
      "        soup = get_soup(self.link)\n",
      "        h3 = soup.select(\".desc h3\")[0].text.strip()\n",
      "        self._year = int(re.findall(r'\\(\\d\\d\\d\\d\\)$', h3)[-1][1:-1])\n",
      "        \n",
      "        tds = soup.select(\".tbl_basic3 tr td\")\n",
      "        \n",
      "        self._title_en = tds[0].text.strip()\n",
      "        self._director = tds[1].text.strip()\n",
      "        \n",
      "        try:\n",
      "            soup = get_soup(CINE + tds[1].a['href'])\n",
      "        except:\n",
      "            soup = get_soup(CINE + tds[2].a['href'])\n",
      "        self._director_en = re.findall(r'\\(.*\\)$', soup.select(\"span.name\")[0].text.strip())[-1][1:-1]\n",
      "        \n",
      "        self._time = time.strptime(tds[-1].text.strip(), \"%Y-%M-%d\")\n",
      "        \n",
      "    def get_naver(self):\n",
      "        query = urllib.urlencode({'q' : self.title.encode('utf-8')})\n",
      "        \n",
      "        body = requests.get(NAVER_AUTO + query).text\n",
      "        j = json.loads(body[body.find('{'):body.rfind('}')+1])\n",
      "        \n",
      "        ans = None\n",
      "        \n",
      "        if len(j['items']) > 2:\n",
      "            for item in j['items']:\n",
      "                if item:\n",
      "                    if not self._time: self.get_info()\n",
      "                    if self._time == time.strptime(item[0][1][0], \"%Y%M%d\") and item[0][1][-1] == \"movie\":\n",
      "                        ans = item\n",
      "                        break\n",
      "        else:\n",
      "            ans = j['items'][0]\n",
      "        \n",
      "        if not ans:\n",
      "            raise(\" [!] NAVER Movie not found\")\n",
      "            \n",
      "        self._naver_mid = ans[0][-2][0]\n",
      "            \n",
      "        #soup = get_soup(NAVER_INFO+self._naver_mid)\n",
      "        \n",
      "        \n",
      "    def get_imdb(self):\n",
      "        if not self._title_en or not self._time or not self._year:\n",
      "            self.get_info()\n",
      "\n",
      "        movies = imdb.find_by_title(self._title_en)\n",
      "        ans = None\n",
      "        \n",
      "        if len(movies) > 1:\n",
      "            self._imdb_candidates = []\n",
      "            candidates = []\n",
      "            \n",
      "            for movie in movies:\n",
      "                if movie['year']:\n",
      "                    year = int(movie['year'])\n",
      "                    \n",
      "                    if year == self._year or year == self.time.tm_year:\n",
      "                        candidates.append(movie)\n",
      "\n",
      "            if candidates != []:\n",
      "                for candidate in candidates:\n",
      "                    info = imdb.find_movie_by_id(candidate['imdb_id'])\n",
      "                    \n",
      "                    is_possible = False\n",
      "                    for director in info.directors_summary:\n",
      "                        if is_same_name(director.name, self._director_en):\n",
      "                            self._imdb_candidates.append(candidate)\n",
      "                            break\n",
      "                \n",
      "                if len(self._imdb_candidates) > 1:\n",
      "                    raise(\"Too many candidates : %s\" % self._imdb_candidates)\n",
      "                    \n",
      "                    soup = get_soup(\"http://www.imdb.com/title/%s/releaseinfo\" % candidate['imdb_id'])\n",
      "                    for tr in soup.select(\"#release_dates tr\"):\n",
      "                        if tr.find(\"a\").text == \"South Korea\":\n",
      "                            pass\n",
      "                elif len(self._imdb_candidates) == 0:\n",
      "                    self._imdb_mid = -1\n",
      "                    return\n",
      "                            \n",
      "                ans = self._imdb_candidates[0]\n",
      "            if not ans:\n",
      "                ans = movies[0]\n",
      "        else:\n",
      "            ans = movies[0]\n",
      "        \n",
      "        if not ans:\n",
      "            raise(\" [!] IMDB Movie not found\")\n",
      "            \n",
      "        self._imdb_mid = ans['imdb_id']\n",
      "        \n",
      "    def __repr__(self):\n",
      "        msg = '<Movie %s ( %s )>' % (self.title, self.link)\n",
      "        return msg.encode('utf8')\n",
      "        \n",
      "class Review(object):\n",
      "    def __init__(self, movie, text, rating):\n",
      "        self.movie = movie\n",
      "        self.text = text\n",
      "        self.rating = rating\n",
      "    \n",
      "    def __repr__(self):\n",
      "        msg = '<Review %s (%s)>' % (self.movie.title, self.rating)\n",
      "        return msg.encode('utf8')"
     ],
     "language": "python",
     "metadata": {},
     "outputs": [],
     "prompt_number": 4
    },
    {
     "cell_type": "code",
     "collapsed": false,
     "input": [
      "critics = []\n",
      "movies = []\n",
      "\n",
      "for data in critic_tbl.iterrows():\n",
      "    critic = Critic(data[1].Name, data[1].URL)\n",
      "    critics.append(critic)\n",
      "    soup = get_soup(data[1].URL)\n",
      "    \n",
      "    print critic\n",
      "    \n",
      "    pagination = soup.find('div','pagination')\n",
      "    last_page = int(pagination.select('a')[-1]['href'].split('/')[-1])\n",
      "    \n",
      "    for idx in xrange(1, last_page+1):\n",
      "        tmp_url = data[1].URL + \"/p/\" + str(idx)\n",
      "        soup = get_soup(tmp_url)\n",
      "        \n",
      "        for tr in soup.find(\"table\", \"tbl_basic4_3 td_st\").select(\"tr\"):\n",
      "            href = CINE + tr.th.a['href']\n",
      "            \n",
      "            mid = int(href.split('/')[-1])\n",
      "            movie = get_movie(movies, mid)\n",
      "            \n",
      "            if not movie:\n",
      "                title = tr.th.a.text[2:]\n",
      "                movie = Movie(mid, title)\n",
      "                \n",
      "                movies.append(movie)\n",
      "            \n",
      "            tr.th.a.extract()\n",
      "            tr.th.span.extract()\n",
      "            \n",
      "            content = tr.th.text\n",
      "            rating = int(tr.td.find(\"strong\").text)\n",
      "            \n",
      "            review = Review(movie, content, rating)\n",
      "            critic.reviews.append(review)"
     ],
     "language": "python",
     "metadata": {},
     "outputs": [
      {
       "output_type": "stream",
       "stream": "stdout",
       "text": [
        "<Critic \uac15\ubcd1\uc9c4 (http://www.cine21.com/review/review20/pre/E20041463): 0>\n",
        "<Critic \uac15\ud55c\uc12d (http://www.cine21.com/review/review20/pre/E20041369): 0>"
       ]
      },
      {
       "output_type": "stream",
       "stream": "stdout",
       "text": [
        "\n",
        "<Critic \uace0\uacbd\ud0dc (http://www.cine21.com/review/review20/pre/E20041570): 0>"
       ]
      },
      {
       "output_type": "stream",
       "stream": "stdout",
       "text": [
        "\n"
       ]
      }
     ],
     "prompt_number": 5
    },
    {
     "cell_type": "code",
     "collapsed": false,
     "input": [
      "print critics[0].reviews[15].movie.link\n",
      "print critics[0].reviews[15].movie.title_en\n",
      "print critics[0].reviews[15].movie.time.tm_year\n",
      "print critics[0].reviews[15].movie.title_en"
     ],
     "language": "python",
     "metadata": {},
     "outputs": [
      {
       "output_type": "stream",
       "stream": "stdout",
       "text": [
        "http://www.cine21.com/movie/info/movie_id/33636\n",
        "Neverending Story"
       ]
      },
      {
       "output_type": "stream",
       "stream": "stdout",
       "text": [
        "\n",
        "2012\n",
        "Neverending Story\n"
       ]
      }
     ],
     "prompt_number": 134
    },
    {
     "cell_type": "code",
     "collapsed": false,
     "input": [
      "for critic in critics:\n",
      "    for i in critic.reviews:\n",
      "        print i.movie\n",
      "        i.movie.get_imdb()\n",
      "        if not i.movie._imdb_candidates:\n",
      "            print \"=================> %s \" % i.movie"
     ],
     "language": "python",
     "metadata": {},
     "outputs": [
      {
       "output_type": "stream",
       "stream": "stdout",
       "text": [
        "<Movie \uc720\uc2e0\uc758 \ucd94\uc5b5 - \ub2e4\uce74\ud0a4 \ub9c8\uc0ac\uc624\uc758 \uc804\uc131\uc2dc\ub300 (http://www.cine21.com/movie/info/movie_id/37773)>\n",
        "=================> <Movie \uc720\uc2e0\uc758 \ucd94\uc5b5 - \ub2e4\uce74\ud0a4 \ub9c8\uc0ac\uc624\uc758 \uc804\uc131\uc2dc\ub300 (http://www.cine21.com/movie/info/movie_id/37773)> "
       ]
      },
      {
       "output_type": "stream",
       "stream": "stdout",
       "text": [
        "\n",
        "<Movie \ud130\uce58 (http://www.cine21.com/movie/info/movie_id/37421)>\n",
        "<Movie \ubca8\uc544\ubbf8 (http://www.cine21.com/movie/info/movie_id/30703)>"
       ]
      },
      {
       "output_type": "stream",
       "stream": "stdout",
       "text": [
        "\n",
        "<Movie \ubaa8\ubaa8\uc640 \ub2e4\ub77d\ubc29\uc758 \uc218\uc0c1\ud55c \uc694\uad34\ub4e4 (http://www.cine21.com/movie/info/movie_id/33533)>"
       ]
      },
      {
       "output_type": "stream",
       "stream": "stdout",
       "text": [
        "\n",
        "<Movie \uc5f0\uac00\uc2dc (http://www.cine21.com/movie/info/movie_id/33880)>"
       ]
      },
      {
       "output_type": "stream",
       "stream": "stdout",
       "text": [
        "\n",
        "<Movie \ubbf8\uc4f0GO (http://www.cine21.com/movie/info/movie_id/31264)>"
       ]
      },
      {
       "output_type": "stream",
       "stream": "stdout",
       "text": [
        "\n",
        "<Movie \ub450 \uac1c\uc758 \ubb38 (http://www.cine21.com/movie/info/movie_id/29484)>"
       ]
      },
      {
       "output_type": "stream",
       "stream": "stdout",
       "text": [
        "\n",
        "=================> <Movie \ub450 \uac1c\uc758 \ubb38 (http://www.cine21.com/movie/info/movie_id/29484)> "
       ]
      },
      {
       "output_type": "stream",
       "stream": "stdout",
       "text": [
        "\n",
        "<Movie \ud6c4\uad81: \uc81c\uc655\uc758 \ucca9 (http://www.cine21.com/movie/info/movie_id/33927)>\n",
        "<Movie \ub0b4 \uc544\ub0b4\uc758 \ubaa8\ub4e0 \uac83 (http://www.cine21.com/movie/info/movie_id/33878)>"
       ]
      },
      {
       "output_type": "stream",
       "stream": "stdout",
       "text": [
        "\n",
        "<Movie \uceec\ub7ec\ud480 (http://www.cine21.com/movie/info/movie_id/29058)>"
       ]
      },
      {
       "output_type": "stream",
       "stream": "stdout",
       "text": [
        "\n",
        "<Movie \uc774\ubbfc\uc790 (http://www.cine21.com/movie/info/movie_id/34677)>"
       ]
      },
      {
       "output_type": "stream",
       "stream": "stdout",
       "text": [
        "\n",
        "<Movie \ubbf8\ub140\uc640 \uc57c\uc218 (http://www.cine21.com/movie/info/movie_id/12224)>"
       ]
      },
      {
       "output_type": "stream",
       "stream": "stdout",
       "text": [
        "\n",
        "<Movie \ud654\ucc28 (http://www.cine21.com/movie/info/movie_id/26825)>"
       ]
      },
      {
       "output_type": "stream",
       "stream": "stdout",
       "text": [
        "\n",
        "<Movie \ub808\uc804\ub4dc \uc624\ube0c \ub798\ube57 (http://www.cine21.com/movie/info/movie_id/33534)>"
       ]
      },
      {
       "output_type": "stream",
       "stream": "stdout",
       "text": [
        "\n",
        "<Movie \ubc94\uc8c4\uc640\uc758 \uc804\uc7c1 : \ub098\uc05c\ub188\ub4e4 \uc804\uc131\uc2dc\ub300 (http://www.cine21.com/movie/info/movie_id/27425)>"
       ]
      },
      {
       "output_type": "stream",
       "stream": "stdout",
       "text": [
        "\n",
        "=================> <Movie \ubc94\uc8c4\uc640\uc758 \uc804\uc7c1 : \ub098\uc05c\ub188\ub4e4 \uc804\uc131\uc2dc\ub300 (http://www.cine21.com/movie/info/movie_id/27425)> "
       ]
      },
      {
       "output_type": "stream",
       "stream": "stdout",
       "text": [
        "\n",
        "<Movie \ub124\ubc84\uc5d4\ub529 \uc2a4\ud1a0\ub9ac (http://www.cine21.com/movie/info/movie_id/33636)>\n",
        "<Movie \ubd80\ub7ec\uc9c4 \ud654\uc0b4 (http://www.cine21.com/movie/info/movie_id/33363)>"
       ]
      },
      {
       "output_type": "stream",
       "stream": "stdout",
       "text": [
        "\n",
        "=================> <Movie \ubd80\ub7ec\uc9c4 \ud654\uc0b4 (http://www.cine21.com/movie/info/movie_id/33363)> "
       ]
      },
      {
       "output_type": "stream",
       "stream": "stdout",
       "text": [
        "\n",
        "<Movie \ub9c8\uc774\uc6e8\uc774 (http://www.cine21.com/movie/info/movie_id/28019)>\n",
        "<Movie \uc545\uc778\uc740 \ub108\ubb34 \ub9ce\ub2e4 (http://www.cine21.com/movie/info/movie_id/33762)>"
       ]
      },
      {
       "output_type": "stream",
       "stream": "stdout",
       "text": [
        "\n",
        "<Movie \uacb0\uc815\uc801 \ud55c\ubc29 (http://www.cine21.com/movie/info/movie_id/33875)>"
       ]
      },
      {
       "output_type": "stream",
       "stream": "stdout",
       "text": [
        "\n",
        "=================> <Movie \uacb0\uc815\uc801 \ud55c\ubc29 (http://www.cine21.com/movie/info/movie_id/33875)> "
       ]
      },
      {
       "output_type": "stream",
       "stream": "stdout",
       "text": [
        "\n",
        "<Movie \ube0c\ub808\uc774\ud0b9 \ub358 part1 (http://www.cine21.com/movie/info/movie_id/29067)>\n",
        "<Movie \ubc31\uc0ac\ub300\uc804 (http://www.cine21.com/movie/info/movie_id/33482)>"
       ]
      },
      {
       "output_type": "stream",
       "stream": "stdout",
       "text": [
        "\n",
        "<Movie \ud2f0\ub04c\ubaa8\uc544 \ub85c\ub9e8\uc2a4 (http://www.cine21.com/movie/info/movie_id/30542)>"
       ]
      },
      {
       "output_type": "stream",
       "stream": "stdout",
       "text": [
        "\n",
        "<Movie \ub108\ub294 \ud3ab (http://www.cine21.com/movie/info/movie_id/28410)>"
       ]
      },
      {
       "output_type": "stream",
       "stream": "stdout",
       "text": [
        "\n",
        "<Movie \uccad\uc6d0 (http://www.cine21.com/movie/info/movie_id/30360)>"
       ]
      },
      {
       "output_type": "stream",
       "stream": "stdout",
       "text": [
        "\n",
        "=================> <Movie \uccad\uc6d0 (http://www.cine21.com/movie/info/movie_id/30360)> "
       ]
      },
      {
       "output_type": "stream",
       "stream": "stdout",
       "text": [
        "\n",
        "<Movie \ucee4\ud50c\uc988 (http://www.cine21.com/movie/info/movie_id/31345)>\n",
        "=================> <Movie \ucee4\ud50c\uc988 (http://www.cine21.com/movie/info/movie_id/31345)> "
       ]
      },
      {
       "output_type": "stream",
       "stream": "stdout",
       "text": [
        "\n",
        "<Movie \uc624\uc9c1 \uadf8\ub300\ub9cc (http://www.cine21.com/movie/info/movie_id/30767)>\n",
        "<Movie \uc138 \uc5bc\uac04\uc774 (http://www.cine21.com/movie/info/movie_id/28206)>"
       ]
      },
      {
       "output_type": "stream",
       "stream": "stdout",
       "text": [
        "\n",
        "<Movie \uce74\uc6b0\ubcf4\uc774 & \uc5d0\uc774\ub9ac\uc5b8 (http://www.cine21.com/movie/info/movie_id/25423)>"
       ]
      },
      {
       "output_type": "stream",
       "stream": "stdout",
       "text": [
        "\n",
        "<Movie \ucd5c\uc885\ubcd1\uae30 \ud65c (http://www.cine21.com/movie/info/movie_id/31990)>"
       ]
      },
      {
       "output_type": "stream",
       "stream": "stdout",
       "text": [
        "\n",
        "<Movie 7\uad11\uad6c (http://www.cine21.com/movie/info/movie_id/28060)>"
       ]
      },
      {
       "output_type": "stream",
       "stream": "stdout",
       "text": [
        "\n",
        "<Movie \ud37c\uc2a4\ud2b8 \uc5b4\ubca4\uc838 (http://www.cine21.com/movie/info/movie_id/30900)>"
       ]
      },
      {
       "output_type": "stream",
       "stream": "stdout",
       "text": [
        "\n",
        "<Movie \uace0\uc9c0\uc804 (http://www.cine21.com/movie/info/movie_id/28318)>"
       ]
      },
      {
       "output_type": "stream",
       "stream": "stdout",
       "text": [
        "\n",
        "<Movie \ud035 (http://www.cine21.com/movie/info/movie_id/29076)>"
       ]
      },
      {
       "output_type": "stream",
       "stream": "stdout",
       "text": [
        "\n",
        "=================> <Movie \ud035 (http://www.cine21.com/movie/info/movie_id/29076)> "
       ]
      },
      {
       "output_type": "stream",
       "stream": "stdout",
       "text": [
        "\n",
        "<Movie \uace0 \ub140\uc11d \ub9db\ub098\uaca0\ub2e4 (http://www.cine21.com/movie/info/movie_id/30088)>\n",
        "<Movie \uace0\uc591\uc774: \uc8fd\uc74c\uc744 \ubcf4\ub294 \ub450\uac1c\uc758 \ub208 (http://www.cine21.com/movie/info/movie_id/30671)>"
       ]
      },
      {
       "output_type": "stream",
       "stream": "stdout",
       "text": [
        "\n",
        "=================> <Movie \uace0\uc591\uc774: \uc8fd\uc74c\uc744 \ubcf4\ub294 \ub450\uac1c\uc758 \ub208 (http://www.cine21.com/movie/info/movie_id/30671)> "
       ]
      },
      {
       "output_type": "stream",
       "stream": "stdout",
       "text": [
        "\n",
        "<Movie \ub9c8\ub9c8 (http://www.cine21.com/movie/info/movie_id/30429)>\n",
        "<Movie \ub098\ub294 \uc544\ube60\ub2e4 (http://www.cine21.com/movie/info/movie_id/31207)>"
       ]
      },
      {
       "output_type": "stream",
       "stream": "stdout",
       "text": [
        "\n",
        "=================> <Movie \ub098\ub294 \uc544\ube60\ub2e4 (http://www.cine21.com/movie/info/movie_id/31207)> "
       ]
      },
      {
       "output_type": "stream",
       "stream": "stdout",
       "text": [
        "\n",
        "<Movie \uad7f\ubc14\uc774, \ud3c9\uc591 (http://www.cine21.com/movie/info/movie_id/30874)>\n",
        "=================> <Movie \uad7f\ubc14\uc774, \ud3c9\uc591 (http://www.cine21.com/movie/info/movie_id/30874)> "
       ]
      },
      {
       "output_type": "stream",
       "stream": "stdout",
       "text": [
        "\n",
        "<Movie \ub7ad\uace0 (http://www.cine21.com/movie/info/movie_id/30246)>\n",
        "<Movie \ud30c\uc218\uafbc (http://www.cine21.com/movie/info/movie_id/28413)>"
       ]
      },
      {
       "output_type": "stream",
       "stream": "stdout",
       "text": [
        "\n",
        "<Movie \uc544\uc774\ub4e4... (http://www.cine21.com/movie/info/movie_id/28928)>"
       ]
      },
      {
       "output_type": "stream",
       "stream": "stdout",
       "text": [
        "\n"
       ]
      },
      {
       "ename": "UnicodeEncodeError",
       "evalue": "'ascii' codec can't encode character u'\\u2026' in position 8: ordinal not in range(128)",
       "output_type": "pyerr",
       "traceback": [
        "\u001b[1;31m---------------------------------------------------------------------------\u001b[0m\n\u001b[1;31mUnicodeEncodeError\u001b[0m                        Traceback (most recent call last)",
        "\u001b[1;32m<ipython-input-6-c41026eddfdf>\u001b[0m in \u001b[0;36m<module>\u001b[1;34m()\u001b[0m\n\u001b[0;32m      2\u001b[0m     \u001b[1;32mfor\u001b[0m \u001b[0mi\u001b[0m \u001b[1;32min\u001b[0m \u001b[0mcritic\u001b[0m\u001b[1;33m.\u001b[0m\u001b[0mreviews\u001b[0m\u001b[1;33m:\u001b[0m\u001b[1;33m\u001b[0m\u001b[0m\n\u001b[0;32m      3\u001b[0m         \u001b[1;32mprint\u001b[0m \u001b[0mi\u001b[0m\u001b[1;33m.\u001b[0m\u001b[0mmovie\u001b[0m\u001b[1;33m\u001b[0m\u001b[0m\n\u001b[1;32m----> 4\u001b[1;33m         \u001b[0mi\u001b[0m\u001b[1;33m.\u001b[0m\u001b[0mmovie\u001b[0m\u001b[1;33m.\u001b[0m\u001b[0mget_imdb\u001b[0m\u001b[1;33m(\u001b[0m\u001b[1;33m)\u001b[0m\u001b[1;33m\u001b[0m\u001b[0m\n\u001b[0m\u001b[0;32m      5\u001b[0m         \u001b[1;32mif\u001b[0m \u001b[1;32mnot\u001b[0m \u001b[0mi\u001b[0m\u001b[1;33m.\u001b[0m\u001b[0mmovie\u001b[0m\u001b[1;33m.\u001b[0m\u001b[0m_imdb_candidates\u001b[0m\u001b[1;33m:\u001b[0m\u001b[1;33m\u001b[0m\u001b[0m\n\u001b[0;32m      6\u001b[0m             \u001b[1;32mprint\u001b[0m \u001b[1;34m\"=================> %s \"\u001b[0m \u001b[1;33m%\u001b[0m \u001b[0mi\u001b[0m\u001b[1;33m.\u001b[0m\u001b[0mmovie\u001b[0m\u001b[1;33m\u001b[0m\u001b[0m\n",
        "\u001b[1;32m<ipython-input-4-c2d28f9a6eb7>\u001b[0m in \u001b[0;36mget_imdb\u001b[1;34m(self)\u001b[0m\n\u001b[0;32m    121\u001b[0m             \u001b[0mself\u001b[0m\u001b[1;33m.\u001b[0m\u001b[0mget_info\u001b[0m\u001b[1;33m(\u001b[0m\u001b[1;33m)\u001b[0m\u001b[1;33m\u001b[0m\u001b[0m\n\u001b[0;32m    122\u001b[0m \u001b[1;33m\u001b[0m\u001b[0m\n\u001b[1;32m--> 123\u001b[1;33m         \u001b[0mmovies\u001b[0m \u001b[1;33m=\u001b[0m \u001b[0mimdb\u001b[0m\u001b[1;33m.\u001b[0m\u001b[0mfind_by_title\u001b[0m\u001b[1;33m(\u001b[0m\u001b[0mself\u001b[0m\u001b[1;33m.\u001b[0m\u001b[0m_title_en\u001b[0m\u001b[1;33m)\u001b[0m\u001b[1;33m\u001b[0m\u001b[0m\n\u001b[0m\u001b[0;32m    124\u001b[0m         \u001b[0mans\u001b[0m \u001b[1;33m=\u001b[0m \u001b[0mNone\u001b[0m\u001b[1;33m\u001b[0m\u001b[0m\n\u001b[0;32m    125\u001b[0m \u001b[1;33m\u001b[0m\u001b[0m\n",
        "\u001b[1;32m/usr/local/lib/python2.7/dist-packages/imdbpie/imdbpie.pyc\u001b[0m in \u001b[0;36mfind_by_title\u001b[1;34m(self, title)\u001b[0m\n\u001b[0;32m    163\u001b[0m             \u001b[1;34m'q'\u001b[0m\u001b[1;33m:\u001b[0m \u001b[0mtitle\u001b[0m\u001b[1;33m\u001b[0m\u001b[0m\n\u001b[0;32m    164\u001b[0m         }\n\u001b[1;32m--> 165\u001b[1;33m         \u001b[0mquery_params\u001b[0m \u001b[1;33m=\u001b[0m \u001b[0murlencode\u001b[0m\u001b[1;33m(\u001b[0m\u001b[0mdefault_find_by_title_params\u001b[0m\u001b[1;33m)\u001b[0m\u001b[1;33m\u001b[0m\u001b[0m\n\u001b[0m\u001b[0;32m    166\u001b[0m         results = self.get(\n\u001b[0;32m    167\u001b[0m             \u001b[1;33m(\u001b[0m\u001b[1;34m'http://www.imdb.com/xml/find?{0}'\u001b[0m\u001b[1;33m)\u001b[0m\u001b[1;33m.\u001b[0m\u001b[0mformat\u001b[0m\u001b[1;33m(\u001b[0m\u001b[0mquery_params\u001b[0m\u001b[1;33m)\u001b[0m\u001b[1;33m\u001b[0m\u001b[0m\n",
        "\u001b[1;32m/usr/lib/python2.7/urllib.pyc\u001b[0m in \u001b[0;36murlencode\u001b[1;34m(query, doseq)\u001b[0m\n\u001b[0;32m   1330\u001b[0m         \u001b[1;32mfor\u001b[0m \u001b[0mk\u001b[0m\u001b[1;33m,\u001b[0m \u001b[0mv\u001b[0m \u001b[1;32min\u001b[0m \u001b[0mquery\u001b[0m\u001b[1;33m:\u001b[0m\u001b[1;33m\u001b[0m\u001b[0m\n\u001b[0;32m   1331\u001b[0m             \u001b[0mk\u001b[0m \u001b[1;33m=\u001b[0m \u001b[0mquote_plus\u001b[0m\u001b[1;33m(\u001b[0m\u001b[0mstr\u001b[0m\u001b[1;33m(\u001b[0m\u001b[0mk\u001b[0m\u001b[1;33m)\u001b[0m\u001b[1;33m)\u001b[0m\u001b[1;33m\u001b[0m\u001b[0m\n\u001b[1;32m-> 1332\u001b[1;33m             \u001b[0mv\u001b[0m \u001b[1;33m=\u001b[0m \u001b[0mquote_plus\u001b[0m\u001b[1;33m(\u001b[0m\u001b[0mstr\u001b[0m\u001b[1;33m(\u001b[0m\u001b[0mv\u001b[0m\u001b[1;33m)\u001b[0m\u001b[1;33m)\u001b[0m\u001b[1;33m\u001b[0m\u001b[0m\n\u001b[0m\u001b[0;32m   1333\u001b[0m             \u001b[0ml\u001b[0m\u001b[1;33m.\u001b[0m\u001b[0mappend\u001b[0m\u001b[1;33m(\u001b[0m\u001b[0mk\u001b[0m \u001b[1;33m+\u001b[0m \u001b[1;34m'='\u001b[0m \u001b[1;33m+\u001b[0m \u001b[0mv\u001b[0m\u001b[1;33m)\u001b[0m\u001b[1;33m\u001b[0m\u001b[0m\n\u001b[0;32m   1334\u001b[0m     \u001b[1;32melse\u001b[0m\u001b[1;33m:\u001b[0m\u001b[1;33m\u001b[0m\u001b[0m\n",
        "\u001b[1;31mUnicodeEncodeError\u001b[0m: 'ascii' codec can't encode character u'\\u2026' in position 8: ordinal not in range(128)"
       ]
      }
     ],
     "prompt_number": 6
    },
    {
     "cell_type": "code",
     "collapsed": false,
     "input": [
      "i.movie._imdb_candidates"
     ],
     "language": "python",
     "metadata": {},
     "outputs": [
      {
       "metadata": {},
       "output_type": "pyout",
       "prompt_number": 131,
       "text": [
        "[{'imdb_id': u'tt1677561', 'title': u'Colorful', 'year': u'2010'}]"
       ]
      }
     ],
     "prompt_number": 131
    },
    {
     "cell_type": "code",
     "collapsed": false,
     "input": [
      "idx=4\n",
      "print critics[0].reviews[idx].movie._imdb_candidates\n",
      "print critics[0].reviews[idx].movie.director_en\n",
      "print critics[0].reviews[idx].movie.director\n",
      "print critics[0].reviews[idx].movie.title_en\n",
      "print critics[0].reviews[idx].movie.title"
     ],
     "language": "python",
     "metadata": {},
     "outputs": [
      {
       "output_type": "stream",
       "stream": "stdout",
       "text": [
        "[{'year': u'2012', 'imdb_id': u'tt2071445', 'title': u'Deranged'}, {'year': u'2012', 'imdb_id': u'tt2064980', 'title': u'Theatre of the Deranged'}, {'year': u'2011', 'imdb_id': u'tt2011179', 'title': u'Paradise Deranged'}]\n",
        "Park Jungwoo\n",
        "\ubc15\uc815\uc6b0\n",
        "Deranged\n",
        "\uc5f0\uac00\uc2dc\n"
       ]
      }
     ],
     "prompt_number": 63
    },
    {
     "cell_type": "code",
     "collapsed": false,
     "input": [
      "\n",
      "body = requests.get(\"http://auto.movie.naver.com/ac?q_enc=UTF-8&st=1&r_lt=1&n_ext=1&t_koreng=1&r_format=json&r_enc=UTF-8&r_unicode=0&r_escape=1&q=%EC%9C%A0%EC%8B%A0%EC%9D%98%20%EC%B6%94%EC%96%B5%20-%20%EB%8B%A4%EC%B9%B4%ED%82%A4%20%EB%A7%88%EC%82%AC%EC%98%A4%EC%9D%98%20%EC%A0%84%EC%84%B1%EC%8B%9C%EB%8C%80\").text\n",
      "j = json.loads(body[body.find('{'):body.rfind('}')+1])\n",
      "\n",
      "for i in j['items']:\n",
      "    print i[0][1][0]"
     ],
     "language": "python",
     "metadata": {},
     "outputs": [
      {
       "output_type": "stream",
       "stream": "stdout",
       "text": [
        "20121122\n"
       ]
      },
      {
       "ename": "IndexError",
       "evalue": "list index out of range",
       "output_type": "pyerr",
       "traceback": [
        "\u001b[1;31m---------------------------------------------------------------------------\u001b[0m\n\u001b[1;31mIndexError\u001b[0m                                Traceback (most recent call last)",
        "\u001b[1;32m<ipython-input-117-0f2ee2bd82fe>\u001b[0m in \u001b[0;36m<module>\u001b[1;34m()\u001b[0m\n\u001b[0;32m      4\u001b[0m \u001b[1;33m\u001b[0m\u001b[0m\n\u001b[0;32m      5\u001b[0m \u001b[1;32mfor\u001b[0m \u001b[0mi\u001b[0m \u001b[1;32min\u001b[0m \u001b[0mj\u001b[0m\u001b[1;33m[\u001b[0m\u001b[1;34m'items'\u001b[0m\u001b[1;33m]\u001b[0m\u001b[1;33m:\u001b[0m\u001b[1;33m\u001b[0m\u001b[0m\n\u001b[1;32m----> 6\u001b[1;33m     \u001b[1;32mprint\u001b[0m \u001b[0mi\u001b[0m\u001b[1;33m[\u001b[0m\u001b[1;36m0\u001b[0m\u001b[1;33m]\u001b[0m\u001b[1;33m[\u001b[0m\u001b[1;36m1\u001b[0m\u001b[1;33m]\u001b[0m\u001b[1;33m[\u001b[0m\u001b[1;36m0\u001b[0m\u001b[1;33m]\u001b[0m\u001b[1;33m\u001b[0m\u001b[0m\n\u001b[0m",
        "\u001b[1;31mIndexError\u001b[0m: list index out of range"
       ]
      }
     ],
     "prompt_number": 117
    },
    {
     "cell_type": "code",
     "collapsed": false,
     "input": [],
     "language": "python",
     "metadata": {},
     "outputs": []
    }
   ],
   "metadata": {}
  }
 ]
}